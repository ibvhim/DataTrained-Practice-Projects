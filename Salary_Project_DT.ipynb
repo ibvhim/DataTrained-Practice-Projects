{
 "cells": [
  {
   "cell_type": "code",
   "execution_count": 125,
   "id": "88111e9e",
   "metadata": {},
   "outputs": [],
   "source": [
    "#importing all the necessary libraries\n",
    "\n",
    "import pandas as pd\n",
    "import numpy as np\n",
    "import seaborn as sns\n",
    "import matplotlib.pyplot as plt\n",
    "from scipy.stats import zscore\n",
    "import sklearn.metrics as metrics\n",
    "from sklearn.metrics import mean_absolute_error,mean_squared_error,r2_score\n",
    "from sklearn.linear_model import Lasso\n",
    "from sklearn.model_selection import GridSearchCV\n",
    "from sklearn.model_selection import cross_val_score\n",
    "import pickle\n",
    "\n",
    "import warnings\n",
    "warnings.filterwarnings('ignore')"
   ]
  },
  {
   "cell_type": "markdown",
   "id": "9dd1ce0b",
   "metadata": {},
   "source": [
    "### Importing the data"
   ]
  },
  {
   "cell_type": "code",
   "execution_count": 126,
   "id": "4f4e7341",
   "metadata": {},
   "outputs": [
    {
     "data": {
      "text/html": [
       "<div>\n",
       "<style scoped>\n",
       "    .dataframe tbody tr th:only-of-type {\n",
       "        vertical-align: middle;\n",
       "    }\n",
       "\n",
       "    .dataframe tbody tr th {\n",
       "        vertical-align: top;\n",
       "    }\n",
       "\n",
       "    .dataframe thead th {\n",
       "        text-align: right;\n",
       "    }\n",
       "</style>\n",
       "<table border=\"1\" class=\"dataframe\">\n",
       "  <thead>\n",
       "    <tr style=\"text-align: right;\">\n",
       "      <th></th>\n",
       "      <th>rank</th>\n",
       "      <th>discipline</th>\n",
       "      <th>yrs.since.phd</th>\n",
       "      <th>yrs.service</th>\n",
       "      <th>sex</th>\n",
       "      <th>salary</th>\n",
       "    </tr>\n",
       "  </thead>\n",
       "  <tbody>\n",
       "    <tr>\n",
       "      <th>0</th>\n",
       "      <td>Prof</td>\n",
       "      <td>B</td>\n",
       "      <td>19</td>\n",
       "      <td>18</td>\n",
       "      <td>Male</td>\n",
       "      <td>139750</td>\n",
       "    </tr>\n",
       "    <tr>\n",
       "      <th>1</th>\n",
       "      <td>Prof</td>\n",
       "      <td>B</td>\n",
       "      <td>20</td>\n",
       "      <td>16</td>\n",
       "      <td>Male</td>\n",
       "      <td>173200</td>\n",
       "    </tr>\n",
       "    <tr>\n",
       "      <th>2</th>\n",
       "      <td>AsstProf</td>\n",
       "      <td>B</td>\n",
       "      <td>4</td>\n",
       "      <td>3</td>\n",
       "      <td>Male</td>\n",
       "      <td>79750</td>\n",
       "    </tr>\n",
       "    <tr>\n",
       "      <th>3</th>\n",
       "      <td>Prof</td>\n",
       "      <td>B</td>\n",
       "      <td>45</td>\n",
       "      <td>39</td>\n",
       "      <td>Male</td>\n",
       "      <td>115000</td>\n",
       "    </tr>\n",
       "    <tr>\n",
       "      <th>4</th>\n",
       "      <td>Prof</td>\n",
       "      <td>B</td>\n",
       "      <td>40</td>\n",
       "      <td>41</td>\n",
       "      <td>Male</td>\n",
       "      <td>141500</td>\n",
       "    </tr>\n",
       "    <tr>\n",
       "      <th>...</th>\n",
       "      <td>...</td>\n",
       "      <td>...</td>\n",
       "      <td>...</td>\n",
       "      <td>...</td>\n",
       "      <td>...</td>\n",
       "      <td>...</td>\n",
       "    </tr>\n",
       "    <tr>\n",
       "      <th>392</th>\n",
       "      <td>Prof</td>\n",
       "      <td>A</td>\n",
       "      <td>33</td>\n",
       "      <td>30</td>\n",
       "      <td>Male</td>\n",
       "      <td>103106</td>\n",
       "    </tr>\n",
       "    <tr>\n",
       "      <th>393</th>\n",
       "      <td>Prof</td>\n",
       "      <td>A</td>\n",
       "      <td>31</td>\n",
       "      <td>19</td>\n",
       "      <td>Male</td>\n",
       "      <td>150564</td>\n",
       "    </tr>\n",
       "    <tr>\n",
       "      <th>394</th>\n",
       "      <td>Prof</td>\n",
       "      <td>A</td>\n",
       "      <td>42</td>\n",
       "      <td>25</td>\n",
       "      <td>Male</td>\n",
       "      <td>101738</td>\n",
       "    </tr>\n",
       "    <tr>\n",
       "      <th>395</th>\n",
       "      <td>Prof</td>\n",
       "      <td>A</td>\n",
       "      <td>25</td>\n",
       "      <td>15</td>\n",
       "      <td>Male</td>\n",
       "      <td>95329</td>\n",
       "    </tr>\n",
       "    <tr>\n",
       "      <th>396</th>\n",
       "      <td>AsstProf</td>\n",
       "      <td>A</td>\n",
       "      <td>8</td>\n",
       "      <td>4</td>\n",
       "      <td>Male</td>\n",
       "      <td>81035</td>\n",
       "    </tr>\n",
       "  </tbody>\n",
       "</table>\n",
       "<p>397 rows × 6 columns</p>\n",
       "</div>"
      ],
      "text/plain": [
       "         rank discipline  yrs.since.phd  yrs.service   sex  salary\n",
       "0        Prof          B             19           18  Male  139750\n",
       "1        Prof          B             20           16  Male  173200\n",
       "2    AsstProf          B              4            3  Male   79750\n",
       "3        Prof          B             45           39  Male  115000\n",
       "4        Prof          B             40           41  Male  141500\n",
       "..        ...        ...            ...          ...   ...     ...\n",
       "392      Prof          A             33           30  Male  103106\n",
       "393      Prof          A             31           19  Male  150564\n",
       "394      Prof          A             42           25  Male  101738\n",
       "395      Prof          A             25           15  Male   95329\n",
       "396  AsstProf          A              8            4  Male   81035\n",
       "\n",
       "[397 rows x 6 columns]"
      ]
     },
     "execution_count": 126,
     "metadata": {},
     "output_type": "execute_result"
    }
   ],
   "source": [
    "df = pd.read_csv('Salaries.csv')\n",
    "df"
   ]
  },
  {
   "cell_type": "code",
   "execution_count": 127,
   "id": "18b10ad7",
   "metadata": {},
   "outputs": [
    {
     "data": {
      "text/plain": [
       "0"
      ]
     },
     "execution_count": 127,
     "metadata": {},
     "output_type": "execute_result"
    }
   ],
   "source": [
    "#to search for the presence of null values in the dataset\n",
    "df.isnull().sum().sum()"
   ]
  },
  {
   "cell_type": "code",
   "execution_count": 128,
   "id": "5107aa62",
   "metadata": {},
   "outputs": [
    {
     "data": {
      "text/plain": [
       "Index(['rank', 'discipline', 'yrs.since.phd', 'yrs.service', 'sex', 'salary'], dtype='object')"
      ]
     },
     "execution_count": 128,
     "metadata": {},
     "output_type": "execute_result"
    }
   ],
   "source": [
    "df.columns"
   ]
  },
  {
   "cell_type": "code",
   "execution_count": 129,
   "id": "40328c34",
   "metadata": {},
   "outputs": [
    {
     "data": {
      "text/plain": [
       "array(['Prof', 'AsstProf', 'AssocProf'], dtype=object)"
      ]
     },
     "execution_count": 129,
     "metadata": {},
     "output_type": "execute_result"
    }
   ],
   "source": [
    "df['rank'].unique()"
   ]
  },
  {
   "cell_type": "code",
   "execution_count": 130,
   "id": "3cfe736e",
   "metadata": {},
   "outputs": [
    {
     "data": {
      "text/plain": [
       "array(['B', 'A'], dtype=object)"
      ]
     },
     "execution_count": 130,
     "metadata": {},
     "output_type": "execute_result"
    }
   ],
   "source": [
    "df['discipline'].unique()"
   ]
  },
  {
   "cell_type": "code",
   "execution_count": 131,
   "id": "7fb79cd8",
   "metadata": {},
   "outputs": [
    {
     "data": {
      "text/plain": [
       "rank             object\n",
       "discipline       object\n",
       "yrs.since.phd     int64\n",
       "yrs.service       int64\n",
       "sex              object\n",
       "salary            int64\n",
       "dtype: object"
      ]
     },
     "execution_count": 131,
     "metadata": {},
     "output_type": "execute_result"
    }
   ],
   "source": [
    "df.dtypes"
   ]
  },
  {
   "cell_type": "raw",
   "id": "7e2dcf47",
   "metadata": {},
   "source": [
    "Since the data types are different here, we can benefit from converting it to a single datatype.\n",
    " \n",
    "    - years since Phd, years of service and salary look like continuous data \n",
    "    - rank, disipline and sex seem to be nominal data \n",
    "    \n",
    "But before dropping or standardizing/regularizing the data. Let's visualize the data."
   ]
  },
  {
   "cell_type": "markdown",
   "id": "dd46a881",
   "metadata": {},
   "source": [
    "### Checking the values in the data"
   ]
  },
  {
   "cell_type": "code",
   "execution_count": 132,
   "id": "a31e29c8",
   "metadata": {},
   "outputs": [
    {
     "data": {
      "text/plain": [
       "Prof         266\n",
       "AsstProf      67\n",
       "AssocProf     64\n",
       "Name: rank, dtype: int64"
      ]
     },
     "execution_count": 132,
     "metadata": {},
     "output_type": "execute_result"
    }
   ],
   "source": [
    "df['rank'].value_counts()"
   ]
  },
  {
   "cell_type": "code",
   "execution_count": 133,
   "id": "cb8fc63c",
   "metadata": {
    "scrolled": true
   },
   "outputs": [
    {
     "data": {
      "text/plain": [
       "B    216\n",
       "A    181\n",
       "Name: discipline, dtype: int64"
      ]
     },
     "execution_count": 133,
     "metadata": {},
     "output_type": "execute_result"
    }
   ],
   "source": [
    "df['discipline'].value_counts()"
   ]
  },
  {
   "cell_type": "code",
   "execution_count": 134,
   "id": "a9df547a",
   "metadata": {},
   "outputs": [
    {
     "data": {
      "text/plain": [
       "Male      358\n",
       "Female     39\n",
       "Name: sex, dtype: int64"
      ]
     },
     "execution_count": 134,
     "metadata": {},
     "output_type": "execute_result"
    }
   ],
   "source": [
    "df['sex'].value_counts() \n",
    "#we can consider this to be a non-contributing independent feature, since gender does not determine the salary a person recieves"
   ]
  },
  {
   "cell_type": "markdown",
   "id": "489cccf7",
   "metadata": {},
   "source": [
    "### Data Encoding"
   ]
  },
  {
   "cell_type": "raw",
   "id": "3436294f",
   "metadata": {},
   "source": [
    "There are two options:\n",
    "    (i) LabelEncoder()\n",
    "    (ii) OrdinalEncoder()\n",
    "\n",
    "But I am going with OrdinalEncoder because label encoder is usually used to encode the target variables."
   ]
  },
  {
   "cell_type": "code",
   "execution_count": 135,
   "id": "16718039",
   "metadata": {},
   "outputs": [
    {
     "data": {
      "text/html": [
       "<div>\n",
       "<style scoped>\n",
       "    .dataframe tbody tr th:only-of-type {\n",
       "        vertical-align: middle;\n",
       "    }\n",
       "\n",
       "    .dataframe tbody tr th {\n",
       "        vertical-align: top;\n",
       "    }\n",
       "\n",
       "    .dataframe thead th {\n",
       "        text-align: right;\n",
       "    }\n",
       "</style>\n",
       "<table border=\"1\" class=\"dataframe\">\n",
       "  <thead>\n",
       "    <tr style=\"text-align: right;\">\n",
       "      <th></th>\n",
       "      <th>rank</th>\n",
       "      <th>discipline</th>\n",
       "      <th>yrs.since.phd</th>\n",
       "      <th>yrs.service</th>\n",
       "      <th>sex</th>\n",
       "      <th>salary</th>\n",
       "    </tr>\n",
       "  </thead>\n",
       "  <tbody>\n",
       "    <tr>\n",
       "      <th>0</th>\n",
       "      <td>2.0</td>\n",
       "      <td>1.0</td>\n",
       "      <td>19</td>\n",
       "      <td>18</td>\n",
       "      <td>1.0</td>\n",
       "      <td>139750</td>\n",
       "    </tr>\n",
       "    <tr>\n",
       "      <th>1</th>\n",
       "      <td>2.0</td>\n",
       "      <td>1.0</td>\n",
       "      <td>20</td>\n",
       "      <td>16</td>\n",
       "      <td>1.0</td>\n",
       "      <td>173200</td>\n",
       "    </tr>\n",
       "    <tr>\n",
       "      <th>2</th>\n",
       "      <td>1.0</td>\n",
       "      <td>1.0</td>\n",
       "      <td>4</td>\n",
       "      <td>3</td>\n",
       "      <td>1.0</td>\n",
       "      <td>79750</td>\n",
       "    </tr>\n",
       "    <tr>\n",
       "      <th>3</th>\n",
       "      <td>2.0</td>\n",
       "      <td>1.0</td>\n",
       "      <td>45</td>\n",
       "      <td>39</td>\n",
       "      <td>1.0</td>\n",
       "      <td>115000</td>\n",
       "    </tr>\n",
       "    <tr>\n",
       "      <th>4</th>\n",
       "      <td>2.0</td>\n",
       "      <td>1.0</td>\n",
       "      <td>40</td>\n",
       "      <td>41</td>\n",
       "      <td>1.0</td>\n",
       "      <td>141500</td>\n",
       "    </tr>\n",
       "    <tr>\n",
       "      <th>...</th>\n",
       "      <td>...</td>\n",
       "      <td>...</td>\n",
       "      <td>...</td>\n",
       "      <td>...</td>\n",
       "      <td>...</td>\n",
       "      <td>...</td>\n",
       "    </tr>\n",
       "    <tr>\n",
       "      <th>392</th>\n",
       "      <td>2.0</td>\n",
       "      <td>0.0</td>\n",
       "      <td>33</td>\n",
       "      <td>30</td>\n",
       "      <td>1.0</td>\n",
       "      <td>103106</td>\n",
       "    </tr>\n",
       "    <tr>\n",
       "      <th>393</th>\n",
       "      <td>2.0</td>\n",
       "      <td>0.0</td>\n",
       "      <td>31</td>\n",
       "      <td>19</td>\n",
       "      <td>1.0</td>\n",
       "      <td>150564</td>\n",
       "    </tr>\n",
       "    <tr>\n",
       "      <th>394</th>\n",
       "      <td>2.0</td>\n",
       "      <td>0.0</td>\n",
       "      <td>42</td>\n",
       "      <td>25</td>\n",
       "      <td>1.0</td>\n",
       "      <td>101738</td>\n",
       "    </tr>\n",
       "    <tr>\n",
       "      <th>395</th>\n",
       "      <td>2.0</td>\n",
       "      <td>0.0</td>\n",
       "      <td>25</td>\n",
       "      <td>15</td>\n",
       "      <td>1.0</td>\n",
       "      <td>95329</td>\n",
       "    </tr>\n",
       "    <tr>\n",
       "      <th>396</th>\n",
       "      <td>1.0</td>\n",
       "      <td>0.0</td>\n",
       "      <td>8</td>\n",
       "      <td>4</td>\n",
       "      <td>1.0</td>\n",
       "      <td>81035</td>\n",
       "    </tr>\n",
       "  </tbody>\n",
       "</table>\n",
       "<p>397 rows × 6 columns</p>\n",
       "</div>"
      ],
      "text/plain": [
       "     rank  discipline  yrs.since.phd  yrs.service  sex  salary\n",
       "0     2.0         1.0             19           18  1.0  139750\n",
       "1     2.0         1.0             20           16  1.0  173200\n",
       "2     1.0         1.0              4            3  1.0   79750\n",
       "3     2.0         1.0             45           39  1.0  115000\n",
       "4     2.0         1.0             40           41  1.0  141500\n",
       "..    ...         ...            ...          ...  ...     ...\n",
       "392   2.0         0.0             33           30  1.0  103106\n",
       "393   2.0         0.0             31           19  1.0  150564\n",
       "394   2.0         0.0             42           25  1.0  101738\n",
       "395   2.0         0.0             25           15  1.0   95329\n",
       "396   1.0         0.0              8            4  1.0   81035\n",
       "\n",
       "[397 rows x 6 columns]"
      ]
     },
     "execution_count": 135,
     "metadata": {},
     "output_type": "execute_result"
    }
   ],
   "source": [
    "from sklearn.preprocessing import OrdinalEncoder\n",
    "oe = OrdinalEncoder()\n",
    "\n",
    "for obj in df.columns:\n",
    "    if df[obj].dtypes==\"object\":\n",
    "        df[obj] = oe.fit_transform(df[obj].values.reshape(-1,1))\n",
    "        \n",
    "df"
   ]
  },
  {
   "cell_type": "code",
   "execution_count": 136,
   "id": "a18e6608",
   "metadata": {},
   "outputs": [
    {
     "name": "stdout",
     "output_type": "stream",
     "text": [
      "<class 'pandas.core.frame.DataFrame'>\n",
      "RangeIndex: 397 entries, 0 to 396\n",
      "Data columns (total 6 columns):\n",
      " #   Column         Non-Null Count  Dtype  \n",
      "---  ------         --------------  -----  \n",
      " 0   rank           397 non-null    float64\n",
      " 1   discipline     397 non-null    float64\n",
      " 2   yrs.since.phd  397 non-null    int64  \n",
      " 3   yrs.service    397 non-null    int64  \n",
      " 4   sex            397 non-null    float64\n",
      " 5   salary         397 non-null    int64  \n",
      "dtypes: float64(3), int64(3)\n",
      "memory usage: 18.7 KB\n"
     ]
    }
   ],
   "source": [
    "df.info()"
   ]
  },
  {
   "cell_type": "code",
   "execution_count": 137,
   "id": "53aa5f93",
   "metadata": {},
   "outputs": [
    {
     "name": "stdout",
     "output_type": "stream",
     "text": [
      "<class 'pandas.core.frame.DataFrame'>\n",
      "RangeIndex: 397 entries, 0 to 396\n",
      "Data columns (total 6 columns):\n",
      " #   Column         Non-Null Count  Dtype  \n",
      "---  ------         --------------  -----  \n",
      " 0   rank           397 non-null    float64\n",
      " 1   discipline     397 non-null    float64\n",
      " 2   yrs.since.phd  397 non-null    float64\n",
      " 3   yrs.service    397 non-null    float64\n",
      " 4   sex            397 non-null    float64\n",
      " 5   salary         397 non-null    float64\n",
      "dtypes: float64(6)\n",
      "memory usage: 18.7 KB\n"
     ]
    },
    {
     "data": {
      "text/html": [
       "<div>\n",
       "<style scoped>\n",
       "    .dataframe tbody tr th:only-of-type {\n",
       "        vertical-align: middle;\n",
       "    }\n",
       "\n",
       "    .dataframe tbody tr th {\n",
       "        vertical-align: top;\n",
       "    }\n",
       "\n",
       "    .dataframe thead th {\n",
       "        text-align: right;\n",
       "    }\n",
       "</style>\n",
       "<table border=\"1\" class=\"dataframe\">\n",
       "  <thead>\n",
       "    <tr style=\"text-align: right;\">\n",
       "      <th></th>\n",
       "      <th>rank</th>\n",
       "      <th>discipline</th>\n",
       "      <th>yrs.since.phd</th>\n",
       "      <th>yrs.service</th>\n",
       "      <th>sex</th>\n",
       "      <th>salary</th>\n",
       "    </tr>\n",
       "  </thead>\n",
       "  <tbody>\n",
       "    <tr>\n",
       "      <th>0</th>\n",
       "      <td>2.0</td>\n",
       "      <td>1.0</td>\n",
       "      <td>19.0</td>\n",
       "      <td>18.0</td>\n",
       "      <td>1.0</td>\n",
       "      <td>139750.0</td>\n",
       "    </tr>\n",
       "    <tr>\n",
       "      <th>1</th>\n",
       "      <td>2.0</td>\n",
       "      <td>1.0</td>\n",
       "      <td>20.0</td>\n",
       "      <td>16.0</td>\n",
       "      <td>1.0</td>\n",
       "      <td>173200.0</td>\n",
       "    </tr>\n",
       "    <tr>\n",
       "      <th>2</th>\n",
       "      <td>1.0</td>\n",
       "      <td>1.0</td>\n",
       "      <td>4.0</td>\n",
       "      <td>3.0</td>\n",
       "      <td>1.0</td>\n",
       "      <td>79750.0</td>\n",
       "    </tr>\n",
       "    <tr>\n",
       "      <th>3</th>\n",
       "      <td>2.0</td>\n",
       "      <td>1.0</td>\n",
       "      <td>45.0</td>\n",
       "      <td>39.0</td>\n",
       "      <td>1.0</td>\n",
       "      <td>115000.0</td>\n",
       "    </tr>\n",
       "    <tr>\n",
       "      <th>4</th>\n",
       "      <td>2.0</td>\n",
       "      <td>1.0</td>\n",
       "      <td>40.0</td>\n",
       "      <td>41.0</td>\n",
       "      <td>1.0</td>\n",
       "      <td>141500.0</td>\n",
       "    </tr>\n",
       "    <tr>\n",
       "      <th>...</th>\n",
       "      <td>...</td>\n",
       "      <td>...</td>\n",
       "      <td>...</td>\n",
       "      <td>...</td>\n",
       "      <td>...</td>\n",
       "      <td>...</td>\n",
       "    </tr>\n",
       "    <tr>\n",
       "      <th>392</th>\n",
       "      <td>2.0</td>\n",
       "      <td>0.0</td>\n",
       "      <td>33.0</td>\n",
       "      <td>30.0</td>\n",
       "      <td>1.0</td>\n",
       "      <td>103106.0</td>\n",
       "    </tr>\n",
       "    <tr>\n",
       "      <th>393</th>\n",
       "      <td>2.0</td>\n",
       "      <td>0.0</td>\n",
       "      <td>31.0</td>\n",
       "      <td>19.0</td>\n",
       "      <td>1.0</td>\n",
       "      <td>150564.0</td>\n",
       "    </tr>\n",
       "    <tr>\n",
       "      <th>394</th>\n",
       "      <td>2.0</td>\n",
       "      <td>0.0</td>\n",
       "      <td>42.0</td>\n",
       "      <td>25.0</td>\n",
       "      <td>1.0</td>\n",
       "      <td>101738.0</td>\n",
       "    </tr>\n",
       "    <tr>\n",
       "      <th>395</th>\n",
       "      <td>2.0</td>\n",
       "      <td>0.0</td>\n",
       "      <td>25.0</td>\n",
       "      <td>15.0</td>\n",
       "      <td>1.0</td>\n",
       "      <td>95329.0</td>\n",
       "    </tr>\n",
       "    <tr>\n",
       "      <th>396</th>\n",
       "      <td>1.0</td>\n",
       "      <td>0.0</td>\n",
       "      <td>8.0</td>\n",
       "      <td>4.0</td>\n",
       "      <td>1.0</td>\n",
       "      <td>81035.0</td>\n",
       "    </tr>\n",
       "  </tbody>\n",
       "</table>\n",
       "<p>397 rows × 6 columns</p>\n",
       "</div>"
      ],
      "text/plain": [
       "     rank  discipline  yrs.since.phd  yrs.service  sex    salary\n",
       "0     2.0         1.0           19.0         18.0  1.0  139750.0\n",
       "1     2.0         1.0           20.0         16.0  1.0  173200.0\n",
       "2     1.0         1.0            4.0          3.0  1.0   79750.0\n",
       "3     2.0         1.0           45.0         39.0  1.0  115000.0\n",
       "4     2.0         1.0           40.0         41.0  1.0  141500.0\n",
       "..    ...         ...            ...          ...  ...       ...\n",
       "392   2.0         0.0           33.0         30.0  1.0  103106.0\n",
       "393   2.0         0.0           31.0         19.0  1.0  150564.0\n",
       "394   2.0         0.0           42.0         25.0  1.0  101738.0\n",
       "395   2.0         0.0           25.0         15.0  1.0   95329.0\n",
       "396   1.0         0.0            8.0          4.0  1.0   81035.0\n",
       "\n",
       "[397 rows x 6 columns]"
      ]
     },
     "execution_count": 137,
     "metadata": {},
     "output_type": "execute_result"
    }
   ],
   "source": [
    "#converting all the datatypes to float\n",
    "df = df.astype(float)\n",
    "df.info()\n",
    "df"
   ]
  },
  {
   "cell_type": "markdown",
   "id": "1ce14e18",
   "metadata": {},
   "source": [
    "### Describing the data"
   ]
  },
  {
   "cell_type": "code",
   "execution_count": 138,
   "id": "bb6ae7f3",
   "metadata": {},
   "outputs": [
    {
     "data": {
      "text/html": [
       "<div>\n",
       "<style scoped>\n",
       "    .dataframe tbody tr th:only-of-type {\n",
       "        vertical-align: middle;\n",
       "    }\n",
       "\n",
       "    .dataframe tbody tr th {\n",
       "        vertical-align: top;\n",
       "    }\n",
       "\n",
       "    .dataframe thead th {\n",
       "        text-align: right;\n",
       "    }\n",
       "</style>\n",
       "<table border=\"1\" class=\"dataframe\">\n",
       "  <thead>\n",
       "    <tr style=\"text-align: right;\">\n",
       "      <th></th>\n",
       "      <th>rank</th>\n",
       "      <th>discipline</th>\n",
       "      <th>yrs.since.phd</th>\n",
       "      <th>yrs.service</th>\n",
       "      <th>sex</th>\n",
       "      <th>salary</th>\n",
       "    </tr>\n",
       "  </thead>\n",
       "  <tbody>\n",
       "    <tr>\n",
       "      <th>count</th>\n",
       "      <td>397.000000</td>\n",
       "      <td>397.000000</td>\n",
       "      <td>397.000000</td>\n",
       "      <td>397.000000</td>\n",
       "      <td>397.000000</td>\n",
       "      <td>397.000000</td>\n",
       "    </tr>\n",
       "    <tr>\n",
       "      <th>mean</th>\n",
       "      <td>1.508816</td>\n",
       "      <td>0.544081</td>\n",
       "      <td>22.314861</td>\n",
       "      <td>17.614610</td>\n",
       "      <td>0.901763</td>\n",
       "      <td>113706.458438</td>\n",
       "    </tr>\n",
       "    <tr>\n",
       "      <th>std</th>\n",
       "      <td>0.757486</td>\n",
       "      <td>0.498682</td>\n",
       "      <td>12.887003</td>\n",
       "      <td>13.006024</td>\n",
       "      <td>0.298010</td>\n",
       "      <td>30289.038695</td>\n",
       "    </tr>\n",
       "    <tr>\n",
       "      <th>min</th>\n",
       "      <td>0.000000</td>\n",
       "      <td>0.000000</td>\n",
       "      <td>1.000000</td>\n",
       "      <td>0.000000</td>\n",
       "      <td>0.000000</td>\n",
       "      <td>57800.000000</td>\n",
       "    </tr>\n",
       "    <tr>\n",
       "      <th>25%</th>\n",
       "      <td>1.000000</td>\n",
       "      <td>0.000000</td>\n",
       "      <td>12.000000</td>\n",
       "      <td>7.000000</td>\n",
       "      <td>1.000000</td>\n",
       "      <td>91000.000000</td>\n",
       "    </tr>\n",
       "    <tr>\n",
       "      <th>50%</th>\n",
       "      <td>2.000000</td>\n",
       "      <td>1.000000</td>\n",
       "      <td>21.000000</td>\n",
       "      <td>16.000000</td>\n",
       "      <td>1.000000</td>\n",
       "      <td>107300.000000</td>\n",
       "    </tr>\n",
       "    <tr>\n",
       "      <th>75%</th>\n",
       "      <td>2.000000</td>\n",
       "      <td>1.000000</td>\n",
       "      <td>32.000000</td>\n",
       "      <td>27.000000</td>\n",
       "      <td>1.000000</td>\n",
       "      <td>134185.000000</td>\n",
       "    </tr>\n",
       "    <tr>\n",
       "      <th>max</th>\n",
       "      <td>2.000000</td>\n",
       "      <td>1.000000</td>\n",
       "      <td>56.000000</td>\n",
       "      <td>60.000000</td>\n",
       "      <td>1.000000</td>\n",
       "      <td>231545.000000</td>\n",
       "    </tr>\n",
       "  </tbody>\n",
       "</table>\n",
       "</div>"
      ],
      "text/plain": [
       "             rank  discipline  yrs.since.phd  yrs.service         sex  \\\n",
       "count  397.000000  397.000000     397.000000   397.000000  397.000000   \n",
       "mean     1.508816    0.544081      22.314861    17.614610    0.901763   \n",
       "std      0.757486    0.498682      12.887003    13.006024    0.298010   \n",
       "min      0.000000    0.000000       1.000000     0.000000    0.000000   \n",
       "25%      1.000000    0.000000      12.000000     7.000000    1.000000   \n",
       "50%      2.000000    1.000000      21.000000    16.000000    1.000000   \n",
       "75%      2.000000    1.000000      32.000000    27.000000    1.000000   \n",
       "max      2.000000    1.000000      56.000000    60.000000    1.000000   \n",
       "\n",
       "              salary  \n",
       "count     397.000000  \n",
       "mean   113706.458438  \n",
       "std     30289.038695  \n",
       "min     57800.000000  \n",
       "25%     91000.000000  \n",
       "50%    107300.000000  \n",
       "75%    134185.000000  \n",
       "max    231545.000000  "
      ]
     },
     "execution_count": 138,
     "metadata": {},
     "output_type": "execute_result"
    }
   ],
   "source": [
    "df.describe()"
   ]
  },
  {
   "cell_type": "code",
   "execution_count": 139,
   "id": "9c98a281",
   "metadata": {},
   "outputs": [
    {
     "name": "stdout",
     "output_type": "stream",
     "text": [
      "rank :\n",
      " Mean =  1.508816120906801 \n",
      " STD =  0.7574864461514098 \n",
      " Min =  0.0 \n",
      " Max =  2.0 \n",
      "\n",
      "discipline :\n",
      " Mean =  0.5440806045340051 \n",
      " STD =  0.4986815683558154 \n",
      " Min =  0.0 \n",
      " Max =  1.0 \n",
      "\n",
      "yrs.since.phd :\n",
      " Mean =  22.31486146095718 \n",
      " STD =  12.887003310964854 \n",
      " Min =  1.0 \n",
      " Max =  56.0 \n",
      "\n",
      "yrs.service :\n",
      " Mean =  17.614609571788414 \n",
      " STD =  13.006023785473102 \n",
      " Min =  0.0 \n",
      " Max =  60.0 \n",
      "\n",
      "sex :\n",
      " Mean =  0.9017632241813602 \n",
      " STD =  0.2980100912766356 \n",
      " Min =  0.0 \n",
      " Max =  1.0 \n",
      "\n"
     ]
    }
   ],
   "source": [
    "#prints the mean, std, min and max values of the columns.\n",
    "\n",
    "for i in range(0,5):\n",
    "    current_column=df.columns[i]\n",
    "    list_current_col = list(df[current_column].describe())\n",
    "    print (current_column,':\\n','Mean = ',list_current_col[1],'\\n','STD = ',list_current_col[2],'\\n','Min = ',list_current_col[3],'\\n','Max = ',list_current_col[-1],'\\n')\n",
    "    "
   ]
  },
  {
   "cell_type": "markdown",
   "id": "c8d9fe9a",
   "metadata": {},
   "source": [
    "### Checking for outliers"
   ]
  },
  {
   "cell_type": "code",
   "execution_count": 140,
   "id": "8419db27",
   "metadata": {},
   "outputs": [
    {
     "data": {
      "image/png": "[encoded data removed]",
      "text/plain": [
       "<Figure size 1008x1008 with 6 Axes>"
      ]
     },
     "metadata": {
      "needs_background": "light"
     },
     "output_type": "display_data"
    }
   ],
   "source": [
    "collist=df.columns.values\n",
    "ncol=8\n",
    "nrow=4\n",
    "\n",
    "plt.figure(figsize=(14,14))\n",
    "for i in range(0,len(collist)):\n",
    "    plt.subplot(nrow,ncol,i+1)\n",
    "    sns.boxplot(data=df[collist[i]],color='lightblue',orient='v')\n",
    "    plt.title(df.columns[i])\n",
    "    plt.tight_layout()"
   ]
  },
  {
   "cell_type": "raw",
   "id": "317d63b7",
   "metadata": {},
   "source": [
    "There are outliers in the yrs.service, sex and the salary columns"
   ]
  },
  {
   "cell_type": "markdown",
   "id": "f3d5960b",
   "metadata": {},
   "source": [
    "### Skewness"
   ]
  },
  {
   "cell_type": "code",
   "execution_count": 141,
   "id": "200a20c0",
   "metadata": {},
   "outputs": [
    {
     "data": {
      "text/plain": [
       "rank            -1.151164\n",
       "discipline      -0.177684\n",
       "yrs.since.phd    0.300880\n",
       "yrs.service      0.650569\n",
       "sex             -2.709958\n",
       "salary           0.714568\n",
       "dtype: float64"
      ]
     },
     "execution_count": 141,
     "metadata": {},
     "output_type": "execute_result"
    }
   ],
   "source": [
    "df.skew()"
   ]
  },
  {
   "cell_type": "raw",
   "id": "98e1d60c",
   "metadata": {},
   "source": [
    "Skewness threshold +/- 0.5 \n",
    "Skewness observed in:\n",
    "    - rank, sex and yrs. service"
   ]
  },
  {
   "cell_type": "markdown",
   "id": "42bcb9d6",
   "metadata": {},
   "source": [
    "### Visualizing the data"
   ]
  },
  {
   "cell_type": "code",
   "execution_count": 142,
   "id": "19f285ff",
   "metadata": {},
   "outputs": [
    {
     "data": {
      "text/plain": [
       "<AxesSubplot:xlabel='yrs.since.phd', ylabel='Density'>"
      ]
     },
     "execution_count": 142,
     "metadata": {},
     "output_type": "execute_result"
    },
    {
     "data": {
      "image/png": "[encoded data removed]",
      "text/plain": [
       "<Figure size 432x288 with 1 Axes>"
      ]
     },
     "metadata": {
      "needs_background": "light"
     },
     "output_type": "display_data"
    }
   ],
   "source": [
    "plt.figure(figsize=(6,4))\n",
    "sns.distplot(df['yrs.since.phd'])"
   ]
  },
  {
   "cell_type": "code",
   "execution_count": 143,
   "id": "fbf284a8",
   "metadata": {
    "scrolled": false
   },
   "outputs": [
    {
     "data": {
      "text/plain": [
       "<AxesSubplot:xlabel='yrs.service', ylabel='Density'>"
      ]
     },
     "execution_count": 143,
     "metadata": {},
     "output_type": "execute_result"
    },
    {
     "data": {
      "image/png": "[encoded data removed]",
      "text/plain": [
       "<Figure size 432x288 with 1 Axes>"
      ]
     },
     "metadata": {
      "needs_background": "light"
     },
     "output_type": "display_data"
    }
   ],
   "source": [
    "plt.figure(figsize=(6,4))\n",
    "sns.distplot(df['yrs.service'])"
   ]
  },
  {
   "cell_type": "raw",
   "id": "f06ee324",
   "metadata": {},
   "source": [
    "Clearly the distribution in both \"yrs.since.phd\" and \"yrs.service\" is not normal. \n",
    "    (○) yrs.service - bimodal and skewed right"
   ]
  },
  {
   "cell_type": "markdown",
   "id": "70ec6991",
   "metadata": {},
   "source": [
    "### Correlation and Heat map"
   ]
  },
  {
   "cell_type": "code",
   "execution_count": 144,
   "id": "ea3896e3",
   "metadata": {},
   "outputs": [
    {
     "data": {
      "text/html": [
       "<div>\n",
       "<style scoped>\n",
       "    .dataframe tbody tr th:only-of-type {\n",
       "        vertical-align: middle;\n",
       "    }\n",
       "\n",
       "    .dataframe tbody tr th {\n",
       "        vertical-align: top;\n",
       "    }\n",
       "\n",
       "    .dataframe thead th {\n",
       "        text-align: right;\n",
       "    }\n",
       "</style>\n",
       "<table border=\"1\" class=\"dataframe\">\n",
       "  <thead>\n",
       "    <tr style=\"text-align: right;\">\n",
       "      <th></th>\n",
       "      <th>rank</th>\n",
       "      <th>discipline</th>\n",
       "      <th>yrs.since.phd</th>\n",
       "      <th>yrs.service</th>\n",
       "      <th>sex</th>\n",
       "      <th>salary</th>\n",
       "    </tr>\n",
       "  </thead>\n",
       "  <tbody>\n",
       "    <tr>\n",
       "      <th>rank</th>\n",
       "      <td>1.000000</td>\n",
       "      <td>-0.086266</td>\n",
       "      <td>0.525500</td>\n",
       "      <td>0.447499</td>\n",
       "      <td>0.132492</td>\n",
       "      <td>0.522207</td>\n",
       "    </tr>\n",
       "    <tr>\n",
       "      <th>discipline</th>\n",
       "      <td>-0.086266</td>\n",
       "      <td>1.000000</td>\n",
       "      <td>-0.218087</td>\n",
       "      <td>-0.164599</td>\n",
       "      <td>0.003724</td>\n",
       "      <td>0.156084</td>\n",
       "    </tr>\n",
       "    <tr>\n",
       "      <th>yrs.since.phd</th>\n",
       "      <td>0.525500</td>\n",
       "      <td>-0.218087</td>\n",
       "      <td>1.000000</td>\n",
       "      <td>0.909649</td>\n",
       "      <td>0.148788</td>\n",
       "      <td>0.419231</td>\n",
       "    </tr>\n",
       "    <tr>\n",
       "      <th>yrs.service</th>\n",
       "      <td>0.447499</td>\n",
       "      <td>-0.164599</td>\n",
       "      <td>0.909649</td>\n",
       "      <td>1.000000</td>\n",
       "      <td>0.153740</td>\n",
       "      <td>0.334745</td>\n",
       "    </tr>\n",
       "    <tr>\n",
       "      <th>sex</th>\n",
       "      <td>0.132492</td>\n",
       "      <td>0.003724</td>\n",
       "      <td>0.148788</td>\n",
       "      <td>0.153740</td>\n",
       "      <td>1.000000</td>\n",
       "      <td>0.138610</td>\n",
       "    </tr>\n",
       "    <tr>\n",
       "      <th>salary</th>\n",
       "      <td>0.522207</td>\n",
       "      <td>0.156084</td>\n",
       "      <td>0.419231</td>\n",
       "      <td>0.334745</td>\n",
       "      <td>0.138610</td>\n",
       "      <td>1.000000</td>\n",
       "    </tr>\n",
       "  </tbody>\n",
       "</table>\n",
       "</div>"
      ],
      "text/plain": [
       "                   rank  discipline  yrs.since.phd  yrs.service       sex  \\\n",
       "rank           1.000000   -0.086266       0.525500     0.447499  0.132492   \n",
       "discipline    -0.086266    1.000000      -0.218087    -0.164599  0.003724   \n",
       "yrs.since.phd  0.525500   -0.218087       1.000000     0.909649  0.148788   \n",
       "yrs.service    0.447499   -0.164599       0.909649     1.000000  0.153740   \n",
       "sex            0.132492    0.003724       0.148788     0.153740  1.000000   \n",
       "salary         0.522207    0.156084       0.419231     0.334745  0.138610   \n",
       "\n",
       "                 salary  \n",
       "rank           0.522207  \n",
       "discipline     0.156084  \n",
       "yrs.since.phd  0.419231  \n",
       "yrs.service    0.334745  \n",
       "sex            0.138610  \n",
       "salary         1.000000  "
      ]
     },
     "execution_count": 144,
     "metadata": {},
     "output_type": "execute_result"
    }
   ],
   "source": [
    "df.corr()"
   ]
  },
  {
   "cell_type": "code",
   "execution_count": 145,
   "id": "142b5114",
   "metadata": {},
   "outputs": [
    {
     "data": {
      "text/plain": [
       "rank             0.522207\n",
       "discipline       0.156084\n",
       "yrs.since.phd    0.419231\n",
       "yrs.service      0.334745\n",
       "sex              0.138610\n",
       "salary           1.000000\n",
       "Name: salary, dtype: float64"
      ]
     },
     "execution_count": 145,
     "metadata": {},
     "output_type": "execute_result"
    }
   ],
   "source": [
    "df.corr()['salary'] #correlation of all the columns with respect to the 'salary' column"
   ]
  },
  {
   "cell_type": "code",
   "execution_count": 146,
   "id": "e52538aa",
   "metadata": {},
   "outputs": [
    {
     "data": {
      "text/plain": [
       "<AxesSubplot:>"
      ]
     },
     "execution_count": 146,
     "metadata": {},
     "output_type": "execute_result"
    },
    {
     "data": {
      "image/png": "[encoded data removed]",
      "text/plain": [
       "<Figure size 864x576 with 2 Axes>"
      ]
     },
     "metadata": {
      "needs_background": "light"
     },
     "output_type": "display_data"
    }
   ],
   "source": [
    "plt.figure(figsize=(12,8))\n",
    "sns.heatmap(df.corr(), annot=True, linewidths=0.5, linecolor='w', cmap=\"Blues\", fmt=\".2f\")"
   ]
  },
  {
   "cell_type": "code",
   "execution_count": 147,
   "id": "de34f4fc",
   "metadata": {},
   "outputs": [
    {
     "name": "stdout",
     "output_type": "stream",
     "text": [
      "The correlation percentage between rank and salary is 52 %\n",
      "The correlation percentage between discipline and salary is 16 %\n",
      "The correlation percentage between yrs.since.phd and salary is 42 %\n",
      "The correlation percentage between yrs.service and salary is 33 %\n",
      "The correlation percentage between sex and salary is 14 %\n",
      "\n",
      "Maximum Correlation: rank\n",
      "\n",
      "Minimum Correlation: sex\n"
     ]
    }
   ],
   "source": [
    "#prints the correlation percentages, minimum correlation and maximum correlation in an understandable manner\n",
    "\n",
    "correlation_list=[]\n",
    "correlation_dictionary = {}\n",
    "\n",
    "for i in range(0,5):\n",
    "    print ('The correlation percentage between',df.columns[i],'and salary is',round(df.corr()['salary'][i]*100),'%')\n",
    "    corr_dict={df.columns[i]:round(df.corr()['salary'][i]*100)}\n",
    "    correlation_dictionary.update(corr_dict)\n",
    "\n",
    "print ('\\nMaximum Correlation:',max(correlation_dictionary,key=correlation_dictionary.get))\n",
    "print ('\\nMinimum Correlation:',min(correlation_dictionary,key=correlation_dictionary.get))"
   ]
  },
  {
   "cell_type": "raw",
   "id": "6e98a7dc",
   "metadata": {},
   "source": [
    "Since sex has the lowest correlation and high skewness, we will drop it from the dataset"
   ]
  },
  {
   "cell_type": "markdown",
   "id": "af9d68aa",
   "metadata": {},
   "source": [
    "### Dropping the column 'sex' from the dataset"
   ]
  },
  {
   "cell_type": "code",
   "execution_count": 148,
   "id": "354d9fe3",
   "metadata": {
    "scrolled": false
   },
   "outputs": [
    {
     "data": {
      "text/html": [
       "<div>\n",
       "<style scoped>\n",
       "    .dataframe tbody tr th:only-of-type {\n",
       "        vertical-align: middle;\n",
       "    }\n",
       "\n",
       "    .dataframe tbody tr th {\n",
       "        vertical-align: top;\n",
       "    }\n",
       "\n",
       "    .dataframe thead th {\n",
       "        text-align: right;\n",
       "    }\n",
       "</style>\n",
       "<table border=\"1\" class=\"dataframe\">\n",
       "  <thead>\n",
       "    <tr style=\"text-align: right;\">\n",
       "      <th></th>\n",
       "      <th>rank</th>\n",
       "      <th>discipline</th>\n",
       "      <th>yrs.since.phd</th>\n",
       "      <th>yrs.service</th>\n",
       "      <th>salary</th>\n",
       "    </tr>\n",
       "  </thead>\n",
       "  <tbody>\n",
       "    <tr>\n",
       "      <th>0</th>\n",
       "      <td>2.0</td>\n",
       "      <td>1.0</td>\n",
       "      <td>19.0</td>\n",
       "      <td>18.0</td>\n",
       "      <td>139750.0</td>\n",
       "    </tr>\n",
       "    <tr>\n",
       "      <th>1</th>\n",
       "      <td>2.0</td>\n",
       "      <td>1.0</td>\n",
       "      <td>20.0</td>\n",
       "      <td>16.0</td>\n",
       "      <td>173200.0</td>\n",
       "    </tr>\n",
       "    <tr>\n",
       "      <th>2</th>\n",
       "      <td>1.0</td>\n",
       "      <td>1.0</td>\n",
       "      <td>4.0</td>\n",
       "      <td>3.0</td>\n",
       "      <td>79750.0</td>\n",
       "    </tr>\n",
       "    <tr>\n",
       "      <th>3</th>\n",
       "      <td>2.0</td>\n",
       "      <td>1.0</td>\n",
       "      <td>45.0</td>\n",
       "      <td>39.0</td>\n",
       "      <td>115000.0</td>\n",
       "    </tr>\n",
       "    <tr>\n",
       "      <th>4</th>\n",
       "      <td>2.0</td>\n",
       "      <td>1.0</td>\n",
       "      <td>40.0</td>\n",
       "      <td>41.0</td>\n",
       "      <td>141500.0</td>\n",
       "    </tr>\n",
       "    <tr>\n",
       "      <th>...</th>\n",
       "      <td>...</td>\n",
       "      <td>...</td>\n",
       "      <td>...</td>\n",
       "      <td>...</td>\n",
       "      <td>...</td>\n",
       "    </tr>\n",
       "    <tr>\n",
       "      <th>392</th>\n",
       "      <td>2.0</td>\n",
       "      <td>0.0</td>\n",
       "      <td>33.0</td>\n",
       "      <td>30.0</td>\n",
       "      <td>103106.0</td>\n",
       "    </tr>\n",
       "    <tr>\n",
       "      <th>393</th>\n",
       "      <td>2.0</td>\n",
       "      <td>0.0</td>\n",
       "      <td>31.0</td>\n",
       "      <td>19.0</td>\n",
       "      <td>150564.0</td>\n",
       "    </tr>\n",
       "    <tr>\n",
       "      <th>394</th>\n",
       "      <td>2.0</td>\n",
       "      <td>0.0</td>\n",
       "      <td>42.0</td>\n",
       "      <td>25.0</td>\n",
       "      <td>101738.0</td>\n",
       "    </tr>\n",
       "    <tr>\n",
       "      <th>395</th>\n",
       "      <td>2.0</td>\n",
       "      <td>0.0</td>\n",
       "      <td>25.0</td>\n",
       "      <td>15.0</td>\n",
       "      <td>95329.0</td>\n",
       "    </tr>\n",
       "    <tr>\n",
       "      <th>396</th>\n",
       "      <td>1.0</td>\n",
       "      <td>0.0</td>\n",
       "      <td>8.0</td>\n",
       "      <td>4.0</td>\n",
       "      <td>81035.0</td>\n",
       "    </tr>\n",
       "  </tbody>\n",
       "</table>\n",
       "<p>397 rows × 5 columns</p>\n",
       "</div>"
      ],
      "text/plain": [
       "     rank  discipline  yrs.since.phd  yrs.service    salary\n",
       "0     2.0         1.0           19.0         18.0  139750.0\n",
       "1     2.0         1.0           20.0         16.0  173200.0\n",
       "2     1.0         1.0            4.0          3.0   79750.0\n",
       "3     2.0         1.0           45.0         39.0  115000.0\n",
       "4     2.0         1.0           40.0         41.0  141500.0\n",
       "..    ...         ...            ...          ...       ...\n",
       "392   2.0         0.0           33.0         30.0  103106.0\n",
       "393   2.0         0.0           31.0         19.0  150564.0\n",
       "394   2.0         0.0           42.0         25.0  101738.0\n",
       "395   2.0         0.0           25.0         15.0   95329.0\n",
       "396   1.0         0.0            8.0          4.0   81035.0\n",
       "\n",
       "[397 rows x 5 columns]"
      ]
     },
     "execution_count": 148,
     "metadata": {},
     "output_type": "execute_result"
    }
   ],
   "source": [
    "df = df.drop(['sex'],axis=1)\n",
    "df"
   ]
  },
  {
   "cell_type": "markdown",
   "id": "1c99368a",
   "metadata": {},
   "source": [
    "### Removing outliers using zscore"
   ]
  },
  {
   "cell_type": "code",
   "execution_count": 149,
   "id": "958a1ee5",
   "metadata": {},
   "outputs": [
    {
     "data": {
      "text/html": [
       "<div>\n",
       "<style scoped>\n",
       "    .dataframe tbody tr th:only-of-type {\n",
       "        vertical-align: middle;\n",
       "    }\n",
       "\n",
       "    .dataframe tbody tr th {\n",
       "        vertical-align: top;\n",
       "    }\n",
       "\n",
       "    .dataframe thead th {\n",
       "        text-align: right;\n",
       "    }\n",
       "</style>\n",
       "<table border=\"1\" class=\"dataframe\">\n",
       "  <thead>\n",
       "    <tr style=\"text-align: right;\">\n",
       "      <th></th>\n",
       "      <th>rank</th>\n",
       "      <th>discipline</th>\n",
       "      <th>yrs.since.phd</th>\n",
       "      <th>yrs.service</th>\n",
       "      <th>salary</th>\n",
       "    </tr>\n",
       "  </thead>\n",
       "  <tbody>\n",
       "    <tr>\n",
       "      <th>0</th>\n",
       "      <td>0.649257</td>\n",
       "      <td>0.915403</td>\n",
       "      <td>0.257550</td>\n",
       "      <td>0.029669</td>\n",
       "      <td>0.860919</td>\n",
       "    </tr>\n",
       "    <tr>\n",
       "      <th>1</th>\n",
       "      <td>0.649257</td>\n",
       "      <td>0.915403</td>\n",
       "      <td>0.179854</td>\n",
       "      <td>0.124300</td>\n",
       "      <td>1.966672</td>\n",
       "    </tr>\n",
       "    <tr>\n",
       "      <th>2</th>\n",
       "      <td>0.672564</td>\n",
       "      <td>0.915403</td>\n",
       "      <td>1.422982</td>\n",
       "      <td>1.125098</td>\n",
       "      <td>1.122495</td>\n",
       "    </tr>\n",
       "    <tr>\n",
       "      <th>3</th>\n",
       "      <td>0.649257</td>\n",
       "      <td>0.915403</td>\n",
       "      <td>1.762533</td>\n",
       "      <td>1.646343</td>\n",
       "      <td>0.042760</td>\n",
       "    </tr>\n",
       "    <tr>\n",
       "      <th>4</th>\n",
       "      <td>0.649257</td>\n",
       "      <td>0.915403</td>\n",
       "      <td>1.374055</td>\n",
       "      <td>1.800312</td>\n",
       "      <td>0.918768</td>\n",
       "    </tr>\n",
       "    <tr>\n",
       "      <th>...</th>\n",
       "      <td>...</td>\n",
       "      <td>...</td>\n",
       "      <td>...</td>\n",
       "      <td>...</td>\n",
       "      <td>...</td>\n",
       "    </tr>\n",
       "    <tr>\n",
       "      <th>392</th>\n",
       "      <td>0.649257</td>\n",
       "      <td>1.092415</td>\n",
       "      <td>0.830187</td>\n",
       "      <td>0.953483</td>\n",
       "      <td>0.350418</td>\n",
       "    </tr>\n",
       "    <tr>\n",
       "      <th>393</th>\n",
       "      <td>0.649257</td>\n",
       "      <td>1.092415</td>\n",
       "      <td>0.674796</td>\n",
       "      <td>0.106654</td>\n",
       "      <td>1.218396</td>\n",
       "    </tr>\n",
       "    <tr>\n",
       "      <th>394</th>\n",
       "      <td>0.649257</td>\n",
       "      <td>1.092415</td>\n",
       "      <td>1.529446</td>\n",
       "      <td>0.568560</td>\n",
       "      <td>0.395640</td>\n",
       "    </tr>\n",
       "    <tr>\n",
       "      <th>395</th>\n",
       "      <td>0.649257</td>\n",
       "      <td>1.092415</td>\n",
       "      <td>0.208623</td>\n",
       "      <td>0.201284</td>\n",
       "      <td>0.607502</td>\n",
       "    </tr>\n",
       "    <tr>\n",
       "      <th>396</th>\n",
       "      <td>0.672564</td>\n",
       "      <td>1.092415</td>\n",
       "      <td>1.112200</td>\n",
       "      <td>1.048113</td>\n",
       "      <td>1.080017</td>\n",
       "    </tr>\n",
       "  </tbody>\n",
       "</table>\n",
       "<p>397 rows × 5 columns</p>\n",
       "</div>"
      ],
      "text/plain": [
       "         rank  discipline  yrs.since.phd  yrs.service    salary\n",
       "0    0.649257    0.915403       0.257550     0.029669  0.860919\n",
       "1    0.649257    0.915403       0.179854     0.124300  1.966672\n",
       "2    0.672564    0.915403       1.422982     1.125098  1.122495\n",
       "3    0.649257    0.915403       1.762533     1.646343  0.042760\n",
       "4    0.649257    0.915403       1.374055     1.800312  0.918768\n",
       "..        ...         ...            ...          ...       ...\n",
       "392  0.649257    1.092415       0.830187     0.953483  0.350418\n",
       "393  0.649257    1.092415       0.674796     0.106654  1.218396\n",
       "394  0.649257    1.092415       1.529446     0.568560  0.395640\n",
       "395  0.649257    1.092415       0.208623     0.201284  0.607502\n",
       "396  0.672564    1.092415       1.112200     1.048113  1.080017\n",
       "\n",
       "[397 rows x 5 columns]"
      ]
     },
     "execution_count": 149,
     "metadata": {},
     "output_type": "execute_result"
    }
   ],
   "source": [
    "np.abs(zscore(df))"
   ]
  },
  {
   "cell_type": "code",
   "execution_count": 150,
   "id": "a500cc9e",
   "metadata": {},
   "outputs": [
    {
     "data": {
      "text/plain": [
       "(array([ 43, 131, 330, 364], dtype=int64), array([4, 3, 3, 4], dtype=int64))"
      ]
     },
     "execution_count": 150,
     "metadata": {},
     "output_type": "execute_result"
    }
   ],
   "source": [
    "z=np.abs(zscore(df))\n",
    "np.where(z>3) #checking if there are data with zscore above 3"
   ]
  },
  {
   "cell_type": "code",
   "execution_count": 151,
   "id": "150cbed5",
   "metadata": {},
   "outputs": [
    {
     "data": {
      "text/plain": [
       "0.6492573856894619"
      ]
     },
     "execution_count": 151,
     "metadata": {},
     "output_type": "execute_result"
    }
   ],
   "source": [
    "z.iloc[131,0] #veryfying by checking random samples from the results"
   ]
  },
  {
   "cell_type": "code",
   "execution_count": 152,
   "id": "65e420c4",
   "metadata": {},
   "outputs": [
    {
     "data": {
      "text/html": [
       "<div>\n",
       "<style scoped>\n",
       "    .dataframe tbody tr th:only-of-type {\n",
       "        vertical-align: middle;\n",
       "    }\n",
       "\n",
       "    .dataframe tbody tr th {\n",
       "        vertical-align: top;\n",
       "    }\n",
       "\n",
       "    .dataframe thead th {\n",
       "        text-align: right;\n",
       "    }\n",
       "</style>\n",
       "<table border=\"1\" class=\"dataframe\">\n",
       "  <thead>\n",
       "    <tr style=\"text-align: right;\">\n",
       "      <th></th>\n",
       "      <th>rank</th>\n",
       "      <th>discipline</th>\n",
       "      <th>yrs.since.phd</th>\n",
       "      <th>yrs.service</th>\n",
       "      <th>salary</th>\n",
       "    </tr>\n",
       "  </thead>\n",
       "  <tbody>\n",
       "    <tr>\n",
       "      <th>0</th>\n",
       "      <td>2.0</td>\n",
       "      <td>1.0</td>\n",
       "      <td>19.0</td>\n",
       "      <td>18.0</td>\n",
       "      <td>139750.0</td>\n",
       "    </tr>\n",
       "    <tr>\n",
       "      <th>1</th>\n",
       "      <td>2.0</td>\n",
       "      <td>1.0</td>\n",
       "      <td>20.0</td>\n",
       "      <td>16.0</td>\n",
       "      <td>173200.0</td>\n",
       "    </tr>\n",
       "    <tr>\n",
       "      <th>2</th>\n",
       "      <td>1.0</td>\n",
       "      <td>1.0</td>\n",
       "      <td>4.0</td>\n",
       "      <td>3.0</td>\n",
       "      <td>79750.0</td>\n",
       "    </tr>\n",
       "    <tr>\n",
       "      <th>3</th>\n",
       "      <td>2.0</td>\n",
       "      <td>1.0</td>\n",
       "      <td>45.0</td>\n",
       "      <td>39.0</td>\n",
       "      <td>115000.0</td>\n",
       "    </tr>\n",
       "    <tr>\n",
       "      <th>4</th>\n",
       "      <td>2.0</td>\n",
       "      <td>1.0</td>\n",
       "      <td>40.0</td>\n",
       "      <td>41.0</td>\n",
       "      <td>141500.0</td>\n",
       "    </tr>\n",
       "    <tr>\n",
       "      <th>...</th>\n",
       "      <td>...</td>\n",
       "      <td>...</td>\n",
       "      <td>...</td>\n",
       "      <td>...</td>\n",
       "      <td>...</td>\n",
       "    </tr>\n",
       "    <tr>\n",
       "      <th>392</th>\n",
       "      <td>2.0</td>\n",
       "      <td>0.0</td>\n",
       "      <td>33.0</td>\n",
       "      <td>30.0</td>\n",
       "      <td>103106.0</td>\n",
       "    </tr>\n",
       "    <tr>\n",
       "      <th>393</th>\n",
       "      <td>2.0</td>\n",
       "      <td>0.0</td>\n",
       "      <td>31.0</td>\n",
       "      <td>19.0</td>\n",
       "      <td>150564.0</td>\n",
       "    </tr>\n",
       "    <tr>\n",
       "      <th>394</th>\n",
       "      <td>2.0</td>\n",
       "      <td>0.0</td>\n",
       "      <td>42.0</td>\n",
       "      <td>25.0</td>\n",
       "      <td>101738.0</td>\n",
       "    </tr>\n",
       "    <tr>\n",
       "      <th>395</th>\n",
       "      <td>2.0</td>\n",
       "      <td>0.0</td>\n",
       "      <td>25.0</td>\n",
       "      <td>15.0</td>\n",
       "      <td>95329.0</td>\n",
       "    </tr>\n",
       "    <tr>\n",
       "      <th>396</th>\n",
       "      <td>1.0</td>\n",
       "      <td>0.0</td>\n",
       "      <td>8.0</td>\n",
       "      <td>4.0</td>\n",
       "      <td>81035.0</td>\n",
       "    </tr>\n",
       "  </tbody>\n",
       "</table>\n",
       "<p>393 rows × 5 columns</p>\n",
       "</div>"
      ],
      "text/plain": [
       "     rank  discipline  yrs.since.phd  yrs.service    salary\n",
       "0     2.0         1.0           19.0         18.0  139750.0\n",
       "1     2.0         1.0           20.0         16.0  173200.0\n",
       "2     1.0         1.0            4.0          3.0   79750.0\n",
       "3     2.0         1.0           45.0         39.0  115000.0\n",
       "4     2.0         1.0           40.0         41.0  141500.0\n",
       "..    ...         ...            ...          ...       ...\n",
       "392   2.0         0.0           33.0         30.0  103106.0\n",
       "393   2.0         0.0           31.0         19.0  150564.0\n",
       "394   2.0         0.0           42.0         25.0  101738.0\n",
       "395   2.0         0.0           25.0         15.0   95329.0\n",
       "396   1.0         0.0            8.0          4.0   81035.0\n",
       "\n",
       "[393 rows x 5 columns]"
      ]
     },
     "execution_count": 152,
     "metadata": {},
     "output_type": "execute_result"
    }
   ],
   "source": [
    "df_new = df[(z<3).all(axis=1)]\n",
    "df_new #creating a new data base by removing the outliers"
   ]
  },
  {
   "cell_type": "code",
   "execution_count": 153,
   "id": "0e800966",
   "metadata": {},
   "outputs": [
    {
     "name": "stdout",
     "output_type": "stream",
     "text": [
      "Size of old dataset =  397\n",
      "Size of new dataset =  393\n",
      "The amount of data dropped =  4\n",
      "Loss percentage = 1.0075566750629723 %\n"
     ]
    }
   ],
   "source": [
    "print (\"Size of old dataset = \",df.shape[0])\n",
    "print (\"Size of new dataset = \",df_new.shape[0])\n",
    "print (\"The amount of data dropped = \",df.shape[0]-df_new.shape[0])\n",
    "print (\"Loss percentage =\",(df.shape[0]-df_new.shape[0])/df.shape[0]*100,'%')"
   ]
  },
  {
   "cell_type": "raw",
   "id": "121138e6",
   "metadata": {},
   "source": [
    "1% data lost only, which is good."
   ]
  },
  {
   "cell_type": "markdown",
   "id": "f5917ef8",
   "metadata": {},
   "source": [
    "### Seperating the values to x and y"
   ]
  },
  {
   "cell_type": "code",
   "execution_count": 154,
   "id": "8a969814",
   "metadata": {},
   "outputs": [],
   "source": [
    "#independent variables\n",
    "x = df_new.iloc[:,:-1]\n",
    "\n",
    "#target variable\n",
    "y = df_new.iloc[:,-1]"
   ]
  },
  {
   "cell_type": "markdown",
   "id": "a02e38d9",
   "metadata": {},
   "source": [
    "### Transforming data to remove skewness"
   ]
  },
  {
   "cell_type": "code",
   "execution_count": 155,
   "id": "18f4d476",
   "metadata": {},
   "outputs": [
    {
     "data": {
      "text/plain": [
       "array([[ 0.69481738,  0.91457564, -0.11344983,  0.26888583],\n",
       "       [ 0.69481738,  0.91457564, -0.03455335,  0.1209006 ],\n",
       "       [-1.0753989 ,  0.91457564, -1.6242611 , -1.28449532],\n",
       "       ...,\n",
       "       [ 0.69481738, -1.09340328,  1.42772852,  0.72581897],\n",
       "       [ 0.69481738, -1.09340328,  0.33874878,  0.04312953],\n",
       "       [-1.0753989 , -1.09340328, -1.12908354, -1.11979784]])"
      ]
     },
     "execution_count": 155,
     "metadata": {},
     "output_type": "execute_result"
    }
   ],
   "source": [
    "#using power transform\n",
    "\n",
    "from sklearn.preprocessing import power_transform\n",
    "x = power_transform(x,method='yeo-johnson')\n",
    "x"
   ]
  },
  {
   "cell_type": "code",
   "execution_count": 156,
   "id": "e9714d20",
   "metadata": {},
   "outputs": [
    {
     "data": {
      "text/plain": [
       "array([[ 0.69481738,  0.91457564, -0.11344983,  0.26888583],\n",
       "       [ 0.69481738,  0.91457564, -0.03455335,  0.1209006 ],\n",
       "       [-1.0753989 ,  0.91457564, -1.6242611 , -1.28449532],\n",
       "       ...,\n",
       "       [ 0.69481738, -1.09340328,  1.42772852,  0.72581897],\n",
       "       [ 0.69481738, -1.09340328,  0.33874878,  0.04312953],\n",
       "       [-1.0753989 , -1.09340328, -1.12908354, -1.11979784]])"
      ]
     },
     "execution_count": 156,
     "metadata": {},
     "output_type": "execute_result"
    }
   ],
   "source": [
    "#using standard scalar\n",
    "\n",
    "from sklearn.preprocessing import StandardScaler\n",
    "ss = StandardScaler()\n",
    "x = ss.fit_transform(x)\n",
    "x"
   ]
  },
  {
   "cell_type": "code",
   "execution_count": 157,
   "id": "3091ccda",
   "metadata": {},
   "outputs": [
    {
     "name": "stdout",
     "output_type": "stream",
     "text": [
      "Mean after StandardScalar = -2.2599959788807256e-17\n",
      "Standard deviation after StandardScalar = 1.0\n"
     ]
    }
   ],
   "source": [
    "print (\"Mean after StandardScalar =\",x.mean())\n",
    "print (\"Standard deviation after StandardScalar =\",x.std())"
   ]
  },
  {
   "cell_type": "markdown",
   "id": "359db5e8",
   "metadata": {},
   "source": [
    "## Model Building"
   ]
  },
  {
   "cell_type": "markdown",
   "id": "619255c5",
   "metadata": {},
   "source": [
    "### Linear Regression"
   ]
  },
  {
   "cell_type": "code",
   "execution_count": 158,
   "id": "809477ce",
   "metadata": {},
   "outputs": [
    {
     "name": "stdout",
     "output_type": "stream",
     "text": [
      "At random state:  30\n",
      "Training accuracy is:  42.2\n",
      "Test accuracy is:  42.2\n",
      "At random state:  105\n",
      "Training accuracy is:  41.5\n",
      "Test accuracy is:  41.5\n",
      "At random state:  152\n",
      "Training accuracy is:  42.2\n",
      "Test accuracy is:  42.2\n",
      "At random state:  234\n",
      "Training accuracy is:  41.9\n",
      "Test accuracy is:  41.9\n",
      "At random state:  675\n",
      "Training accuracy is:  42.0\n",
      "Test accuracy is:  42.0\n",
      "At random state:  692\n",
      "Training accuracy is:  42.0\n",
      "Test accuracy is:  42.0\n",
      "At random state:  828\n",
      "Training accuracy is:  42.1\n",
      "Test accuracy is:  42.1\n",
      "At random state:  1250\n",
      "Training accuracy is:  42.3\n",
      "Test accuracy is:  42.3\n"
     ]
    }
   ],
   "source": [
    "from sklearn.model_selection import train_test_split\n",
    "from sklearn.linear_model import LogisticRegression, LinearRegression\n",
    "from sklearn.metrics import accuracy_score, r2_score\n",
    "\n",
    "lr = LinearRegression()\n",
    "\n",
    "for i in range(0,1300):\n",
    "    x_train,x_test,y_train,y_test = train_test_split(x,y,random_state=i,test_size=0.2)\n",
    "    lr.fit(x_train,y_train)\n",
    "    pred_train = lr.predict(x_train)\n",
    "    pred_test = lr.predict(x_test)\n",
    "    if round(r2_score(y_train,pred_train)*100,1)==round(r2_score(y_test,pred_test)*100,1):\n",
    "        print (\"At random state: \",i)\n",
    "        print (\"Training accuracy is: \",round(r2_score(y_train,pred_train)*100,1))\n",
    "        print (\"Test accuracy is: \",round(r2_score(y_test,pred_test)*100,1))"
   ]
  },
  {
   "cell_type": "code",
   "execution_count": 205,
   "id": "0bd41070",
   "metadata": {},
   "outputs": [
    {
     "name": "stdout",
     "output_type": "stream",
     "text": [
      "The accuracy is:  42.3\n"
     ]
    }
   ],
   "source": [
    "#to confirm the accuracy of 42.3% at random state 1250 \n",
    "\n",
    "x_train,x_test,y_train,y_test = train_test_split(x,y,random_state=1250,test_size=0.2)\n",
    "lr.fit(x_train,y_train)\n",
    "pred_test = lr.predict(x_test)\n",
    "print (\"The accuracy is: \",round(r2_score(y_test,pred_test)*100,1))\n",
    "\n",
    "linear_regression_unbalanced = round(r2_score(y_test,pred_test)*100,1)"
   ]
  },
  {
   "cell_type": "markdown",
   "id": "b9d737ee",
   "metadata": {},
   "source": [
    "#### Cross Validation - Linear Regression"
   ]
  },
  {
   "cell_type": "code",
   "execution_count": 160,
   "id": "3864e38c",
   "metadata": {},
   "outputs": [
    {
     "name": "stdout",
     "output_type": "stream",
     "text": [
      "At CV: 2\n",
      "The CV score is: 37.3\n",
      "The accuracy is: 42.3\n",
      "At CV: 3\n",
      "The CV score is: 36.1\n",
      "The accuracy is: 42.3\n",
      "At CV: 4\n",
      "The CV score is: 37.4\n",
      "The accuracy is: 42.3\n",
      "At CV: 5\n",
      "The CV score is: 36.1\n",
      "The accuracy is: 42.3\n",
      "At CV: 6\n",
      "The CV score is: 37.9\n",
      "The accuracy is: 42.3\n",
      "At CV: 7\n",
      "The CV score is: 37.2\n",
      "The accuracy is: 42.3\n",
      "At CV: 8\n",
      "The CV score is: 38.6\n",
      "The accuracy is: 42.3\n",
      "At CV: 9\n",
      "The CV score is: 36.5\n",
      "The accuracy is: 42.3\n"
     ]
    }
   ],
   "source": [
    "from sklearn.model_selection import cross_val_score\n",
    "\n",
    "pred_test_accuracy = r2_score(y_test,pred_test)\n",
    "\n",
    "for val in range(2,10):\n",
    "    l_score = cross_val_score(lr,x,y,cv=val)\n",
    "    lscore_mean = l_score.mean()\n",
    "    print (\"At CV:\",val)\n",
    "    print (\"The CV score is:\",round((lscore_mean)*100,1))\n",
    "    print (\"The accuracy is:\",round((pred_test_accuracy)*100,1))"
   ]
  },
  {
   "cell_type": "code",
   "execution_count": 161,
   "id": "8a4a20f9",
   "metadata": {},
   "outputs": [
    {
     "name": "stdout",
     "output_type": "stream",
     "text": [
      "The Lasso CV score is 42.3 %\n"
     ]
    }
   ],
   "source": [
    "#applying lasso and ridge cross validation\n",
    "from sklearn.linear_model import Lasso, LassoCV, Ridge, RidgeCV\n",
    "\n",
    "lassocv = LassoCV(alphas = None, cv=8, max_iter=1000,normalize=True)\n",
    "lassocv.fit(x_train,y_train)\n",
    "\n",
    "alpha=lassocv.alpha_\n",
    "lasso_reg = Lasso(alpha)\n",
    "lasso_reg.fit(x_train,y_train)\n",
    "\n",
    "print (\"The Lasso CV score is\",round(lasso_reg.score(x_test,y_test)*100,1),\"%\")"
   ]
  },
  {
   "cell_type": "code",
   "execution_count": 162,
   "id": "ff2bceae",
   "metadata": {},
   "outputs": [
    {
     "name": "stdout",
     "output_type": "stream",
     "text": [
      "The Ridge CV score is 42.3 %\n"
     ]
    }
   ],
   "source": [
    "alpha_r = np.random.uniform(low=0,high=10,size=(50,))\n",
    "ridgecv = RidgeCV(alphas = alpha_r, cv=8, normalize=True)\n",
    "ridgecv.fit(x_train,y_train)\n",
    "ridgecv.alpha_\n",
    "\n",
    "ridge_reg = Ridge(ridgecv.alpha_)\n",
    "ridge_reg.fit(x_train,y_train)\n",
    "print (\"The Ridge CV score is\",round(ridge_reg.score(x_test,y_test)*100,1),\"%\")"
   ]
  },
  {
   "cell_type": "raw",
   "id": "b374df90",
   "metadata": {},
   "source": [
    "Since the LassoCV and the RidgeCV scores are similar, we can conclude that our linear regression is working well"
   ]
  },
  {
   "cell_type": "markdown",
   "id": "6d3ebcff",
   "metadata": {},
   "source": [
    "### KNN Regressor"
   ]
  },
  {
   "cell_type": "code",
   "execution_count": 204,
   "id": "b6d39bf6",
   "metadata": {},
   "outputs": [
    {
     "name": "stdout",
     "output_type": "stream",
     "text": [
      "The KNN score is -2.84 %\n"
     ]
    }
   ],
   "source": [
    "from sklearn.neighbors import KNeighborsRegressor\n",
    "\n",
    "KN = KNeighborsRegressor(n_neighbors=7, algorithm='kd_tree', weights='distance')\n",
    "KN.fit(x_train,y_train)\n",
    "KN_pred = KN.predict(x_test)\n",
    "print (\"The KNN score is\",round(r2_score(KN_pred,y_test)*100,2),\"%\")\n",
    "\n",
    "KNN_regression_unbalanced = round(r2_score(KN_pred,y_test)*100,2)"
   ]
  },
  {
   "cell_type": "markdown",
   "id": "c640a154",
   "metadata": {},
   "source": [
    "### Random Forest Regressor "
   ]
  },
  {
   "cell_type": "code",
   "execution_count": 206,
   "id": "caea5c46",
   "metadata": {},
   "outputs": [
    {
     "name": "stdout",
     "output_type": "stream",
     "text": [
      "The RFR score is -4.14 %\n"
     ]
    }
   ],
   "source": [
    "from sklearn.ensemble import RandomForestRegressor\n",
    "\n",
    "RFR = RandomForestRegressor(n_estimators=10,bootstrap=True,random_state=117)\n",
    "RFR.fit(x_train,y_train)\n",
    "RFR_pred = RFR.predict(x_test)\n",
    "print (\"The RFR score is\",round(r2_score(RFR_pred,y_test)*100,2),\"%\")\n",
    "\n",
    "RFR_regression_unbalanced = round(r2_score(RFR_pred,y_test)*100,2)"
   ]
  },
  {
   "cell_type": "markdown",
   "id": "b411c904",
   "metadata": {},
   "source": [
    "### SVM Regressor"
   ]
  },
  {
   "cell_type": "code",
   "execution_count": 207,
   "id": "99c825c5",
   "metadata": {},
   "outputs": [
    {
     "name": "stdout",
     "output_type": "stream",
     "text": [
      "The SVR score is -2069.91 %\n"
     ]
    }
   ],
   "source": [
    "from sklearn.svm import SVR\n",
    "\n",
    "svr = SVR(kernel='poly', gamma=1, epsilon=3)\n",
    "svr.fit(x_train,y_train)\n",
    "SVR_pred = svr.predict(x_test)\n",
    "print (\"The SVR score is\",round(r2_score(SVR_pred,y_test)*100,2),\"%\")\n",
    "\n",
    "SVR_regression_unbalanced = round(r2_score(SVR_pred,y_test)*100,2)"
   ]
  },
  {
   "cell_type": "markdown",
   "id": "f9604857",
   "metadata": {},
   "source": [
    "### Actual Values vs Predicted Values  "
   ]
  },
  {
   "cell_type": "code",
   "execution_count": 166,
   "id": "10be3345",
   "metadata": {},
   "outputs": [
    {
     "data": {
      "text/html": [
       "<div>\n",
       "<style scoped>\n",
       "    .dataframe tbody tr th:only-of-type {\n",
       "        vertical-align: middle;\n",
       "    }\n",
       "\n",
       "    .dataframe tbody tr th {\n",
       "        vertical-align: top;\n",
       "    }\n",
       "\n",
       "    .dataframe thead th {\n",
       "        text-align: right;\n",
       "    }\n",
       "</style>\n",
       "<table border=\"1\" class=\"dataframe\">\n",
       "  <thead>\n",
       "    <tr style=\"text-align: right;\">\n",
       "      <th></th>\n",
       "      <th>Actual Values</th>\n",
       "      <th>Predicted Values</th>\n",
       "      <th>Error/Residual</th>\n",
       "    </tr>\n",
       "  </thead>\n",
       "  <tbody>\n",
       "    <tr>\n",
       "      <th>0</th>\n",
       "      <td>103750.0</td>\n",
       "      <td>90967.0</td>\n",
       "      <td>12783.0</td>\n",
       "    </tr>\n",
       "    <tr>\n",
       "      <th>1</th>\n",
       "      <td>113341.0</td>\n",
       "      <td>85794.0</td>\n",
       "      <td>27547.0</td>\n",
       "    </tr>\n",
       "    <tr>\n",
       "      <th>2</th>\n",
       "      <td>150564.0</td>\n",
       "      <td>121233.0</td>\n",
       "      <td>29331.0</td>\n",
       "    </tr>\n",
       "    <tr>\n",
       "      <th>3</th>\n",
       "      <td>70700.0</td>\n",
       "      <td>89763.0</td>\n",
       "      <td>-19063.0</td>\n",
       "    </tr>\n",
       "    <tr>\n",
       "      <th>4</th>\n",
       "      <td>105000.0</td>\n",
       "      <td>97676.0</td>\n",
       "      <td>7324.0</td>\n",
       "    </tr>\n",
       "  </tbody>\n",
       "</table>\n",
       "</div>"
      ],
      "text/plain": [
       "   Actual Values  Predicted Values  Error/Residual\n",
       "0       103750.0           90967.0         12783.0\n",
       "1       113341.0           85794.0         27547.0\n",
       "2       150564.0          121233.0         29331.0\n",
       "3        70700.0           89763.0        -19063.0\n",
       "4       105000.0           97676.0          7324.0"
      ]
     },
     "execution_count": 166,
     "metadata": {},
     "output_type": "execute_result"
    }
   ],
   "source": [
    "actual_ = np.array(y_test)\n",
    "predicted_ = np.array(lr.predict(x_test))\n",
    "error_residual = actual_-predicted_\n",
    "\n",
    "actual_vs_pred_df = pd.DataFrame({'Actual Values':actual_,'Predicted Values':np.round(predicted_),'Error/Residual':np.round(error_residual)})\n",
    "actual_vs_pred_df.head()"
   ]
  },
  {
   "cell_type": "markdown",
   "id": "cb15c0b0",
   "metadata": {},
   "source": [
    "# The above salary prediction model was created without balancing the dataset. "
   ]
  },
  {
   "cell_type": "code",
   "execution_count": 168,
   "id": "138a9e4b",
   "metadata": {},
   "outputs": [
    {
     "data": {
      "text/plain": [
       "Prof         266\n",
       "AsstProf      67\n",
       "AssocProf     64\n",
       "Name: rank, dtype: int64"
      ]
     },
     "execution_count": 168,
     "metadata": {},
     "output_type": "execute_result"
    }
   ],
   "source": [
    "data = pd.read_csv('Salaries.csv')\n",
    "data['rank'].value_counts()"
   ]
  },
  {
   "cell_type": "raw",
   "id": "21895daf",
   "metadata": {},
   "source": [
    "However, it was noticed that there was a disparity between the ranks. In the rank column, the number of values of Asst Prof is (67) and Assoc Prof is (64). We can deal with this imbalace in the datasest by increasing the number of samples or by decreasing the number of samples. \n",
    "\n",
    "Decreasing the number of samples of Prof (266) from 266 to 67(+/-3) would be huge reduction in the data and may affect the model negatively. So, we'll go with upsample."
   ]
  },
  {
   "cell_type": "code",
   "execution_count": 169,
   "id": "e9ed63a0",
   "metadata": {},
   "outputs": [
    {
     "data": {
      "text/html": [
       "<div>\n",
       "<style scoped>\n",
       "    .dataframe tbody tr th:only-of-type {\n",
       "        vertical-align: middle;\n",
       "    }\n",
       "\n",
       "    .dataframe tbody tr th {\n",
       "        vertical-align: top;\n",
       "    }\n",
       "\n",
       "    .dataframe thead th {\n",
       "        text-align: right;\n",
       "    }\n",
       "</style>\n",
       "<table border=\"1\" class=\"dataframe\">\n",
       "  <thead>\n",
       "    <tr style=\"text-align: right;\">\n",
       "      <th></th>\n",
       "      <th>rank</th>\n",
       "      <th>discipline</th>\n",
       "      <th>yrs.since.phd</th>\n",
       "      <th>yrs.service</th>\n",
       "      <th>sex</th>\n",
       "      <th>salary</th>\n",
       "    </tr>\n",
       "  </thead>\n",
       "  <tbody>\n",
       "    <tr>\n",
       "      <th>0</th>\n",
       "      <td>Prof</td>\n",
       "      <td>B</td>\n",
       "      <td>19</td>\n",
       "      <td>18</td>\n",
       "      <td>Male</td>\n",
       "      <td>139750</td>\n",
       "    </tr>\n",
       "    <tr>\n",
       "      <th>1</th>\n",
       "      <td>Prof</td>\n",
       "      <td>B</td>\n",
       "      <td>20</td>\n",
       "      <td>16</td>\n",
       "      <td>Male</td>\n",
       "      <td>173200</td>\n",
       "    </tr>\n",
       "    <tr>\n",
       "      <th>3</th>\n",
       "      <td>Prof</td>\n",
       "      <td>B</td>\n",
       "      <td>45</td>\n",
       "      <td>39</td>\n",
       "      <td>Male</td>\n",
       "      <td>115000</td>\n",
       "    </tr>\n",
       "    <tr>\n",
       "      <th>4</th>\n",
       "      <td>Prof</td>\n",
       "      <td>B</td>\n",
       "      <td>40</td>\n",
       "      <td>41</td>\n",
       "      <td>Male</td>\n",
       "      <td>141500</td>\n",
       "    </tr>\n",
       "    <tr>\n",
       "      <th>6</th>\n",
       "      <td>Prof</td>\n",
       "      <td>B</td>\n",
       "      <td>30</td>\n",
       "      <td>23</td>\n",
       "      <td>Male</td>\n",
       "      <td>175000</td>\n",
       "    </tr>\n",
       "    <tr>\n",
       "      <th>...</th>\n",
       "      <td>...</td>\n",
       "      <td>...</td>\n",
       "      <td>...</td>\n",
       "      <td>...</td>\n",
       "      <td>...</td>\n",
       "      <td>...</td>\n",
       "    </tr>\n",
       "    <tr>\n",
       "      <th>391</th>\n",
       "      <td>Prof</td>\n",
       "      <td>A</td>\n",
       "      <td>30</td>\n",
       "      <td>19</td>\n",
       "      <td>Male</td>\n",
       "      <td>151292</td>\n",
       "    </tr>\n",
       "    <tr>\n",
       "      <th>392</th>\n",
       "      <td>Prof</td>\n",
       "      <td>A</td>\n",
       "      <td>33</td>\n",
       "      <td>30</td>\n",
       "      <td>Male</td>\n",
       "      <td>103106</td>\n",
       "    </tr>\n",
       "    <tr>\n",
       "      <th>393</th>\n",
       "      <td>Prof</td>\n",
       "      <td>A</td>\n",
       "      <td>31</td>\n",
       "      <td>19</td>\n",
       "      <td>Male</td>\n",
       "      <td>150564</td>\n",
       "    </tr>\n",
       "    <tr>\n",
       "      <th>394</th>\n",
       "      <td>Prof</td>\n",
       "      <td>A</td>\n",
       "      <td>42</td>\n",
       "      <td>25</td>\n",
       "      <td>Male</td>\n",
       "      <td>101738</td>\n",
       "    </tr>\n",
       "    <tr>\n",
       "      <th>395</th>\n",
       "      <td>Prof</td>\n",
       "      <td>A</td>\n",
       "      <td>25</td>\n",
       "      <td>15</td>\n",
       "      <td>Male</td>\n",
       "      <td>95329</td>\n",
       "    </tr>\n",
       "  </tbody>\n",
       "</table>\n",
       "<p>266 rows × 6 columns</p>\n",
       "</div>"
      ],
      "text/plain": [
       "     rank discipline  yrs.since.phd  yrs.service   sex  salary\n",
       "0    Prof          B             19           18  Male  139750\n",
       "1    Prof          B             20           16  Male  173200\n",
       "3    Prof          B             45           39  Male  115000\n",
       "4    Prof          B             40           41  Male  141500\n",
       "6    Prof          B             30           23  Male  175000\n",
       "..    ...        ...            ...          ...   ...     ...\n",
       "391  Prof          A             30           19  Male  151292\n",
       "392  Prof          A             33           30  Male  103106\n",
       "393  Prof          A             31           19  Male  150564\n",
       "394  Prof          A             42           25  Male  101738\n",
       "395  Prof          A             25           15  Male   95329\n",
       "\n",
       "[266 rows x 6 columns]"
      ]
     },
     "execution_count": 169,
     "metadata": {},
     "output_type": "execute_result"
    }
   ],
   "source": [
    "prof = data[data['rank']=='Prof']\n",
    "asst_prof = data[data['rank']=='AsstProf']\n",
    "assoc_prof = data[data['rank']=='AssocProf']\n",
    "prof"
   ]
  },
  {
   "cell_type": "code",
   "execution_count": 170,
   "id": "868520d1",
   "metadata": {},
   "outputs": [
    {
     "data": {
      "text/plain": [
       "AsstProf     266\n",
       "AssocProf    266\n",
       "Prof         266\n",
       "Name: rank, dtype: int64"
      ]
     },
     "execution_count": 170,
     "metadata": {},
     "output_type": "execute_result"
    }
   ],
   "source": [
    "from sklearn.utils import resample\n",
    "\n",
    "asst_upsampled = resample(asst_prof,replace=True,n_samples=199,random_state=27)\n",
    "merged_asst_upsample = pd.concat([asst_prof,asst_upsampled])\n",
    "assoc_upsampled = resample(assoc_prof,replace=True,n_samples=202,random_state=27)\n",
    "merged_assoc_upsample = pd.concat([assoc_prof,assoc_upsampled])\n",
    "\n",
    "#concatenating the dataframes together\n",
    "data_m=pd.concat([merged_asst_upsample,merged_assoc_upsample,prof])\n",
    "data_m['rank'].value_counts()"
   ]
  },
  {
   "cell_type": "code",
   "execution_count": 171,
   "id": "1cba07d5",
   "metadata": {},
   "outputs": [
    {
     "data": {
      "text/html": [
       "<div>\n",
       "<style scoped>\n",
       "    .dataframe tbody tr th:only-of-type {\n",
       "        vertical-align: middle;\n",
       "    }\n",
       "\n",
       "    .dataframe tbody tr th {\n",
       "        vertical-align: top;\n",
       "    }\n",
       "\n",
       "    .dataframe thead th {\n",
       "        text-align: right;\n",
       "    }\n",
       "</style>\n",
       "<table border=\"1\" class=\"dataframe\">\n",
       "  <thead>\n",
       "    <tr style=\"text-align: right;\">\n",
       "      <th></th>\n",
       "      <th>rank</th>\n",
       "      <th>discipline</th>\n",
       "      <th>yrs.since.phd</th>\n",
       "      <th>yrs.service</th>\n",
       "      <th>sex</th>\n",
       "      <th>salary</th>\n",
       "    </tr>\n",
       "  </thead>\n",
       "  <tbody>\n",
       "    <tr>\n",
       "      <th>2</th>\n",
       "      <td>AsstProf</td>\n",
       "      <td>B</td>\n",
       "      <td>4</td>\n",
       "      <td>3</td>\n",
       "      <td>Male</td>\n",
       "      <td>79750</td>\n",
       "    </tr>\n",
       "    <tr>\n",
       "      <th>11</th>\n",
       "      <td>AsstProf</td>\n",
       "      <td>B</td>\n",
       "      <td>7</td>\n",
       "      <td>2</td>\n",
       "      <td>Male</td>\n",
       "      <td>79800</td>\n",
       "    </tr>\n",
       "    <tr>\n",
       "      <th>12</th>\n",
       "      <td>AsstProf</td>\n",
       "      <td>B</td>\n",
       "      <td>1</td>\n",
       "      <td>1</td>\n",
       "      <td>Male</td>\n",
       "      <td>77700</td>\n",
       "    </tr>\n",
       "    <tr>\n",
       "      <th>13</th>\n",
       "      <td>AsstProf</td>\n",
       "      <td>B</td>\n",
       "      <td>2</td>\n",
       "      <td>0</td>\n",
       "      <td>Male</td>\n",
       "      <td>78000</td>\n",
       "    </tr>\n",
       "    <tr>\n",
       "      <th>27</th>\n",
       "      <td>AsstProf</td>\n",
       "      <td>B</td>\n",
       "      <td>5</td>\n",
       "      <td>3</td>\n",
       "      <td>Male</td>\n",
       "      <td>82379</td>\n",
       "    </tr>\n",
       "    <tr>\n",
       "      <th>...</th>\n",
       "      <td>...</td>\n",
       "      <td>...</td>\n",
       "      <td>...</td>\n",
       "      <td>...</td>\n",
       "      <td>...</td>\n",
       "      <td>...</td>\n",
       "    </tr>\n",
       "    <tr>\n",
       "      <th>391</th>\n",
       "      <td>Prof</td>\n",
       "      <td>A</td>\n",
       "      <td>30</td>\n",
       "      <td>19</td>\n",
       "      <td>Male</td>\n",
       "      <td>151292</td>\n",
       "    </tr>\n",
       "    <tr>\n",
       "      <th>392</th>\n",
       "      <td>Prof</td>\n",
       "      <td>A</td>\n",
       "      <td>33</td>\n",
       "      <td>30</td>\n",
       "      <td>Male</td>\n",
       "      <td>103106</td>\n",
       "    </tr>\n",
       "    <tr>\n",
       "      <th>393</th>\n",
       "      <td>Prof</td>\n",
       "      <td>A</td>\n",
       "      <td>31</td>\n",
       "      <td>19</td>\n",
       "      <td>Male</td>\n",
       "      <td>150564</td>\n",
       "    </tr>\n",
       "    <tr>\n",
       "      <th>394</th>\n",
       "      <td>Prof</td>\n",
       "      <td>A</td>\n",
       "      <td>42</td>\n",
       "      <td>25</td>\n",
       "      <td>Male</td>\n",
       "      <td>101738</td>\n",
       "    </tr>\n",
       "    <tr>\n",
       "      <th>395</th>\n",
       "      <td>Prof</td>\n",
       "      <td>A</td>\n",
       "      <td>25</td>\n",
       "      <td>15</td>\n",
       "      <td>Male</td>\n",
       "      <td>95329</td>\n",
       "    </tr>\n",
       "  </tbody>\n",
       "</table>\n",
       "<p>798 rows × 6 columns</p>\n",
       "</div>"
      ],
      "text/plain": [
       "         rank discipline  yrs.since.phd  yrs.service   sex  salary\n",
       "2    AsstProf          B              4            3  Male   79750\n",
       "11   AsstProf          B              7            2  Male   79800\n",
       "12   AsstProf          B              1            1  Male   77700\n",
       "13   AsstProf          B              2            0  Male   78000\n",
       "27   AsstProf          B              5            3  Male   82379\n",
       "..        ...        ...            ...          ...   ...     ...\n",
       "391      Prof          A             30           19  Male  151292\n",
       "392      Prof          A             33           30  Male  103106\n",
       "393      Prof          A             31           19  Male  150564\n",
       "394      Prof          A             42           25  Male  101738\n",
       "395      Prof          A             25           15  Male   95329\n",
       "\n",
       "[798 rows x 6 columns]"
      ]
     },
     "execution_count": 171,
     "metadata": {},
     "output_type": "execute_result"
    }
   ],
   "source": [
    "#we can see that the values are now balanced, but the index is jumbled and there are duplicates present.\n",
    "data_m"
   ]
  },
  {
   "cell_type": "code",
   "execution_count": 172,
   "id": "6c35871b",
   "metadata": {},
   "outputs": [
    {
     "data": {
      "text/html": [
       "<div>\n",
       "<style scoped>\n",
       "    .dataframe tbody tr th:only-of-type {\n",
       "        vertical-align: middle;\n",
       "    }\n",
       "\n",
       "    .dataframe tbody tr th {\n",
       "        vertical-align: top;\n",
       "    }\n",
       "\n",
       "    .dataframe thead th {\n",
       "        text-align: right;\n",
       "    }\n",
       "</style>\n",
       "<table border=\"1\" class=\"dataframe\">\n",
       "  <thead>\n",
       "    <tr style=\"text-align: right;\">\n",
       "      <th></th>\n",
       "      <th>rank</th>\n",
       "      <th>discipline</th>\n",
       "      <th>yrs.since.phd</th>\n",
       "      <th>yrs.service</th>\n",
       "      <th>sex</th>\n",
       "      <th>salary</th>\n",
       "    </tr>\n",
       "  </thead>\n",
       "  <tbody>\n",
       "    <tr>\n",
       "      <th>0</th>\n",
       "      <td>AsstProf</td>\n",
       "      <td>B</td>\n",
       "      <td>4</td>\n",
       "      <td>3</td>\n",
       "      <td>Male</td>\n",
       "      <td>79750</td>\n",
       "    </tr>\n",
       "    <tr>\n",
       "      <th>1</th>\n",
       "      <td>AsstProf</td>\n",
       "      <td>B</td>\n",
       "      <td>7</td>\n",
       "      <td>2</td>\n",
       "      <td>Male</td>\n",
       "      <td>79800</td>\n",
       "    </tr>\n",
       "    <tr>\n",
       "      <th>2</th>\n",
       "      <td>AsstProf</td>\n",
       "      <td>B</td>\n",
       "      <td>1</td>\n",
       "      <td>1</td>\n",
       "      <td>Male</td>\n",
       "      <td>77700</td>\n",
       "    </tr>\n",
       "    <tr>\n",
       "      <th>3</th>\n",
       "      <td>AsstProf</td>\n",
       "      <td>B</td>\n",
       "      <td>2</td>\n",
       "      <td>0</td>\n",
       "      <td>Male</td>\n",
       "      <td>78000</td>\n",
       "    </tr>\n",
       "    <tr>\n",
       "      <th>4</th>\n",
       "      <td>AsstProf</td>\n",
       "      <td>B</td>\n",
       "      <td>5</td>\n",
       "      <td>3</td>\n",
       "      <td>Male</td>\n",
       "      <td>82379</td>\n",
       "    </tr>\n",
       "    <tr>\n",
       "      <th>...</th>\n",
       "      <td>...</td>\n",
       "      <td>...</td>\n",
       "      <td>...</td>\n",
       "      <td>...</td>\n",
       "      <td>...</td>\n",
       "      <td>...</td>\n",
       "    </tr>\n",
       "    <tr>\n",
       "      <th>793</th>\n",
       "      <td>Prof</td>\n",
       "      <td>A</td>\n",
       "      <td>30</td>\n",
       "      <td>19</td>\n",
       "      <td>Male</td>\n",
       "      <td>151292</td>\n",
       "    </tr>\n",
       "    <tr>\n",
       "      <th>794</th>\n",
       "      <td>Prof</td>\n",
       "      <td>A</td>\n",
       "      <td>33</td>\n",
       "      <td>30</td>\n",
       "      <td>Male</td>\n",
       "      <td>103106</td>\n",
       "    </tr>\n",
       "    <tr>\n",
       "      <th>795</th>\n",
       "      <td>Prof</td>\n",
       "      <td>A</td>\n",
       "      <td>31</td>\n",
       "      <td>19</td>\n",
       "      <td>Male</td>\n",
       "      <td>150564</td>\n",
       "    </tr>\n",
       "    <tr>\n",
       "      <th>796</th>\n",
       "      <td>Prof</td>\n",
       "      <td>A</td>\n",
       "      <td>42</td>\n",
       "      <td>25</td>\n",
       "      <td>Male</td>\n",
       "      <td>101738</td>\n",
       "    </tr>\n",
       "    <tr>\n",
       "      <th>797</th>\n",
       "      <td>Prof</td>\n",
       "      <td>A</td>\n",
       "      <td>25</td>\n",
       "      <td>15</td>\n",
       "      <td>Male</td>\n",
       "      <td>95329</td>\n",
       "    </tr>\n",
       "  </tbody>\n",
       "</table>\n",
       "<p>798 rows × 6 columns</p>\n",
       "</div>"
      ],
      "text/plain": [
       "         rank discipline  yrs.since.phd  yrs.service   sex  salary\n",
       "0    AsstProf          B              4            3  Male   79750\n",
       "1    AsstProf          B              7            2  Male   79800\n",
       "2    AsstProf          B              1            1  Male   77700\n",
       "3    AsstProf          B              2            0  Male   78000\n",
       "4    AsstProf          B              5            3  Male   82379\n",
       "..        ...        ...            ...          ...   ...     ...\n",
       "793      Prof          A             30           19  Male  151292\n",
       "794      Prof          A             33           30  Male  103106\n",
       "795      Prof          A             31           19  Male  150564\n",
       "796      Prof          A             42           25  Male  101738\n",
       "797      Prof          A             25           15  Male   95329\n",
       "\n",
       "[798 rows x 6 columns]"
      ]
     },
     "execution_count": 172,
     "metadata": {},
     "output_type": "execute_result"
    }
   ],
   "source": [
    "data_m.reset_index(drop=True)"
   ]
  },
  {
   "cell_type": "markdown",
   "id": "1ddac2f8",
   "metadata": {},
   "source": [
    "### Data Encoding the balaced dataset"
   ]
  },
  {
   "cell_type": "code",
   "execution_count": 173,
   "id": "af6148a4",
   "metadata": {},
   "outputs": [
    {
     "data": {
      "text/html": [
       "<div>\n",
       "<style scoped>\n",
       "    .dataframe tbody tr th:only-of-type {\n",
       "        vertical-align: middle;\n",
       "    }\n",
       "\n",
       "    .dataframe tbody tr th {\n",
       "        vertical-align: top;\n",
       "    }\n",
       "\n",
       "    .dataframe thead th {\n",
       "        text-align: right;\n",
       "    }\n",
       "</style>\n",
       "<table border=\"1\" class=\"dataframe\">\n",
       "  <thead>\n",
       "    <tr style=\"text-align: right;\">\n",
       "      <th></th>\n",
       "      <th>rank</th>\n",
       "      <th>discipline</th>\n",
       "      <th>yrs.since.phd</th>\n",
       "      <th>yrs.service</th>\n",
       "      <th>sex</th>\n",
       "      <th>salary</th>\n",
       "    </tr>\n",
       "  </thead>\n",
       "  <tbody>\n",
       "    <tr>\n",
       "      <th>2</th>\n",
       "      <td>1.0</td>\n",
       "      <td>1.0</td>\n",
       "      <td>4</td>\n",
       "      <td>3</td>\n",
       "      <td>1.0</td>\n",
       "      <td>79750</td>\n",
       "    </tr>\n",
       "    <tr>\n",
       "      <th>11</th>\n",
       "      <td>1.0</td>\n",
       "      <td>1.0</td>\n",
       "      <td>7</td>\n",
       "      <td>2</td>\n",
       "      <td>1.0</td>\n",
       "      <td>79800</td>\n",
       "    </tr>\n",
       "    <tr>\n",
       "      <th>12</th>\n",
       "      <td>1.0</td>\n",
       "      <td>1.0</td>\n",
       "      <td>1</td>\n",
       "      <td>1</td>\n",
       "      <td>1.0</td>\n",
       "      <td>77700</td>\n",
       "    </tr>\n",
       "    <tr>\n",
       "      <th>13</th>\n",
       "      <td>1.0</td>\n",
       "      <td>1.0</td>\n",
       "      <td>2</td>\n",
       "      <td>0</td>\n",
       "      <td>1.0</td>\n",
       "      <td>78000</td>\n",
       "    </tr>\n",
       "    <tr>\n",
       "      <th>27</th>\n",
       "      <td>1.0</td>\n",
       "      <td>1.0</td>\n",
       "      <td>5</td>\n",
       "      <td>3</td>\n",
       "      <td>1.0</td>\n",
       "      <td>82379</td>\n",
       "    </tr>\n",
       "    <tr>\n",
       "      <th>...</th>\n",
       "      <td>...</td>\n",
       "      <td>...</td>\n",
       "      <td>...</td>\n",
       "      <td>...</td>\n",
       "      <td>...</td>\n",
       "      <td>...</td>\n",
       "    </tr>\n",
       "    <tr>\n",
       "      <th>391</th>\n",
       "      <td>2.0</td>\n",
       "      <td>0.0</td>\n",
       "      <td>30</td>\n",
       "      <td>19</td>\n",
       "      <td>1.0</td>\n",
       "      <td>151292</td>\n",
       "    </tr>\n",
       "    <tr>\n",
       "      <th>392</th>\n",
       "      <td>2.0</td>\n",
       "      <td>0.0</td>\n",
       "      <td>33</td>\n",
       "      <td>30</td>\n",
       "      <td>1.0</td>\n",
       "      <td>103106</td>\n",
       "    </tr>\n",
       "    <tr>\n",
       "      <th>393</th>\n",
       "      <td>2.0</td>\n",
       "      <td>0.0</td>\n",
       "      <td>31</td>\n",
       "      <td>19</td>\n",
       "      <td>1.0</td>\n",
       "      <td>150564</td>\n",
       "    </tr>\n",
       "    <tr>\n",
       "      <th>394</th>\n",
       "      <td>2.0</td>\n",
       "      <td>0.0</td>\n",
       "      <td>42</td>\n",
       "      <td>25</td>\n",
       "      <td>1.0</td>\n",
       "      <td>101738</td>\n",
       "    </tr>\n",
       "    <tr>\n",
       "      <th>395</th>\n",
       "      <td>2.0</td>\n",
       "      <td>0.0</td>\n",
       "      <td>25</td>\n",
       "      <td>15</td>\n",
       "      <td>1.0</td>\n",
       "      <td>95329</td>\n",
       "    </tr>\n",
       "  </tbody>\n",
       "</table>\n",
       "<p>798 rows × 6 columns</p>\n",
       "</div>"
      ],
      "text/plain": [
       "     rank  discipline  yrs.since.phd  yrs.service  sex  salary\n",
       "2     1.0         1.0              4            3  1.0   79750\n",
       "11    1.0         1.0              7            2  1.0   79800\n",
       "12    1.0         1.0              1            1  1.0   77700\n",
       "13    1.0         1.0              2            0  1.0   78000\n",
       "27    1.0         1.0              5            3  1.0   82379\n",
       "..    ...         ...            ...          ...  ...     ...\n",
       "391   2.0         0.0             30           19  1.0  151292\n",
       "392   2.0         0.0             33           30  1.0  103106\n",
       "393   2.0         0.0             31           19  1.0  150564\n",
       "394   2.0         0.0             42           25  1.0  101738\n",
       "395   2.0         0.0             25           15  1.0   95329\n",
       "\n",
       "[798 rows x 6 columns]"
      ]
     },
     "execution_count": 173,
     "metadata": {},
     "output_type": "execute_result"
    }
   ],
   "source": [
    "from sklearn.preprocessing import OrdinalEncoder\n",
    "oe = OrdinalEncoder()\n",
    "\n",
    "for obj in data_m.columns:\n",
    "    if data_m[obj].dtypes==\"object\":\n",
    "        data_m[obj] = oe.fit_transform(data_m[obj].values.reshape(-1,1))\n",
    "        \n",
    "data_m"
   ]
  },
  {
   "cell_type": "markdown",
   "id": "09956445",
   "metadata": {},
   "source": [
    "### Converting all the columns to float"
   ]
  },
  {
   "cell_type": "code",
   "execution_count": 174,
   "id": "836b90ee",
   "metadata": {
    "scrolled": true
   },
   "outputs": [
    {
     "name": "stdout",
     "output_type": "stream",
     "text": [
      "<class 'pandas.core.frame.DataFrame'>\n",
      "Int64Index: 798 entries, 2 to 395\n",
      "Data columns (total 6 columns):\n",
      " #   Column         Non-Null Count  Dtype  \n",
      "---  ------         --------------  -----  \n",
      " 0   rank           798 non-null    float64\n",
      " 1   discipline     798 non-null    float64\n",
      " 2   yrs.since.phd  798 non-null    int64  \n",
      " 3   yrs.service    798 non-null    int64  \n",
      " 4   sex            798 non-null    float64\n",
      " 5   salary         798 non-null    int64  \n",
      "dtypes: float64(3), int64(3)\n",
      "memory usage: 43.6 KB\n"
     ]
    }
   ],
   "source": [
    "data_m.info()"
   ]
  },
  {
   "cell_type": "code",
   "execution_count": 175,
   "id": "4ee477b1",
   "metadata": {},
   "outputs": [
    {
     "name": "stdout",
     "output_type": "stream",
     "text": [
      "<class 'pandas.core.frame.DataFrame'>\n",
      "Int64Index: 798 entries, 2 to 395\n",
      "Data columns (total 6 columns):\n",
      " #   Column         Non-Null Count  Dtype  \n",
      "---  ------         --------------  -----  \n",
      " 0   rank           798 non-null    float64\n",
      " 1   discipline     798 non-null    float64\n",
      " 2   yrs.since.phd  798 non-null    float64\n",
      " 3   yrs.service    798 non-null    float64\n",
      " 4   sex            798 non-null    float64\n",
      " 5   salary         798 non-null    float64\n",
      "dtypes: float64(6)\n",
      "memory usage: 43.6 KB\n"
     ]
    },
    {
     "data": {
      "text/html": [
       "<div>\n",
       "<style scoped>\n",
       "    .dataframe tbody tr th:only-of-type {\n",
       "        vertical-align: middle;\n",
       "    }\n",
       "\n",
       "    .dataframe tbody tr th {\n",
       "        vertical-align: top;\n",
       "    }\n",
       "\n",
       "    .dataframe thead th {\n",
       "        text-align: right;\n",
       "    }\n",
       "</style>\n",
       "<table border=\"1\" class=\"dataframe\">\n",
       "  <thead>\n",
       "    <tr style=\"text-align: right;\">\n",
       "      <th></th>\n",
       "      <th>rank</th>\n",
       "      <th>discipline</th>\n",
       "      <th>yrs.since.phd</th>\n",
       "      <th>yrs.service</th>\n",
       "      <th>sex</th>\n",
       "      <th>salary</th>\n",
       "    </tr>\n",
       "  </thead>\n",
       "  <tbody>\n",
       "    <tr>\n",
       "      <th>2</th>\n",
       "      <td>1.0</td>\n",
       "      <td>1.0</td>\n",
       "      <td>4.0</td>\n",
       "      <td>3.0</td>\n",
       "      <td>1.0</td>\n",
       "      <td>79750.0</td>\n",
       "    </tr>\n",
       "    <tr>\n",
       "      <th>11</th>\n",
       "      <td>1.0</td>\n",
       "      <td>1.0</td>\n",
       "      <td>7.0</td>\n",
       "      <td>2.0</td>\n",
       "      <td>1.0</td>\n",
       "      <td>79800.0</td>\n",
       "    </tr>\n",
       "    <tr>\n",
       "      <th>12</th>\n",
       "      <td>1.0</td>\n",
       "      <td>1.0</td>\n",
       "      <td>1.0</td>\n",
       "      <td>1.0</td>\n",
       "      <td>1.0</td>\n",
       "      <td>77700.0</td>\n",
       "    </tr>\n",
       "    <tr>\n",
       "      <th>13</th>\n",
       "      <td>1.0</td>\n",
       "      <td>1.0</td>\n",
       "      <td>2.0</td>\n",
       "      <td>0.0</td>\n",
       "      <td>1.0</td>\n",
       "      <td>78000.0</td>\n",
       "    </tr>\n",
       "    <tr>\n",
       "      <th>27</th>\n",
       "      <td>1.0</td>\n",
       "      <td>1.0</td>\n",
       "      <td>5.0</td>\n",
       "      <td>3.0</td>\n",
       "      <td>1.0</td>\n",
       "      <td>82379.0</td>\n",
       "    </tr>\n",
       "    <tr>\n",
       "      <th>...</th>\n",
       "      <td>...</td>\n",
       "      <td>...</td>\n",
       "      <td>...</td>\n",
       "      <td>...</td>\n",
       "      <td>...</td>\n",
       "      <td>...</td>\n",
       "    </tr>\n",
       "    <tr>\n",
       "      <th>391</th>\n",
       "      <td>2.0</td>\n",
       "      <td>0.0</td>\n",
       "      <td>30.0</td>\n",
       "      <td>19.0</td>\n",
       "      <td>1.0</td>\n",
       "      <td>151292.0</td>\n",
       "    </tr>\n",
       "    <tr>\n",
       "      <th>392</th>\n",
       "      <td>2.0</td>\n",
       "      <td>0.0</td>\n",
       "      <td>33.0</td>\n",
       "      <td>30.0</td>\n",
       "      <td>1.0</td>\n",
       "      <td>103106.0</td>\n",
       "    </tr>\n",
       "    <tr>\n",
       "      <th>393</th>\n",
       "      <td>2.0</td>\n",
       "      <td>0.0</td>\n",
       "      <td>31.0</td>\n",
       "      <td>19.0</td>\n",
       "      <td>1.0</td>\n",
       "      <td>150564.0</td>\n",
       "    </tr>\n",
       "    <tr>\n",
       "      <th>394</th>\n",
       "      <td>2.0</td>\n",
       "      <td>0.0</td>\n",
       "      <td>42.0</td>\n",
       "      <td>25.0</td>\n",
       "      <td>1.0</td>\n",
       "      <td>101738.0</td>\n",
       "    </tr>\n",
       "    <tr>\n",
       "      <th>395</th>\n",
       "      <td>2.0</td>\n",
       "      <td>0.0</td>\n",
       "      <td>25.0</td>\n",
       "      <td>15.0</td>\n",
       "      <td>1.0</td>\n",
       "      <td>95329.0</td>\n",
       "    </tr>\n",
       "  </tbody>\n",
       "</table>\n",
       "<p>798 rows × 6 columns</p>\n",
       "</div>"
      ],
      "text/plain": [
       "     rank  discipline  yrs.since.phd  yrs.service  sex    salary\n",
       "2     1.0         1.0            4.0          3.0  1.0   79750.0\n",
       "11    1.0         1.0            7.0          2.0  1.0   79800.0\n",
       "12    1.0         1.0            1.0          1.0  1.0   77700.0\n",
       "13    1.0         1.0            2.0          0.0  1.0   78000.0\n",
       "27    1.0         1.0            5.0          3.0  1.0   82379.0\n",
       "..    ...         ...            ...          ...  ...       ...\n",
       "391   2.0         0.0           30.0         19.0  1.0  151292.0\n",
       "392   2.0         0.0           33.0         30.0  1.0  103106.0\n",
       "393   2.0         0.0           31.0         19.0  1.0  150564.0\n",
       "394   2.0         0.0           42.0         25.0  1.0  101738.0\n",
       "395   2.0         0.0           25.0         15.0  1.0   95329.0\n",
       "\n",
       "[798 rows x 6 columns]"
      ]
     },
     "execution_count": 175,
     "metadata": {},
     "output_type": "execute_result"
    }
   ],
   "source": [
    "data_m = data_m.astype(float)\n",
    "data_m.info()\n",
    "data_m"
   ]
  },
  {
   "cell_type": "markdown",
   "id": "fe0d4dad",
   "metadata": {},
   "source": [
    "### Describing the data"
   ]
  },
  {
   "cell_type": "code",
   "execution_count": 176,
   "id": "18ac20b6",
   "metadata": {},
   "outputs": [
    {
     "data": {
      "text/html": [
       "<div>\n",
       "<style scoped>\n",
       "    .dataframe tbody tr th:only-of-type {\n",
       "        vertical-align: middle;\n",
       "    }\n",
       "\n",
       "    .dataframe tbody tr th {\n",
       "        vertical-align: top;\n",
       "    }\n",
       "\n",
       "    .dataframe thead th {\n",
       "        text-align: right;\n",
       "    }\n",
       "</style>\n",
       "<table border=\"1\" class=\"dataframe\">\n",
       "  <thead>\n",
       "    <tr style=\"text-align: right;\">\n",
       "      <th></th>\n",
       "      <th>rank</th>\n",
       "      <th>discipline</th>\n",
       "      <th>yrs.since.phd</th>\n",
       "      <th>yrs.service</th>\n",
       "      <th>sex</th>\n",
       "      <th>salary</th>\n",
       "    </tr>\n",
       "  </thead>\n",
       "  <tbody>\n",
       "    <tr>\n",
       "      <th>count</th>\n",
       "      <td>798.000000</td>\n",
       "      <td>798.000000</td>\n",
       "      <td>798.000000</td>\n",
       "      <td>798.000000</td>\n",
       "      <td>798.000000</td>\n",
       "      <td>798.000000</td>\n",
       "    </tr>\n",
       "    <tr>\n",
       "      <th>mean</th>\n",
       "      <td>1.000000</td>\n",
       "      <td>0.548872</td>\n",
       "      <td>16.600251</td>\n",
       "      <td>12.622807</td>\n",
       "      <td>0.870927</td>\n",
       "      <td>99869.384712</td>\n",
       "    </tr>\n",
       "    <tr>\n",
       "      <th>std</th>\n",
       "      <td>0.817009</td>\n",
       "      <td>0.497918</td>\n",
       "      <td>12.726220</td>\n",
       "      <td>12.390219</td>\n",
       "      <td>0.335491</td>\n",
       "      <td>26982.313391</td>\n",
       "    </tr>\n",
       "    <tr>\n",
       "      <th>min</th>\n",
       "      <td>0.000000</td>\n",
       "      <td>0.000000</td>\n",
       "      <td>1.000000</td>\n",
       "      <td>0.000000</td>\n",
       "      <td>0.000000</td>\n",
       "      <td>57800.000000</td>\n",
       "    </tr>\n",
       "    <tr>\n",
       "      <th>25%</th>\n",
       "      <td>0.000000</td>\n",
       "      <td>0.000000</td>\n",
       "      <td>7.000000</td>\n",
       "      <td>3.000000</td>\n",
       "      <td>1.000000</td>\n",
       "      <td>79762.500000</td>\n",
       "    </tr>\n",
       "    <tr>\n",
       "      <th>50%</th>\n",
       "      <td>1.000000</td>\n",
       "      <td>1.000000</td>\n",
       "      <td>12.000000</td>\n",
       "      <td>8.000000</td>\n",
       "      <td>1.000000</td>\n",
       "      <td>92700.000000</td>\n",
       "    </tr>\n",
       "    <tr>\n",
       "      <th>75%</th>\n",
       "      <td>2.000000</td>\n",
       "      <td>1.000000</td>\n",
       "      <td>25.000000</td>\n",
       "      <td>19.000000</td>\n",
       "      <td>1.000000</td>\n",
       "      <td>109650.000000</td>\n",
       "    </tr>\n",
       "    <tr>\n",
       "      <th>max</th>\n",
       "      <td>2.000000</td>\n",
       "      <td>1.000000</td>\n",
       "      <td>56.000000</td>\n",
       "      <td>60.000000</td>\n",
       "      <td>1.000000</td>\n",
       "      <td>231545.000000</td>\n",
       "    </tr>\n",
       "  </tbody>\n",
       "</table>\n",
       "</div>"
      ],
      "text/plain": [
       "             rank  discipline  yrs.since.phd  yrs.service         sex  \\\n",
       "count  798.000000  798.000000     798.000000   798.000000  798.000000   \n",
       "mean     1.000000    0.548872      16.600251    12.622807    0.870927   \n",
       "std      0.817009    0.497918      12.726220    12.390219    0.335491   \n",
       "min      0.000000    0.000000       1.000000     0.000000    0.000000   \n",
       "25%      0.000000    0.000000       7.000000     3.000000    1.000000   \n",
       "50%      1.000000    1.000000      12.000000     8.000000    1.000000   \n",
       "75%      2.000000    1.000000      25.000000    19.000000    1.000000   \n",
       "max      2.000000    1.000000      56.000000    60.000000    1.000000   \n",
       "\n",
       "              salary  \n",
       "count     798.000000  \n",
       "mean    99869.384712  \n",
       "std     26982.313391  \n",
       "min     57800.000000  \n",
       "25%     79762.500000  \n",
       "50%     92700.000000  \n",
       "75%    109650.000000  \n",
       "max    231545.000000  "
      ]
     },
     "execution_count": 176,
     "metadata": {},
     "output_type": "execute_result"
    }
   ],
   "source": [
    "data_m.describe()"
   ]
  },
  {
   "cell_type": "code",
   "execution_count": 177,
   "id": "50db1c5a",
   "metadata": {},
   "outputs": [
    {
     "name": "stdout",
     "output_type": "stream",
     "text": [
      "rank :\n",
      " Mean =  1.0 \n",
      " STD =  0.8170086515838499 \n",
      " Min =  0.0 \n",
      " Max =  2.0 \n",
      "\n",
      "discipline :\n",
      " Mean =  0.5488721804511278 \n",
      " STD =  0.49791785408167905 \n",
      " Min =  0.0 \n",
      " Max =  1.0 \n",
      "\n",
      "yrs.since.phd :\n",
      " Mean =  16.600250626566417 \n",
      " STD =  12.726220472533326 \n",
      " Min =  1.0 \n",
      " Max =  56.0 \n",
      "\n",
      "yrs.service :\n",
      " Mean =  12.62280701754386 \n",
      " STD =  12.390218797393286 \n",
      " Min =  0.0 \n",
      " Max =  60.0 \n",
      "\n",
      "sex :\n",
      " Mean =  0.8709273182957393 \n",
      " STD =  0.33549064013268587 \n",
      " Min =  0.0 \n",
      " Max =  1.0 \n",
      "\n"
     ]
    }
   ],
   "source": [
    "#prints the mean, std, min and max values of the columns.\n",
    "\n",
    "for i in range(0,5):\n",
    "    current_column=data_m.columns[i]\n",
    "    list_current_col = list(data_m[current_column].describe())\n",
    "    print (current_column,':\\n','Mean = ',list_current_col[1],'\\n','STD = ',list_current_col[2],'\\n','Min = ',list_current_col[3],'\\n','Max = ',list_current_col[-1],'\\n')\n",
    "    "
   ]
  },
  {
   "cell_type": "markdown",
   "id": "7e7dec57",
   "metadata": {},
   "source": [
    "### Checking for outliers"
   ]
  },
  {
   "cell_type": "code",
   "execution_count": 178,
   "id": "a945bb42",
   "metadata": {},
   "outputs": [
    {
     "data": {
      "image/png": "[encoded data removed]",
      "text/plain": [
       "<Figure size 1008x1008 with 5 Axes>"
      ]
     },
     "metadata": {
      "needs_background": "light"
     },
     "output_type": "display_data"
    }
   ],
   "source": [
    "collist=df.columns.values\n",
    "ncol=8\n",
    "nrow=4\n",
    "\n",
    "plt.figure(figsize=(14,14))\n",
    "for i in range(0,len(collist)):\n",
    "    plt.subplot(nrow,ncol,i+1)\n",
    "    sns.boxplot(data=data_m[collist[i]],color='lightblue',orient='v')\n",
    "    plt.title(data_m.columns[i])\n",
    "    plt.tight_layout()"
   ]
  },
  {
   "cell_type": "raw",
   "id": "73fc8045",
   "metadata": {},
   "source": [
    "There are outliers in the yrs.service, yrs.since.phd and the sex columns"
   ]
  },
  {
   "cell_type": "markdown",
   "id": "0fdc7245",
   "metadata": {},
   "source": [
    "### Skewness"
   ]
  },
  {
   "cell_type": "code",
   "execution_count": 179,
   "id": "0cc47896",
   "metadata": {},
   "outputs": [
    {
     "data": {
      "text/plain": [
       "rank             0.000000\n",
       "discipline      -0.196799\n",
       "yrs.since.phd    0.965730\n",
       "yrs.service      1.297298\n",
       "sex             -2.216809\n",
       "salary           1.325943\n",
       "dtype: float64"
      ]
     },
     "execution_count": 179,
     "metadata": {},
     "output_type": "execute_result"
    }
   ],
   "source": [
    "data_m.skew()"
   ]
  },
  {
   "cell_type": "raw",
   "id": "233bb771",
   "metadata": {},
   "source": [
    "Skewness threshold +/- 0.5 \n",
    "Skewness observed in every column"
   ]
  },
  {
   "cell_type": "markdown",
   "id": "a3e25d2b",
   "metadata": {},
   "source": [
    "### Visualizing the data"
   ]
  },
  {
   "cell_type": "code",
   "execution_count": 180,
   "id": "706f80c6",
   "metadata": {},
   "outputs": [
    {
     "data": {
      "text/plain": [
       "<AxesSubplot:xlabel='yrs.since.phd', ylabel='Density'>"
      ]
     },
     "execution_count": 180,
     "metadata": {},
     "output_type": "execute_result"
    },
    {
     "data": {
      "image/png": "[encoded data removed]",
      "text/plain": [
       "<Figure size 432x288 with 1 Axes>"
      ]
     },
     "metadata": {
      "needs_background": "light"
     },
     "output_type": "display_data"
    }
   ],
   "source": [
    "plt.figure(figsize=(6,4))\n",
    "sns.distplot(data_m['yrs.since.phd'])"
   ]
  },
  {
   "cell_type": "code",
   "execution_count": 181,
   "id": "832777d8",
   "metadata": {},
   "outputs": [
    {
     "data": {
      "text/plain": [
       "<AxesSubplot:xlabel='yrs.service', ylabel='Density'>"
      ]
     },
     "execution_count": 181,
     "metadata": {},
     "output_type": "execute_result"
    },
    {
     "data": {
      "image/png": "[encoded data removed]",
      "text/plain": [
       "<Figure size 432x288 with 1 Axes>"
      ]
     },
     "metadata": {
      "needs_background": "light"
     },
     "output_type": "display_data"
    }
   ],
   "source": [
    "plt.figure(figsize=(6,4))\n",
    "sns.distplot(data_m['yrs.service'])"
   ]
  },
  {
   "cell_type": "raw",
   "id": "ce451986",
   "metadata": {},
   "source": [
    "Clearly the distribution in both \"yrs.since.phd\" and \"yrs.service\" is not normal. \n",
    "    (○) yrs.service and yrs.since.phd = skewed right"
   ]
  },
  {
   "cell_type": "markdown",
   "id": "42605a4f",
   "metadata": {},
   "source": [
    "### Correlation and Heat map"
   ]
  },
  {
   "cell_type": "code",
   "execution_count": 182,
   "id": "dab60190",
   "metadata": {},
   "outputs": [
    {
     "data": {
      "text/plain": [
       "rank             0.516447\n",
       "discipline       0.216980\n",
       "yrs.since.phd    0.473046\n",
       "yrs.service      0.409089\n",
       "sex              0.168877\n",
       "salary           1.000000\n",
       "Name: salary, dtype: float64"
      ]
     },
     "execution_count": 182,
     "metadata": {},
     "output_type": "execute_result"
    }
   ],
   "source": [
    "data_m.corr()['salary']"
   ]
  },
  {
   "cell_type": "code",
   "execution_count": 183,
   "id": "0f50f91d",
   "metadata": {},
   "outputs": [
    {
     "data": {
      "text/plain": [
       "<AxesSubplot:>"
      ]
     },
     "execution_count": 183,
     "metadata": {},
     "output_type": "execute_result"
    },
    {
     "data": {
      "image/png": "[encoded data removed]",
      "text/plain": [
       "<Figure size 864x576 with 2 Axes>"
      ]
     },
     "metadata": {
      "needs_background": "light"
     },
     "output_type": "display_data"
    }
   ],
   "source": [
    "plt.figure(figsize=(12,8))\n",
    "sns.heatmap(data_m.corr(),annot=True,linecolor='w',linewidths=0.5,cmap='BuPu',fmt='.2f')"
   ]
  },
  {
   "cell_type": "code",
   "execution_count": 184,
   "id": "b694ad8c",
   "metadata": {},
   "outputs": [
    {
     "name": "stdout",
     "output_type": "stream",
     "text": [
      "The correlation percentage between rank and salary is 52 %\n",
      "The correlation percentage between discipline and salary is 22 %\n",
      "The correlation percentage between yrs.since.phd and salary is 47 %\n",
      "The correlation percentage between yrs.service and salary is 41 %\n",
      "The correlation percentage between sex and salary is 17 %\n",
      "\n",
      "Maximum Correlation: rank\n",
      "\n",
      "Minimum Correlation: sex\n"
     ]
    }
   ],
   "source": [
    "#prints the correlation percentages, minimum correlation and maximum correlation in an understandable manner\n",
    "\n",
    "correlation_list=[]\n",
    "correlation_dictionary = {}\n",
    "\n",
    "for i in range(0,5):\n",
    "    print ('The correlation percentage between',data_m.columns[i],'and salary is',round(data_m.corr()['salary'][i]*100),'%')\n",
    "    corr_dict={data_m.columns[i]:round(data_m.corr()['salary'][i]*100)}\n",
    "    correlation_dictionary.update(corr_dict)\n",
    "\n",
    "print ('\\nMaximum Correlation:',max(correlation_dictionary,key=correlation_dictionary.get))\n",
    "print ('\\nMinimum Correlation:',min(correlation_dictionary,key=correlation_dictionary.get))"
   ]
  },
  {
   "cell_type": "raw",
   "id": "40b3df68",
   "metadata": {},
   "source": [
    "Since sex again has the lowest correlation and very high skewness, we will drop it from the dataset"
   ]
  },
  {
   "cell_type": "code",
   "execution_count": 185,
   "id": "bdf81644",
   "metadata": {},
   "outputs": [
    {
     "data": {
      "text/html": [
       "<div>\n",
       "<style scoped>\n",
       "    .dataframe tbody tr th:only-of-type {\n",
       "        vertical-align: middle;\n",
       "    }\n",
       "\n",
       "    .dataframe tbody tr th {\n",
       "        vertical-align: top;\n",
       "    }\n",
       "\n",
       "    .dataframe thead th {\n",
       "        text-align: right;\n",
       "    }\n",
       "</style>\n",
       "<table border=\"1\" class=\"dataframe\">\n",
       "  <thead>\n",
       "    <tr style=\"text-align: right;\">\n",
       "      <th></th>\n",
       "      <th>rank</th>\n",
       "      <th>discipline</th>\n",
       "      <th>yrs.since.phd</th>\n",
       "      <th>yrs.service</th>\n",
       "      <th>salary</th>\n",
       "    </tr>\n",
       "  </thead>\n",
       "  <tbody>\n",
       "    <tr>\n",
       "      <th>2</th>\n",
       "      <td>1.0</td>\n",
       "      <td>1.0</td>\n",
       "      <td>4.0</td>\n",
       "      <td>3.0</td>\n",
       "      <td>79750.0</td>\n",
       "    </tr>\n",
       "    <tr>\n",
       "      <th>11</th>\n",
       "      <td>1.0</td>\n",
       "      <td>1.0</td>\n",
       "      <td>7.0</td>\n",
       "      <td>2.0</td>\n",
       "      <td>79800.0</td>\n",
       "    </tr>\n",
       "    <tr>\n",
       "      <th>12</th>\n",
       "      <td>1.0</td>\n",
       "      <td>1.0</td>\n",
       "      <td>1.0</td>\n",
       "      <td>1.0</td>\n",
       "      <td>77700.0</td>\n",
       "    </tr>\n",
       "    <tr>\n",
       "      <th>13</th>\n",
       "      <td>1.0</td>\n",
       "      <td>1.0</td>\n",
       "      <td>2.0</td>\n",
       "      <td>0.0</td>\n",
       "      <td>78000.0</td>\n",
       "    </tr>\n",
       "    <tr>\n",
       "      <th>27</th>\n",
       "      <td>1.0</td>\n",
       "      <td>1.0</td>\n",
       "      <td>5.0</td>\n",
       "      <td>3.0</td>\n",
       "      <td>82379.0</td>\n",
       "    </tr>\n",
       "    <tr>\n",
       "      <th>...</th>\n",
       "      <td>...</td>\n",
       "      <td>...</td>\n",
       "      <td>...</td>\n",
       "      <td>...</td>\n",
       "      <td>...</td>\n",
       "    </tr>\n",
       "    <tr>\n",
       "      <th>391</th>\n",
       "      <td>2.0</td>\n",
       "      <td>0.0</td>\n",
       "      <td>30.0</td>\n",
       "      <td>19.0</td>\n",
       "      <td>151292.0</td>\n",
       "    </tr>\n",
       "    <tr>\n",
       "      <th>392</th>\n",
       "      <td>2.0</td>\n",
       "      <td>0.0</td>\n",
       "      <td>33.0</td>\n",
       "      <td>30.0</td>\n",
       "      <td>103106.0</td>\n",
       "    </tr>\n",
       "    <tr>\n",
       "      <th>393</th>\n",
       "      <td>2.0</td>\n",
       "      <td>0.0</td>\n",
       "      <td>31.0</td>\n",
       "      <td>19.0</td>\n",
       "      <td>150564.0</td>\n",
       "    </tr>\n",
       "    <tr>\n",
       "      <th>394</th>\n",
       "      <td>2.0</td>\n",
       "      <td>0.0</td>\n",
       "      <td>42.0</td>\n",
       "      <td>25.0</td>\n",
       "      <td>101738.0</td>\n",
       "    </tr>\n",
       "    <tr>\n",
       "      <th>395</th>\n",
       "      <td>2.0</td>\n",
       "      <td>0.0</td>\n",
       "      <td>25.0</td>\n",
       "      <td>15.0</td>\n",
       "      <td>95329.0</td>\n",
       "    </tr>\n",
       "  </tbody>\n",
       "</table>\n",
       "<p>798 rows × 5 columns</p>\n",
       "</div>"
      ],
      "text/plain": [
       "     rank  discipline  yrs.since.phd  yrs.service    salary\n",
       "2     1.0         1.0            4.0          3.0   79750.0\n",
       "11    1.0         1.0            7.0          2.0   79800.0\n",
       "12    1.0         1.0            1.0          1.0   77700.0\n",
       "13    1.0         1.0            2.0          0.0   78000.0\n",
       "27    1.0         1.0            5.0          3.0   82379.0\n",
       "..    ...         ...            ...          ...       ...\n",
       "391   2.0         0.0           30.0         19.0  151292.0\n",
       "392   2.0         0.0           33.0         30.0  103106.0\n",
       "393   2.0         0.0           31.0         19.0  150564.0\n",
       "394   2.0         0.0           42.0         25.0  101738.0\n",
       "395   2.0         0.0           25.0         15.0   95329.0\n",
       "\n",
       "[798 rows x 5 columns]"
      ]
     },
     "execution_count": 185,
     "metadata": {},
     "output_type": "execute_result"
    }
   ],
   "source": [
    "data_m = data_m.drop(['sex'],axis=1)\n",
    "data_m"
   ]
  },
  {
   "cell_type": "markdown",
   "id": "889af26a",
   "metadata": {},
   "source": [
    "### Removing outliers using zscore"
   ]
  },
  {
   "cell_type": "code",
   "execution_count": 186,
   "id": "cbafa93f",
   "metadata": {},
   "outputs": [
    {
     "data": {
      "text/html": [
       "<div>\n",
       "<style scoped>\n",
       "    .dataframe tbody tr th:only-of-type {\n",
       "        vertical-align: middle;\n",
       "    }\n",
       "\n",
       "    .dataframe tbody tr th {\n",
       "        vertical-align: top;\n",
       "    }\n",
       "\n",
       "    .dataframe thead th {\n",
       "        text-align: right;\n",
       "    }\n",
       "</style>\n",
       "<table border=\"1\" class=\"dataframe\">\n",
       "  <thead>\n",
       "    <tr style=\"text-align: right;\">\n",
       "      <th></th>\n",
       "      <th>rank</th>\n",
       "      <th>discipline</th>\n",
       "      <th>yrs.since.phd</th>\n",
       "      <th>yrs.service</th>\n",
       "      <th>salary</th>\n",
       "    </tr>\n",
       "  </thead>\n",
       "  <tbody>\n",
       "    <tr>\n",
       "      <th>0</th>\n",
       "      <td>0.649257</td>\n",
       "      <td>0.915403</td>\n",
       "      <td>0.257550</td>\n",
       "      <td>0.029669</td>\n",
       "      <td>0.860919</td>\n",
       "    </tr>\n",
       "    <tr>\n",
       "      <th>1</th>\n",
       "      <td>0.649257</td>\n",
       "      <td>0.915403</td>\n",
       "      <td>0.179854</td>\n",
       "      <td>0.124300</td>\n",
       "      <td>1.966672</td>\n",
       "    </tr>\n",
       "    <tr>\n",
       "      <th>2</th>\n",
       "      <td>0.672564</td>\n",
       "      <td>0.915403</td>\n",
       "      <td>1.422982</td>\n",
       "      <td>1.125098</td>\n",
       "      <td>1.122495</td>\n",
       "    </tr>\n",
       "    <tr>\n",
       "      <th>3</th>\n",
       "      <td>0.649257</td>\n",
       "      <td>0.915403</td>\n",
       "      <td>1.762533</td>\n",
       "      <td>1.646343</td>\n",
       "      <td>0.042760</td>\n",
       "    </tr>\n",
       "    <tr>\n",
       "      <th>4</th>\n",
       "      <td>0.649257</td>\n",
       "      <td>0.915403</td>\n",
       "      <td>1.374055</td>\n",
       "      <td>1.800312</td>\n",
       "      <td>0.918768</td>\n",
       "    </tr>\n",
       "    <tr>\n",
       "      <th>...</th>\n",
       "      <td>...</td>\n",
       "      <td>...</td>\n",
       "      <td>...</td>\n",
       "      <td>...</td>\n",
       "      <td>...</td>\n",
       "    </tr>\n",
       "    <tr>\n",
       "      <th>392</th>\n",
       "      <td>0.649257</td>\n",
       "      <td>1.092415</td>\n",
       "      <td>0.830187</td>\n",
       "      <td>0.953483</td>\n",
       "      <td>0.350418</td>\n",
       "    </tr>\n",
       "    <tr>\n",
       "      <th>393</th>\n",
       "      <td>0.649257</td>\n",
       "      <td>1.092415</td>\n",
       "      <td>0.674796</td>\n",
       "      <td>0.106654</td>\n",
       "      <td>1.218396</td>\n",
       "    </tr>\n",
       "    <tr>\n",
       "      <th>394</th>\n",
       "      <td>0.649257</td>\n",
       "      <td>1.092415</td>\n",
       "      <td>1.529446</td>\n",
       "      <td>0.568560</td>\n",
       "      <td>0.395640</td>\n",
       "    </tr>\n",
       "    <tr>\n",
       "      <th>395</th>\n",
       "      <td>0.649257</td>\n",
       "      <td>1.092415</td>\n",
       "      <td>0.208623</td>\n",
       "      <td>0.201284</td>\n",
       "      <td>0.607502</td>\n",
       "    </tr>\n",
       "    <tr>\n",
       "      <th>396</th>\n",
       "      <td>0.672564</td>\n",
       "      <td>1.092415</td>\n",
       "      <td>1.112200</td>\n",
       "      <td>1.048113</td>\n",
       "      <td>1.080017</td>\n",
       "    </tr>\n",
       "  </tbody>\n",
       "</table>\n",
       "<p>397 rows × 5 columns</p>\n",
       "</div>"
      ],
      "text/plain": [
       "         rank  discipline  yrs.since.phd  yrs.service    salary\n",
       "0    0.649257    0.915403       0.257550     0.029669  0.860919\n",
       "1    0.649257    0.915403       0.179854     0.124300  1.966672\n",
       "2    0.672564    0.915403       1.422982     1.125098  1.122495\n",
       "3    0.649257    0.915403       1.762533     1.646343  0.042760\n",
       "4    0.649257    0.915403       1.374055     1.800312  0.918768\n",
       "..        ...         ...            ...          ...       ...\n",
       "392  0.649257    1.092415       0.830187     0.953483  0.350418\n",
       "393  0.649257    1.092415       0.674796     0.106654  1.218396\n",
       "394  0.649257    1.092415       1.529446     0.568560  0.395640\n",
       "395  0.649257    1.092415       0.208623     0.201284  0.607502\n",
       "396  0.672564    1.092415       1.112200     1.048113  1.080017\n",
       "\n",
       "[397 rows x 5 columns]"
      ]
     },
     "execution_count": 186,
     "metadata": {},
     "output_type": "execute_result"
    }
   ],
   "source": [
    "np.abs(zscore(df))"
   ]
  },
  {
   "cell_type": "code",
   "execution_count": 187,
   "id": "2ba6669c",
   "metadata": {},
   "outputs": [
    {
     "data": {
      "text/plain": [
       "(array([305, 371, 432, 559, 580, 612, 612, 631, 647, 685, 702, 710, 716,\n",
       "        744, 744, 762, 762, 773, 791], dtype=int64),\n",
       " array([3, 3, 3, 4, 4, 2, 3, 4, 4, 4, 4, 3, 4, 3, 4, 2, 4, 4, 4],\n",
       "       dtype=int64))"
      ]
     },
     "execution_count": 187,
     "metadata": {},
     "output_type": "execute_result"
    }
   ],
   "source": [
    "z=np.abs(zscore(data_m))\n",
    "np.where(z>3) #checking if there are data with zscore above 3"
   ]
  },
  {
   "cell_type": "code",
   "execution_count": 188,
   "id": "6b841315",
   "metadata": {},
   "outputs": [
    {
     "data": {
      "text/plain": [
       "3.2608395734028046"
      ]
     },
     "execution_count": 188,
     "metadata": {},
     "output_type": "execute_result"
    }
   ],
   "source": [
    "z.iloc[305,3] #confirming the presence of zscore>3 "
   ]
  },
  {
   "cell_type": "code",
   "execution_count": 189,
   "id": "c49b0bea",
   "metadata": {},
   "outputs": [
    {
     "data": {
      "text/html": [
       "<div>\n",
       "<style scoped>\n",
       "    .dataframe tbody tr th:only-of-type {\n",
       "        vertical-align: middle;\n",
       "    }\n",
       "\n",
       "    .dataframe tbody tr th {\n",
       "        vertical-align: top;\n",
       "    }\n",
       "\n",
       "    .dataframe thead th {\n",
       "        text-align: right;\n",
       "    }\n",
       "</style>\n",
       "<table border=\"1\" class=\"dataframe\">\n",
       "  <thead>\n",
       "    <tr style=\"text-align: right;\">\n",
       "      <th></th>\n",
       "      <th>rank</th>\n",
       "      <th>discipline</th>\n",
       "      <th>yrs.since.phd</th>\n",
       "      <th>yrs.service</th>\n",
       "      <th>salary</th>\n",
       "    </tr>\n",
       "  </thead>\n",
       "  <tbody>\n",
       "    <tr>\n",
       "      <th>2</th>\n",
       "      <td>1.0</td>\n",
       "      <td>1.0</td>\n",
       "      <td>4.0</td>\n",
       "      <td>3.0</td>\n",
       "      <td>79750.0</td>\n",
       "    </tr>\n",
       "    <tr>\n",
       "      <th>11</th>\n",
       "      <td>1.0</td>\n",
       "      <td>1.0</td>\n",
       "      <td>7.0</td>\n",
       "      <td>2.0</td>\n",
       "      <td>79800.0</td>\n",
       "    </tr>\n",
       "    <tr>\n",
       "      <th>12</th>\n",
       "      <td>1.0</td>\n",
       "      <td>1.0</td>\n",
       "      <td>1.0</td>\n",
       "      <td>1.0</td>\n",
       "      <td>77700.0</td>\n",
       "    </tr>\n",
       "    <tr>\n",
       "      <th>13</th>\n",
       "      <td>1.0</td>\n",
       "      <td>1.0</td>\n",
       "      <td>2.0</td>\n",
       "      <td>0.0</td>\n",
       "      <td>78000.0</td>\n",
       "    </tr>\n",
       "    <tr>\n",
       "      <th>27</th>\n",
       "      <td>1.0</td>\n",
       "      <td>1.0</td>\n",
       "      <td>5.0</td>\n",
       "      <td>3.0</td>\n",
       "      <td>82379.0</td>\n",
       "    </tr>\n",
       "    <tr>\n",
       "      <th>...</th>\n",
       "      <td>...</td>\n",
       "      <td>...</td>\n",
       "      <td>...</td>\n",
       "      <td>...</td>\n",
       "      <td>...</td>\n",
       "    </tr>\n",
       "    <tr>\n",
       "      <th>391</th>\n",
       "      <td>2.0</td>\n",
       "      <td>0.0</td>\n",
       "      <td>30.0</td>\n",
       "      <td>19.0</td>\n",
       "      <td>151292.0</td>\n",
       "    </tr>\n",
       "    <tr>\n",
       "      <th>392</th>\n",
       "      <td>2.0</td>\n",
       "      <td>0.0</td>\n",
       "      <td>33.0</td>\n",
       "      <td>30.0</td>\n",
       "      <td>103106.0</td>\n",
       "    </tr>\n",
       "    <tr>\n",
       "      <th>393</th>\n",
       "      <td>2.0</td>\n",
       "      <td>0.0</td>\n",
       "      <td>31.0</td>\n",
       "      <td>19.0</td>\n",
       "      <td>150564.0</td>\n",
       "    </tr>\n",
       "    <tr>\n",
       "      <th>394</th>\n",
       "      <td>2.0</td>\n",
       "      <td>0.0</td>\n",
       "      <td>42.0</td>\n",
       "      <td>25.0</td>\n",
       "      <td>101738.0</td>\n",
       "    </tr>\n",
       "    <tr>\n",
       "      <th>395</th>\n",
       "      <td>2.0</td>\n",
       "      <td>0.0</td>\n",
       "      <td>25.0</td>\n",
       "      <td>15.0</td>\n",
       "      <td>95329.0</td>\n",
       "    </tr>\n",
       "  </tbody>\n",
       "</table>\n",
       "<p>782 rows × 5 columns</p>\n",
       "</div>"
      ],
      "text/plain": [
       "     rank  discipline  yrs.since.phd  yrs.service    salary\n",
       "2     1.0         1.0            4.0          3.0   79750.0\n",
       "11    1.0         1.0            7.0          2.0   79800.0\n",
       "12    1.0         1.0            1.0          1.0   77700.0\n",
       "13    1.0         1.0            2.0          0.0   78000.0\n",
       "27    1.0         1.0            5.0          3.0   82379.0\n",
       "..    ...         ...            ...          ...       ...\n",
       "391   2.0         0.0           30.0         19.0  151292.0\n",
       "392   2.0         0.0           33.0         30.0  103106.0\n",
       "393   2.0         0.0           31.0         19.0  150564.0\n",
       "394   2.0         0.0           42.0         25.0  101738.0\n",
       "395   2.0         0.0           25.0         15.0   95329.0\n",
       "\n",
       "[782 rows x 5 columns]"
      ]
     },
     "execution_count": 189,
     "metadata": {},
     "output_type": "execute_result"
    }
   ],
   "source": [
    "data_m_new = data_m[(z<3).all(axis=1)]\n",
    "data_m_new #creating a new data base by removing the outliers"
   ]
  },
  {
   "cell_type": "code",
   "execution_count": 190,
   "id": "6806de61",
   "metadata": {},
   "outputs": [
    {
     "name": "stdout",
     "output_type": "stream",
     "text": [
      "Size of old dataset =  798\n",
      "Size of new dataset =  782\n",
      "The amount of data dropped =  16\n",
      "Loss percentage = 2 %\n"
     ]
    }
   ],
   "source": [
    "print (\"Size of old dataset = \",data_m.shape[0])\n",
    "print (\"Size of new dataset = \",data_m_new.shape[0])\n",
    "print (\"The amount of data dropped = \",data_m.shape[0]-data_m_new.shape[0])\n",
    "print (\"Loss percentage =\",round((data_m.shape[0]-data_m_new.shape[0])/data_m.shape[0]*100),'%')"
   ]
  },
  {
   "cell_type": "raw",
   "id": "30b3b509",
   "metadata": {},
   "source": [
    "2% data lost only, which is good."
   ]
  },
  {
   "cell_type": "markdown",
   "id": "e1e411d6",
   "metadata": {},
   "source": [
    "### Seperating the values to x and y"
   ]
  },
  {
   "cell_type": "code",
   "execution_count": 191,
   "id": "58fc4ec6",
   "metadata": {},
   "outputs": [],
   "source": [
    "#independent variables\n",
    "x_m = data_m_new.iloc[:,:-1] #x_m stands for x_merged\n",
    "\n",
    "#target variable\n",
    "y_m = data_m_new.iloc[:,-1] #y_m -> y_merged"
   ]
  },
  {
   "cell_type": "markdown",
   "id": "3d555f77",
   "metadata": {},
   "source": [
    "### Transforming data to remove skewness"
   ]
  },
  {
   "cell_type": "code",
   "execution_count": 192,
   "id": "ad3e56c6",
   "metadata": {},
   "outputs": [
    {
     "data": {
      "text/plain": [
       "array([[ 0.1130194 ,  0.90710739, -1.2285631 , -0.80206958],\n",
       "       [ 0.1130194 ,  0.90710739, -0.66788014, -1.06900745],\n",
       "       [ 0.1130194 ,  0.90710739, -2.22927537, -1.43132167],\n",
       "       ...,\n",
       "       [ 1.19275029, -1.1024053 ,  1.19660931,  0.85579386],\n",
       "       [ 1.19275029, -1.1024053 ,  1.63858665,  1.15466232],\n",
       "       [ 1.19275029, -1.1024053 ,  0.89585556,  0.60823393]])"
      ]
     },
     "execution_count": 192,
     "metadata": {},
     "output_type": "execute_result"
    }
   ],
   "source": [
    "#using power transform\n",
    "\n",
    "from sklearn.preprocessing import power_transform\n",
    "x_m = power_transform(x_m,method='yeo-johnson')\n",
    "x_m"
   ]
  },
  {
   "cell_type": "code",
   "execution_count": 193,
   "id": "1f01b264",
   "metadata": {},
   "outputs": [
    {
     "data": {
      "text/plain": [
       "array([[ 0.1130194 ,  0.90710739, -1.2285631 , -0.80206958],\n",
       "       [ 0.1130194 ,  0.90710739, -0.66788014, -1.06900745],\n",
       "       [ 0.1130194 ,  0.90710739, -2.22927537, -1.43132167],\n",
       "       ...,\n",
       "       [ 1.19275029, -1.1024053 ,  1.19660931,  0.85579386],\n",
       "       [ 1.19275029, -1.1024053 ,  1.63858665,  1.15466232],\n",
       "       [ 1.19275029, -1.1024053 ,  0.89585556,  0.60823393]])"
      ]
     },
     "execution_count": 193,
     "metadata": {},
     "output_type": "execute_result"
    }
   ],
   "source": [
    "#using standard scalar\n",
    "\n",
    "from sklearn.preprocessing import StandardScaler\n",
    "ss = StandardScaler()\n",
    "x_m = ss.fit_transform(x_m)\n",
    "x_m"
   ]
  },
  {
   "cell_type": "code",
   "execution_count": 194,
   "id": "fd1266c0",
   "metadata": {},
   "outputs": [
    {
     "name": "stdout",
     "output_type": "stream",
     "text": [
      "Mean after StandardScalar = 1.1357780303070655e-17\n",
      "Standard deviation after StandardScalar = 1.0\n"
     ]
    }
   ],
   "source": [
    "print (\"Mean after StandardScalar =\",x_m.mean())\n",
    "print (\"Standard deviation after StandardScalar =\",x_m.std())"
   ]
  },
  {
   "cell_type": "markdown",
   "id": "f5535aec",
   "metadata": {},
   "source": [
    "## Model Building"
   ]
  },
  {
   "cell_type": "markdown",
   "id": "78034b77",
   "metadata": {},
   "source": [
    "### Linear Regression"
   ]
  },
  {
   "cell_type": "code",
   "execution_count": 195,
   "id": "d9290e18",
   "metadata": {},
   "outputs": [
    {
     "name": "stdout",
     "output_type": "stream",
     "text": [
      "At random state:  208\n",
      "Training accuracy is:  50.9\n",
      "Test accuracy is:  50.9\n",
      "At random state:  370\n",
      "Training accuracy is:  50.9\n",
      "Test accuracy is:  50.9\n",
      "At random state:  598\n",
      "Training accuracy is:  50.9\n",
      "Test accuracy is:  50.9\n",
      "At random state:  1141\n",
      "Training accuracy is:  51.0\n",
      "Test accuracy is:  51.0\n",
      "At random state:  1217\n",
      "Training accuracy is:  50.9\n",
      "Test accuracy is:  50.9\n",
      "At random state:  1283\n",
      "Training accuracy is:  50.9\n",
      "Test accuracy is:  50.9\n"
     ]
    }
   ],
   "source": [
    "for i in range(0,1300):\n",
    "    x_m_train,x_m_test,y_m_train,y_m_test = train_test_split(x_m,y_m,random_state=i,test_size=0.2)\n",
    "    lr.fit(x_m_train,y_m_train)\n",
    "    pred_m_train = lr.predict(x_m_train)\n",
    "    pred_m_test = lr.predict(x_m_test)\n",
    "    if round(r2_score(y_m_train,pred_m_train)*100,1)==round(r2_score(y_m_test,pred_m_test)*100,1):\n",
    "        print (\"At random state: \",i)\n",
    "        print (\"Training accuracy is: \",round(r2_score(y_m_train,pred_m_train)*100,1))\n",
    "        print (\"Test accuracy is: \",round(r2_score(y_m_test,pred_m_test)*100,1))"
   ]
  },
  {
   "cell_type": "code",
   "execution_count": 209,
   "id": "c10bef25",
   "metadata": {},
   "outputs": [
    {
     "name": "stdout",
     "output_type": "stream",
     "text": [
      "The accuracy of Linear Regression is 51.0 %\n"
     ]
    }
   ],
   "source": [
    "#to confirm the accuracy of 51% at random state 1141\n",
    "\n",
    "x_m_train,x_m_test,y_m_train,y_m_test = train_test_split(x_m,y_m,random_state=1141,test_size=0.2)\n",
    "lr.fit(x_m_train,y_m_train)\n",
    "pred_m_test = lr.predict(x_m_test)\n",
    "print (\"The accuracy of Linear Regression is\",round(r2_score(y_m_test,pred_m_test)*100,1),'%')\n",
    "\n",
    "linear_regression_balanced = round(r2_score(y_m_test,pred_m_test)*100,1)"
   ]
  },
  {
   "cell_type": "markdown",
   "id": "b691d563",
   "metadata": {},
   "source": [
    "#### Cross Validation - Linear Regression"
   ]
  },
  {
   "cell_type": "code",
   "execution_count": 197,
   "id": "c30e6f04",
   "metadata": {},
   "outputs": [
    {
     "name": "stdout",
     "output_type": "stream",
     "text": [
      "At CV: 2\n",
      "The CV score is: -418.0\n",
      "The accuracy is: 51.0\n",
      "At CV: 3\n",
      "The CV score is: -949.8\n",
      "The accuracy is: 51.0\n",
      "At CV: 4\n",
      "The CV score is: -114.7\n",
      "The accuracy is: 51.0\n",
      "At CV: 5\n",
      "The CV score is: -57.0\n",
      "The accuracy is: 51.0\n",
      "At CV: 6\n",
      "The CV score is: -76.5\n",
      "The accuracy is: 51.0\n",
      "At CV: 7\n",
      "The CV score is: -55.3\n",
      "The accuracy is: 51.0\n",
      "At CV: 8\n",
      "The CV score is: -49.1\n",
      "The accuracy is: 51.0\n",
      "At CV: 9\n",
      "The CV score is: -58.1\n",
      "The accuracy is: 51.0\n"
     ]
    }
   ],
   "source": [
    "pred_m_test_accuracy = r2_score(y_m_test,pred_m_test)\n",
    "\n",
    "for val in range(2,10):\n",
    "    l_score_m = cross_val_score(lr,x_m,y_m,cv=val)\n",
    "    lscore_m_mean = l_score_m.mean()\n",
    "    print (\"At CV:\",val)\n",
    "    print (\"The CV score is:\",round((lscore_m_mean)*100,1))\n",
    "    print (\"The accuracy is:\",round((pred_m_test_accuracy)*100,1))"
   ]
  },
  {
   "cell_type": "code",
   "execution_count": 198,
   "id": "261f4086",
   "metadata": {},
   "outputs": [
    {
     "name": "stdout",
     "output_type": "stream",
     "text": [
      "The Ridge CV score is 51.0 %\n",
      "The Lasso CV score is 51.0 %\n"
     ]
    }
   ],
   "source": [
    "#applying lasso and ridge cross validation\n",
    "\n",
    "lassocv_m = LassoCV(alphas = None, cv=8, max_iter=1000,normalize=True)\n",
    "lassocv_m.fit(x_m_train,y_m_train)\n",
    "\n",
    "alpha_m=lassocv_m.alpha_\n",
    "lasso_reg_m = Lasso(alpha_m)\n",
    "lasso_reg_m.fit(x_m_train,y_m_train)\n",
    "\n",
    "alpha_r_m = np.random.uniform(low=0,high=10,size=(50,))\n",
    "ridgecv_m = RidgeCV(alphas = alpha_r_m, cv=8, normalize=True)\n",
    "ridgecv_m.fit(x_m_train,y_m_train)\n",
    "ridgecv_m.alpha_\n",
    "\n",
    "ridge_reg_m = Ridge(ridgecv_m.alpha_)\n",
    "ridge_reg_m.fit(x_m_train,y_m_train)\n",
    "\n",
    "print (\"The Ridge CV score is\",round(ridge_reg_m.score(x_m_test,y_m_test)*100,1),\"%\")\n",
    "print (\"The Lasso CV score is\",round(lasso_reg_m.score(x_m_test,y_m_test)*100,1),\"%\")"
   ]
  },
  {
   "cell_type": "raw",
   "id": "3e2e52bd",
   "metadata": {},
   "source": [
    "Since the LassoCV and the RidgeCV scores are similar, we can conclude that our linear regression model is working well"
   ]
  },
  {
   "cell_type": "code",
   "execution_count": 210,
   "id": "4e684441",
   "metadata": {},
   "outputs": [
    {
     "name": "stdout",
     "output_type": "stream",
     "text": [
      "The KNN score is 44.74 %\n"
     ]
    }
   ],
   "source": [
    "### KNN Regressor\n",
    "\n",
    "KN_m = KNeighborsRegressor(n_neighbors=7, algorithm='kd_tree', weights='distance')\n",
    "KN_m.fit(x_m_train,y_m_train)\n",
    "KN_m_pred = KN_m.predict(x_m_test)\n",
    "print (\"The KNN score is\",round(r2_score(KN_m_pred,y_m_test)*100,2),\"%\")\n",
    "\n",
    "KNN_regression_balanced = round(r2_score(KN_m_pred,y_m_test)*100,2)"
   ]
  },
  {
   "cell_type": "code",
   "execution_count": 211,
   "id": "700ceab5",
   "metadata": {},
   "outputs": [
    {
     "name": "stdout",
     "output_type": "stream",
     "text": [
      "The SVR score is -1168.18 %\n"
     ]
    }
   ],
   "source": [
    "### SVM Regressor\n",
    "\n",
    "svr_m = SVR(kernel='poly', gamma=1, epsilon=3)\n",
    "svr_m.fit(x_m_train,y_m_train)\n",
    "SVR_m_pred = svr_m.predict(x_m_test)\n",
    "print (\"The SVR score is\",round(r2_score(SVR_m_pred,y_m_test)*100,2),\"%\")\n",
    "\n",
    "SVR_regression_balanced = round(r2_score(SVR_m_pred,y_m_test)*100,2)"
   ]
  },
  {
   "cell_type": "code",
   "execution_count": 214,
   "id": "9228ebcb",
   "metadata": {},
   "outputs": [
    {
     "name": "stdout",
     "output_type": "stream",
     "text": [
      "The RFR score is 49.03 %\n"
     ]
    }
   ],
   "source": [
    "### Random Forest Regressor \n",
    "\n",
    "RFR_m = RandomForestRegressor(n_estimators=10,bootstrap=True,random_state=127)\n",
    "RFR_m.fit(x_m_train,y_m_train)\n",
    "RFR_m_pred = RFR_m.predict(x_m_test)\n",
    "print (\"The RFR score is\",round(r2_score(RFR_m_pred,y_m_test)*100,2),\"%\")\n",
    "\n",
    "RFR_regression_balanced = round(r2_score(RFR_m_pred,y_m_test)*100,2)"
   ]
  },
  {
   "cell_type": "code",
   "execution_count": 202,
   "id": "afc134ca",
   "metadata": {},
   "outputs": [
    {
     "data": {
      "text/html": [
       "<div>\n",
       "<style scoped>\n",
       "    .dataframe tbody tr th:only-of-type {\n",
       "        vertical-align: middle;\n",
       "    }\n",
       "\n",
       "    .dataframe tbody tr th {\n",
       "        vertical-align: top;\n",
       "    }\n",
       "\n",
       "    .dataframe thead th {\n",
       "        text-align: right;\n",
       "    }\n",
       "</style>\n",
       "<table border=\"1\" class=\"dataframe\">\n",
       "  <thead>\n",
       "    <tr style=\"text-align: right;\">\n",
       "      <th></th>\n",
       "      <th>Actual Values</th>\n",
       "      <th>Predicted Values</th>\n",
       "      <th>Error/Residual</th>\n",
       "    </tr>\n",
       "  </thead>\n",
       "  <tbody>\n",
       "    <tr>\n",
       "      <th>0</th>\n",
       "      <td>92700.0</td>\n",
       "      <td>92915.0</td>\n",
       "      <td>-215.0</td>\n",
       "    </tr>\n",
       "    <tr>\n",
       "      <th>1</th>\n",
       "      <td>82379.0</td>\n",
       "      <td>95023.0</td>\n",
       "      <td>-12644.0</td>\n",
       "    </tr>\n",
       "    <tr>\n",
       "      <th>2</th>\n",
       "      <td>74830.0</td>\n",
       "      <td>78663.0</td>\n",
       "      <td>-3833.0</td>\n",
       "    </tr>\n",
       "    <tr>\n",
       "      <th>3</th>\n",
       "      <td>83850.0</td>\n",
       "      <td>83483.0</td>\n",
       "      <td>367.0</td>\n",
       "    </tr>\n",
       "    <tr>\n",
       "      <th>4</th>\n",
       "      <td>78785.0</td>\n",
       "      <td>87872.0</td>\n",
       "      <td>-9087.0</td>\n",
       "    </tr>\n",
       "  </tbody>\n",
       "</table>\n",
       "</div>"
      ],
      "text/plain": [
       "   Actual Values  Predicted Values  Error/Residual\n",
       "0        92700.0           92915.0          -215.0\n",
       "1        82379.0           95023.0        -12644.0\n",
       "2        74830.0           78663.0         -3833.0\n",
       "3        83850.0           83483.0           367.0\n",
       "4        78785.0           87872.0         -9087.0"
      ]
     },
     "execution_count": 202,
     "metadata": {},
     "output_type": "execute_result"
    }
   ],
   "source": [
    "actual_m = np.array(y_m_test)\n",
    "predicted_m = np.array(lr.predict(x_m_test))\n",
    "error_residual_m = actual_m-predicted_m\n",
    "\n",
    "actual_vs_pred_m_df = pd.DataFrame({'Actual Values':actual_m,'Predicted Values':np.round(predicted_m),'Error/Residual':np.round(error_residual_m)})\n",
    "actual_vs_pred_m_df.head()"
   ]
  },
  {
   "cell_type": "markdown",
   "id": "c9802e3a",
   "metadata": {},
   "source": [
    "# Comparing both the models of both the unbalanced and balanced dataset"
   ]
  },
  {
   "cell_type": "code",
   "execution_count": 234,
   "id": "8641a777",
   "metadata": {},
   "outputs": [
    {
     "name": "stdout",
     "output_type": "stream",
     "text": [
      "Here we see the differences in the balanced and unbalanced datasets.\n",
      "We can conclude that the model with the upsampled data performed better with the accuracy of 51%.\n"
     ]
    },
    {
     "data": {
      "text/html": [
       "<div>\n",
       "<style scoped>\n",
       "    .dataframe tbody tr th:only-of-type {\n",
       "        vertical-align: middle;\n",
       "    }\n",
       "\n",
       "    .dataframe tbody tr th {\n",
       "        vertical-align: top;\n",
       "    }\n",
       "\n",
       "    .dataframe thead th {\n",
       "        text-align: right;\n",
       "    }\n",
       "</style>\n",
       "<table border=\"1\" class=\"dataframe\">\n",
       "  <thead>\n",
       "    <tr style=\"text-align: right;\">\n",
       "      <th></th>\n",
       "      <th>Model</th>\n",
       "      <th>Balanced (in %)</th>\n",
       "      <th>Unbalanced (in %)</th>\n",
       "    </tr>\n",
       "  </thead>\n",
       "  <tbody>\n",
       "    <tr>\n",
       "      <th>0</th>\n",
       "      <td>Linear Regression</td>\n",
       "      <td>51.00</td>\n",
       "      <td>42.30</td>\n",
       "    </tr>\n",
       "    <tr>\n",
       "      <th>1</th>\n",
       "      <td>SVR</td>\n",
       "      <td>-1168.18</td>\n",
       "      <td>-2069.91</td>\n",
       "    </tr>\n",
       "    <tr>\n",
       "      <th>2</th>\n",
       "      <td>RFR</td>\n",
       "      <td>49.03</td>\n",
       "      <td>-4.14</td>\n",
       "    </tr>\n",
       "    <tr>\n",
       "      <th>3</th>\n",
       "      <td>KNN</td>\n",
       "      <td>44.74</td>\n",
       "      <td>-2.84</td>\n",
       "    </tr>\n",
       "  </tbody>\n",
       "</table>\n",
       "</div>"
      ],
      "text/plain": [
       "               Model  Balanced (in %)  Unbalanced (in %)\n",
       "0  Linear Regression            51.00              42.30\n",
       "1                SVR         -1168.18           -2069.91\n",
       "2                RFR            49.03              -4.14\n",
       "3                KNN            44.74              -2.84"
      ]
     },
     "execution_count": 234,
     "metadata": {},
     "output_type": "execute_result"
    }
   ],
   "source": [
    "final = pd.DataFrame({'Model':['Linear Regression','SVR','RFR','KNN'],'Balanced (in %)':[linear_regression_balanced,SVR_regression_balanced,RFR_regression_balanced,KNN_regression_balanced],'Unbalanced (in %)':[linear_regression_unbalanced,SVR_regression_unbalanced,RFR_regression_unbalanced,KNN_regression_unbalanced]})\n",
    "print(\"Here we see the differences in the balanced and unbalanced datasets.\\nWe can conclude that the model with the upsampled data performed better with the accuracy of 51%.\")\n",
    "final"
   ]
  },
  {
   "cell_type": "markdown",
   "id": "39bc309a",
   "metadata": {},
   "source": [
    "## Saving File"
   ]
  },
  {
   "cell_type": "code",
   "execution_count": 235,
   "id": "1220e983",
   "metadata": {},
   "outputs": [],
   "source": [
    "file = \"salary_prediction_DataTrained\"\n",
    "pickle.dump(final,open(file,'wb'))"
   ]
  }
 ],
 "metadata": {
  "kernelspec": {
   "display_name": "Python 3 (ipykernel)",
   "language": "python",
   "name": "python3"
  },
  "language_info": {
   "codemirror_mode": {
    "name": "ipython",
    "version": 3
   },
   "file_extension": ".py",
   "mimetype": "text/x-python",
   "name": "python",
   "nbconvert_exporter": "python",
   "pygments_lexer": "ipython3",
   "version": "3.9.7"
  }
 },
 "nbformat": 4,
 "nbformat_minor": 5
}
