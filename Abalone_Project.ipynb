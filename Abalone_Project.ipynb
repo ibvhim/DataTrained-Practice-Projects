{
 "cells": [
  {
   "cell_type": "markdown",
   "id": "638a8662",
   "metadata": {},
   "source": [
    "## Abalone Case Study\n",
    "Problem Statement:\n",
    "The age of abalone is determined by cutting the shell through the cone, staining it, and counting the number of rings through a microscope--a boring and time-consuming task. Other measurements, which are easier to obtain, are used to predict the age. Further information, such as weather patterns and location (hence food availability) may be required to solve the problem.\n",
    "\n",
    "### Attribute Information\n",
    "\n",
    "Given is the attribute name, attribute type, the measurement unit and a brief description. The number of rings is the value to predict. \n",
    "\n",
    "##### Name | Data Type | Measurement Unit | Description\n",
    "Sex | nominal | -- | M, F, and I (infant)\n",
    "\n",
    "Length | continuous | mm | Longest shell measurement\n",
    "\n",
    "Diameter | continuous | mm | perpendicular to length\n",
    "\n",
    "Height | continuous | mm | with meat in shell\n",
    "\n",
    "Whole weight | continuous | grams | whole abalone\n",
    "\n",
    "Shucked weight | continuous | grams | weight of meat\n",
    "\n",
    "Viscera weight | continuous | grams | gut weight (after bleeding)\n",
    "\n",
    "Shell weight | continuous | grams | after being dried\n",
    "\n",
    "Rings | integer | -- | +1.5 gives the age in years. \n",
    "\n",
    "You have to predict the rings of each abalone which will lead us to the age of that abalone. "
   ]
  },
  {
   "cell_type": "code",
   "execution_count": 218,
   "id": "2a09c22c",
   "metadata": {},
   "outputs": [],
   "source": [
    "#importing all the necessary libraries and modules\n",
    "\n",
    "import scipy\n",
    "import pandas as pd\n",
    "import numpy as np\n",
    "import seaborn as sns\n",
    "import matplotlib.pyplot as plt\n",
    "from scipy.stats import zscore\n",
    "import sklearn.metrics as metrics\n",
    "from sklearn.metrics import mean_absolute_error,mean_squared_error,r2_score,confusion_matrix, accuracy_score\n",
    "from sklearn.model_selection import train_test_split, GridSearchCV, cross_val_score\n",
    "from sklearn.linear_model import Lasso, Ridge, LinearRegression\n",
    "from sklearn.tree import DecisionTreeRegressor\n",
    "from sklearn.neighbors import KNeighborsRegressor\n",
    "from sklearn.ensemble import RandomForestRegressor, GradientBoostingRegressor\n",
    "from sklearn.svm import SVR\n",
    "from xgboost import XGBRegressor\n",
    "import pickle\n",
    "\n",
    "import warnings\n",
    "warnings.filterwarnings('ignore')"
   ]
  },
  {
   "cell_type": "code",
   "execution_count": 219,
   "id": "65531e7c",
   "metadata": {},
   "outputs": [
    {
     "data": {
      "text/html": [
       "<div>\n",
       "<style scoped>\n",
       "    .dataframe tbody tr th:only-of-type {\n",
       "        vertical-align: middle;\n",
       "    }\n",
       "\n",
       "    .dataframe tbody tr th {\n",
       "        vertical-align: top;\n",
       "    }\n",
       "\n",
       "    .dataframe thead th {\n",
       "        text-align: right;\n",
       "    }\n",
       "</style>\n",
       "<table border=\"1\" class=\"dataframe\">\n",
       "  <thead>\n",
       "    <tr style=\"text-align: right;\">\n",
       "      <th></th>\n",
       "      <th>Sex</th>\n",
       "      <th>Length</th>\n",
       "      <th>Diameter</th>\n",
       "      <th>Height</th>\n",
       "      <th>Whole weight</th>\n",
       "      <th>Shucked weight</th>\n",
       "      <th>Viscera weight</th>\n",
       "      <th>Shell weight</th>\n",
       "      <th>Rings</th>\n",
       "    </tr>\n",
       "  </thead>\n",
       "  <tbody>\n",
       "    <tr>\n",
       "      <th>0</th>\n",
       "      <td>M</td>\n",
       "      <td>0.455</td>\n",
       "      <td>0.365</td>\n",
       "      <td>0.095</td>\n",
       "      <td>0.5140</td>\n",
       "      <td>0.2245</td>\n",
       "      <td>0.1010</td>\n",
       "      <td>0.1500</td>\n",
       "      <td>15</td>\n",
       "    </tr>\n",
       "    <tr>\n",
       "      <th>1</th>\n",
       "      <td>M</td>\n",
       "      <td>0.350</td>\n",
       "      <td>0.265</td>\n",
       "      <td>0.090</td>\n",
       "      <td>0.2255</td>\n",
       "      <td>0.0995</td>\n",
       "      <td>0.0485</td>\n",
       "      <td>0.0700</td>\n",
       "      <td>7</td>\n",
       "    </tr>\n",
       "    <tr>\n",
       "      <th>2</th>\n",
       "      <td>F</td>\n",
       "      <td>0.530</td>\n",
       "      <td>0.420</td>\n",
       "      <td>0.135</td>\n",
       "      <td>0.6770</td>\n",
       "      <td>0.2565</td>\n",
       "      <td>0.1415</td>\n",
       "      <td>0.2100</td>\n",
       "      <td>9</td>\n",
       "    </tr>\n",
       "    <tr>\n",
       "      <th>3</th>\n",
       "      <td>M</td>\n",
       "      <td>0.440</td>\n",
       "      <td>0.365</td>\n",
       "      <td>0.125</td>\n",
       "      <td>0.5160</td>\n",
       "      <td>0.2155</td>\n",
       "      <td>0.1140</td>\n",
       "      <td>0.1550</td>\n",
       "      <td>10</td>\n",
       "    </tr>\n",
       "    <tr>\n",
       "      <th>4</th>\n",
       "      <td>I</td>\n",
       "      <td>0.330</td>\n",
       "      <td>0.255</td>\n",
       "      <td>0.080</td>\n",
       "      <td>0.2050</td>\n",
       "      <td>0.0895</td>\n",
       "      <td>0.0395</td>\n",
       "      <td>0.0550</td>\n",
       "      <td>7</td>\n",
       "    </tr>\n",
       "    <tr>\n",
       "      <th>...</th>\n",
       "      <td>...</td>\n",
       "      <td>...</td>\n",
       "      <td>...</td>\n",
       "      <td>...</td>\n",
       "      <td>...</td>\n",
       "      <td>...</td>\n",
       "      <td>...</td>\n",
       "      <td>...</td>\n",
       "      <td>...</td>\n",
       "    </tr>\n",
       "    <tr>\n",
       "      <th>4172</th>\n",
       "      <td>F</td>\n",
       "      <td>0.565</td>\n",
       "      <td>0.450</td>\n",
       "      <td>0.165</td>\n",
       "      <td>0.8870</td>\n",
       "      <td>0.3700</td>\n",
       "      <td>0.2390</td>\n",
       "      <td>0.2490</td>\n",
       "      <td>11</td>\n",
       "    </tr>\n",
       "    <tr>\n",
       "      <th>4173</th>\n",
       "      <td>M</td>\n",
       "      <td>0.590</td>\n",
       "      <td>0.440</td>\n",
       "      <td>0.135</td>\n",
       "      <td>0.9660</td>\n",
       "      <td>0.4390</td>\n",
       "      <td>0.2145</td>\n",
       "      <td>0.2605</td>\n",
       "      <td>10</td>\n",
       "    </tr>\n",
       "    <tr>\n",
       "      <th>4174</th>\n",
       "      <td>M</td>\n",
       "      <td>0.600</td>\n",
       "      <td>0.475</td>\n",
       "      <td>0.205</td>\n",
       "      <td>1.1760</td>\n",
       "      <td>0.5255</td>\n",
       "      <td>0.2875</td>\n",
       "      <td>0.3080</td>\n",
       "      <td>9</td>\n",
       "    </tr>\n",
       "    <tr>\n",
       "      <th>4175</th>\n",
       "      <td>F</td>\n",
       "      <td>0.625</td>\n",
       "      <td>0.485</td>\n",
       "      <td>0.150</td>\n",
       "      <td>1.0945</td>\n",
       "      <td>0.5310</td>\n",
       "      <td>0.2610</td>\n",
       "      <td>0.2960</td>\n",
       "      <td>10</td>\n",
       "    </tr>\n",
       "    <tr>\n",
       "      <th>4176</th>\n",
       "      <td>M</td>\n",
       "      <td>0.710</td>\n",
       "      <td>0.555</td>\n",
       "      <td>0.195</td>\n",
       "      <td>1.9485</td>\n",
       "      <td>0.9455</td>\n",
       "      <td>0.3765</td>\n",
       "      <td>0.4950</td>\n",
       "      <td>12</td>\n",
       "    </tr>\n",
       "  </tbody>\n",
       "</table>\n",
       "<p>4177 rows × 9 columns</p>\n",
       "</div>"
      ],
      "text/plain": [
       "     Sex  Length  Diameter  Height  Whole weight  Shucked weight  \\\n",
       "0      M   0.455     0.365   0.095        0.5140          0.2245   \n",
       "1      M   0.350     0.265   0.090        0.2255          0.0995   \n",
       "2      F   0.530     0.420   0.135        0.6770          0.2565   \n",
       "3      M   0.440     0.365   0.125        0.5160          0.2155   \n",
       "4      I   0.330     0.255   0.080        0.2050          0.0895   \n",
       "...   ..     ...       ...     ...           ...             ...   \n",
       "4172   F   0.565     0.450   0.165        0.8870          0.3700   \n",
       "4173   M   0.590     0.440   0.135        0.9660          0.4390   \n",
       "4174   M   0.600     0.475   0.205        1.1760          0.5255   \n",
       "4175   F   0.625     0.485   0.150        1.0945          0.5310   \n",
       "4176   M   0.710     0.555   0.195        1.9485          0.9455   \n",
       "\n",
       "      Viscera weight  Shell weight  Rings  \n",
       "0             0.1010        0.1500     15  \n",
       "1             0.0485        0.0700      7  \n",
       "2             0.1415        0.2100      9  \n",
       "3             0.1140        0.1550     10  \n",
       "4             0.0395        0.0550      7  \n",
       "...              ...           ...    ...  \n",
       "4172          0.2390        0.2490     11  \n",
       "4173          0.2145        0.2605     10  \n",
       "4174          0.2875        0.3080      9  \n",
       "4175          0.2610        0.2960     10  \n",
       "4176          0.3765        0.4950     12  \n",
       "\n",
       "[4177 rows x 9 columns]"
      ]
     },
     "execution_count": 219,
     "metadata": {},
     "output_type": "execute_result"
    }
   ],
   "source": [
    "df = pd.read_csv(\"abalone.csv\")\n",
    "df"
   ]
  },
  {
   "cell_type": "code",
   "execution_count": 220,
   "id": "62630804",
   "metadata": {},
   "outputs": [
    {
     "data": {
      "text/plain": [
       "Sex               0\n",
       "Length            0\n",
       "Diameter          0\n",
       "Height            0\n",
       "Whole weight      0\n",
       "Shucked weight    0\n",
       "Viscera weight    0\n",
       "Shell weight      0\n",
       "Rings             0\n",
       "dtype: int64"
      ]
     },
     "execution_count": 220,
     "metadata": {},
     "output_type": "execute_result"
    }
   ],
   "source": [
    "df.isnull().sum() #checking for null values"
   ]
  },
  {
   "cell_type": "code",
   "execution_count": 221,
   "id": "0455da95",
   "metadata": {},
   "outputs": [
    {
     "name": "stdout",
     "output_type": "stream",
     "text": [
      "<class 'pandas.core.frame.DataFrame'>\n",
      "RangeIndex: 4177 entries, 0 to 4176\n",
      "Data columns (total 9 columns):\n",
      " #   Column          Non-Null Count  Dtype  \n",
      "---  ------          --------------  -----  \n",
      " 0   Sex             4177 non-null   object \n",
      " 1   Length          4177 non-null   float64\n",
      " 2   Diameter        4177 non-null   float64\n",
      " 3   Height          4177 non-null   float64\n",
      " 4   Whole weight    4177 non-null   float64\n",
      " 5   Shucked weight  4177 non-null   float64\n",
      " 6   Viscera weight  4177 non-null   float64\n",
      " 7   Shell weight    4177 non-null   float64\n",
      " 8   Rings           4177 non-null   int64  \n",
      "dtypes: float64(7), int64(1), object(1)\n",
      "memory usage: 293.8+ KB\n"
     ]
    }
   ],
   "source": [
    "df.info()"
   ]
  },
  {
   "cell_type": "raw",
   "id": "8decdb2c",
   "metadata": {},
   "source": [
    "'Sex' - datatype is object\n",
    "'Rings' datatype is integer\n",
    "'Length','Diameter','Height','Whole weight','Shucked weight','Viscera weight' and 'Shell weight' datatypes are float."
   ]
  },
  {
   "cell_type": "code",
   "execution_count": 222,
   "id": "ecfb635a",
   "metadata": {},
   "outputs": [
    {
     "data": {
      "text/html": [
       "<div>\n",
       "<style scoped>\n",
       "    .dataframe tbody tr th:only-of-type {\n",
       "        vertical-align: middle;\n",
       "    }\n",
       "\n",
       "    .dataframe tbody tr th {\n",
       "        vertical-align: top;\n",
       "    }\n",
       "\n",
       "    .dataframe thead th {\n",
       "        text-align: right;\n",
       "    }\n",
       "</style>\n",
       "<table border=\"1\" class=\"dataframe\">\n",
       "  <thead>\n",
       "    <tr style=\"text-align: right;\">\n",
       "      <th></th>\n",
       "      <th>Length</th>\n",
       "      <th>Diameter</th>\n",
       "      <th>Height</th>\n",
       "      <th>Whole weight</th>\n",
       "      <th>Shucked weight</th>\n",
       "      <th>Viscera weight</th>\n",
       "      <th>Shell weight</th>\n",
       "      <th>Rings</th>\n",
       "    </tr>\n",
       "  </thead>\n",
       "  <tbody>\n",
       "    <tr>\n",
       "      <th>count</th>\n",
       "      <td>4177.000000</td>\n",
       "      <td>4177.000000</td>\n",
       "      <td>4177.000000</td>\n",
       "      <td>4177.000000</td>\n",
       "      <td>4177.000000</td>\n",
       "      <td>4177.000000</td>\n",
       "      <td>4177.000000</td>\n",
       "      <td>4177.000000</td>\n",
       "    </tr>\n",
       "    <tr>\n",
       "      <th>mean</th>\n",
       "      <td>0.523992</td>\n",
       "      <td>0.407881</td>\n",
       "      <td>0.139516</td>\n",
       "      <td>0.828742</td>\n",
       "      <td>0.359367</td>\n",
       "      <td>0.180594</td>\n",
       "      <td>0.238831</td>\n",
       "      <td>9.933684</td>\n",
       "    </tr>\n",
       "    <tr>\n",
       "      <th>std</th>\n",
       "      <td>0.120093</td>\n",
       "      <td>0.099240</td>\n",
       "      <td>0.041827</td>\n",
       "      <td>0.490389</td>\n",
       "      <td>0.221963</td>\n",
       "      <td>0.109614</td>\n",
       "      <td>0.139203</td>\n",
       "      <td>3.224169</td>\n",
       "    </tr>\n",
       "    <tr>\n",
       "      <th>min</th>\n",
       "      <td>0.075000</td>\n",
       "      <td>0.055000</td>\n",
       "      <td>0.000000</td>\n",
       "      <td>0.002000</td>\n",
       "      <td>0.001000</td>\n",
       "      <td>0.000500</td>\n",
       "      <td>0.001500</td>\n",
       "      <td>1.000000</td>\n",
       "    </tr>\n",
       "    <tr>\n",
       "      <th>25%</th>\n",
       "      <td>0.450000</td>\n",
       "      <td>0.350000</td>\n",
       "      <td>0.115000</td>\n",
       "      <td>0.441500</td>\n",
       "      <td>0.186000</td>\n",
       "      <td>0.093500</td>\n",
       "      <td>0.130000</td>\n",
       "      <td>8.000000</td>\n",
       "    </tr>\n",
       "    <tr>\n",
       "      <th>50%</th>\n",
       "      <td>0.545000</td>\n",
       "      <td>0.425000</td>\n",
       "      <td>0.140000</td>\n",
       "      <td>0.799500</td>\n",
       "      <td>0.336000</td>\n",
       "      <td>0.171000</td>\n",
       "      <td>0.234000</td>\n",
       "      <td>9.000000</td>\n",
       "    </tr>\n",
       "    <tr>\n",
       "      <th>75%</th>\n",
       "      <td>0.615000</td>\n",
       "      <td>0.480000</td>\n",
       "      <td>0.165000</td>\n",
       "      <td>1.153000</td>\n",
       "      <td>0.502000</td>\n",
       "      <td>0.253000</td>\n",
       "      <td>0.329000</td>\n",
       "      <td>11.000000</td>\n",
       "    </tr>\n",
       "    <tr>\n",
       "      <th>max</th>\n",
       "      <td>0.815000</td>\n",
       "      <td>0.650000</td>\n",
       "      <td>1.130000</td>\n",
       "      <td>2.825500</td>\n",
       "      <td>1.488000</td>\n",
       "      <td>0.760000</td>\n",
       "      <td>1.005000</td>\n",
       "      <td>29.000000</td>\n",
       "    </tr>\n",
       "  </tbody>\n",
       "</table>\n",
       "</div>"
      ],
      "text/plain": [
       "            Length     Diameter       Height  Whole weight  Shucked weight  \\\n",
       "count  4177.000000  4177.000000  4177.000000   4177.000000     4177.000000   \n",
       "mean      0.523992     0.407881     0.139516      0.828742        0.359367   \n",
       "std       0.120093     0.099240     0.041827      0.490389        0.221963   \n",
       "min       0.075000     0.055000     0.000000      0.002000        0.001000   \n",
       "25%       0.450000     0.350000     0.115000      0.441500        0.186000   \n",
       "50%       0.545000     0.425000     0.140000      0.799500        0.336000   \n",
       "75%       0.615000     0.480000     0.165000      1.153000        0.502000   \n",
       "max       0.815000     0.650000     1.130000      2.825500        1.488000   \n",
       "\n",
       "       Viscera weight  Shell weight        Rings  \n",
       "count     4177.000000   4177.000000  4177.000000  \n",
       "mean         0.180594      0.238831     9.933684  \n",
       "std          0.109614      0.139203     3.224169  \n",
       "min          0.000500      0.001500     1.000000  \n",
       "25%          0.093500      0.130000     8.000000  \n",
       "50%          0.171000      0.234000     9.000000  \n",
       "75%          0.253000      0.329000    11.000000  \n",
       "max          0.760000      1.005000    29.000000  "
      ]
     },
     "execution_count": 222,
     "metadata": {},
     "output_type": "execute_result"
    }
   ],
   "source": [
    "#describing the data\n",
    "df.describe()"
   ]
  },
  {
   "cell_type": "raw",
   "id": "7ed74465",
   "metadata": {},
   "source": [
    "- the data does not have normal distribution\n",
    "- minimum value -> 0 (height) lowest  "
   ]
  },
  {
   "cell_type": "markdown",
   "id": "a04fa7f1",
   "metadata": {},
   "source": [
    "#### Plotting"
   ]
  },
  {
   "cell_type": "code",
   "execution_count": 223,
   "id": "ac5e168e",
   "metadata": {},
   "outputs": [
    {
     "data": {
      "text/html": [
       "<div>\n",
       "<style scoped>\n",
       "    .dataframe tbody tr th:only-of-type {\n",
       "        vertical-align: middle;\n",
       "    }\n",
       "\n",
       "    .dataframe tbody tr th {\n",
       "        vertical-align: top;\n",
       "    }\n",
       "\n",
       "    .dataframe thead th {\n",
       "        text-align: right;\n",
       "    }\n",
       "</style>\n",
       "<table border=\"1\" class=\"dataframe\">\n",
       "  <thead>\n",
       "    <tr style=\"text-align: right;\">\n",
       "      <th></th>\n",
       "      <th>Length</th>\n",
       "      <th>Diameter</th>\n",
       "      <th>Height</th>\n",
       "      <th>Whole weight</th>\n",
       "      <th>Shucked weight</th>\n",
       "      <th>Viscera weight</th>\n",
       "      <th>Shell weight</th>\n",
       "      <th>Rings</th>\n",
       "    </tr>\n",
       "  </thead>\n",
       "  <tbody>\n",
       "    <tr>\n",
       "      <th>Length</th>\n",
       "      <td>1.000000</td>\n",
       "      <td>0.986812</td>\n",
       "      <td>0.827554</td>\n",
       "      <td>0.925261</td>\n",
       "      <td>0.897914</td>\n",
       "      <td>0.903018</td>\n",
       "      <td>0.897706</td>\n",
       "      <td>0.556720</td>\n",
       "    </tr>\n",
       "    <tr>\n",
       "      <th>Diameter</th>\n",
       "      <td>0.986812</td>\n",
       "      <td>1.000000</td>\n",
       "      <td>0.833684</td>\n",
       "      <td>0.925452</td>\n",
       "      <td>0.893162</td>\n",
       "      <td>0.899724</td>\n",
       "      <td>0.905330</td>\n",
       "      <td>0.574660</td>\n",
       "    </tr>\n",
       "    <tr>\n",
       "      <th>Height</th>\n",
       "      <td>0.827554</td>\n",
       "      <td>0.833684</td>\n",
       "      <td>1.000000</td>\n",
       "      <td>0.819221</td>\n",
       "      <td>0.774972</td>\n",
       "      <td>0.798319</td>\n",
       "      <td>0.817338</td>\n",
       "      <td>0.557467</td>\n",
       "    </tr>\n",
       "    <tr>\n",
       "      <th>Whole weight</th>\n",
       "      <td>0.925261</td>\n",
       "      <td>0.925452</td>\n",
       "      <td>0.819221</td>\n",
       "      <td>1.000000</td>\n",
       "      <td>0.969405</td>\n",
       "      <td>0.966375</td>\n",
       "      <td>0.955355</td>\n",
       "      <td>0.540390</td>\n",
       "    </tr>\n",
       "    <tr>\n",
       "      <th>Shucked weight</th>\n",
       "      <td>0.897914</td>\n",
       "      <td>0.893162</td>\n",
       "      <td>0.774972</td>\n",
       "      <td>0.969405</td>\n",
       "      <td>1.000000</td>\n",
       "      <td>0.931961</td>\n",
       "      <td>0.882617</td>\n",
       "      <td>0.420884</td>\n",
       "    </tr>\n",
       "    <tr>\n",
       "      <th>Viscera weight</th>\n",
       "      <td>0.903018</td>\n",
       "      <td>0.899724</td>\n",
       "      <td>0.798319</td>\n",
       "      <td>0.966375</td>\n",
       "      <td>0.931961</td>\n",
       "      <td>1.000000</td>\n",
       "      <td>0.907656</td>\n",
       "      <td>0.503819</td>\n",
       "    </tr>\n",
       "    <tr>\n",
       "      <th>Shell weight</th>\n",
       "      <td>0.897706</td>\n",
       "      <td>0.905330</td>\n",
       "      <td>0.817338</td>\n",
       "      <td>0.955355</td>\n",
       "      <td>0.882617</td>\n",
       "      <td>0.907656</td>\n",
       "      <td>1.000000</td>\n",
       "      <td>0.627574</td>\n",
       "    </tr>\n",
       "    <tr>\n",
       "      <th>Rings</th>\n",
       "      <td>0.556720</td>\n",
       "      <td>0.574660</td>\n",
       "      <td>0.557467</td>\n",
       "      <td>0.540390</td>\n",
       "      <td>0.420884</td>\n",
       "      <td>0.503819</td>\n",
       "      <td>0.627574</td>\n",
       "      <td>1.000000</td>\n",
       "    </tr>\n",
       "  </tbody>\n",
       "</table>\n",
       "</div>"
      ],
      "text/plain": [
       "                  Length  Diameter    Height  Whole weight  Shucked weight  \\\n",
       "Length          1.000000  0.986812  0.827554      0.925261        0.897914   \n",
       "Diameter        0.986812  1.000000  0.833684      0.925452        0.893162   \n",
       "Height          0.827554  0.833684  1.000000      0.819221        0.774972   \n",
       "Whole weight    0.925261  0.925452  0.819221      1.000000        0.969405   \n",
       "Shucked weight  0.897914  0.893162  0.774972      0.969405        1.000000   \n",
       "Viscera weight  0.903018  0.899724  0.798319      0.966375        0.931961   \n",
       "Shell weight    0.897706  0.905330  0.817338      0.955355        0.882617   \n",
       "Rings           0.556720  0.574660  0.557467      0.540390        0.420884   \n",
       "\n",
       "                Viscera weight  Shell weight     Rings  \n",
       "Length                0.903018      0.897706  0.556720  \n",
       "Diameter              0.899724      0.905330  0.574660  \n",
       "Height                0.798319      0.817338  0.557467  \n",
       "Whole weight          0.966375      0.955355  0.540390  \n",
       "Shucked weight        0.931961      0.882617  0.420884  \n",
       "Viscera weight        1.000000      0.907656  0.503819  \n",
       "Shell weight          0.907656      1.000000  0.627574  \n",
       "Rings                 0.503819      0.627574  1.000000  "
      ]
     },
     "execution_count": 223,
     "metadata": {},
     "output_type": "execute_result"
    }
   ],
   "source": [
    "df.corr()"
   ]
  },
  {
   "cell_type": "code",
   "execution_count": 420,
   "id": "2912cc66",
   "metadata": {},
   "outputs": [
    {
     "data": {
      "text/plain": [
       "<AxesSubplot:>"
      ]
     },
     "execution_count": 420,
     "metadata": {},
     "output_type": "execute_result"
    },
    {
     "data": {
      "image/png": "[encoded data removed]",
      "text/plain": [
       "<Figure size 864x432 with 2 Axes>"
      ]
     },
     "metadata": {
      "needs_background": "light"
     },
     "output_type": "display_data"
    }
   ],
   "source": [
    "plt.figure(figsize=(12,6))\n",
    "sns.heatmap(df.corr(),annot=True,fmt='.2f',linewidth=0.5,linecolor='w',cmap='plasma_r')"
   ]
  },
  {
   "cell_type": "raw",
   "id": "e987e243",
   "metadata": {},
   "source": [
    "when it comes to Rings:\n",
    "    - Shell weight - 63% [highest correlation]\n",
    "    - Diameter - 57%\n",
    "    - Length and Height - 56%\n",
    "    - Whole weight - 54%\n",
    "    - Viscera weight - 50%\n",
    "    - Siucked weight - 42%\n",
    "    \n",
    "None of the values are negatively correlated, which is a good sign"
   ]
  },
  {
   "cell_type": "code",
   "execution_count": 225,
   "id": "e07488c6",
   "metadata": {},
   "outputs": [
    {
     "data": {
      "text/plain": [
       "<AxesSubplot:xlabel='Sex', ylabel='Rings'>"
      ]
     },
     "execution_count": 225,
     "metadata": {},
     "output_type": "execute_result"
    },
    {
     "data": {
      "image/png": "[encoded data removed]",
      "text/plain": [
       "<Figure size 432x288 with 1 Axes>"
      ]
     },
     "metadata": {
      "needs_background": "light"
     },
     "output_type": "display_data"
    }
   ],
   "source": [
    "plt.yticks(np.arange(0,15))\n",
    "sns.barplot(df['Sex'],df['Rings'])"
   ]
  },
  {
   "cell_type": "code",
   "execution_count": 226,
   "id": "2e1c9c8d",
   "metadata": {
    "scrolled": true
   },
   "outputs": [
    {
     "data": {
      "text/plain": [
       "<AxesSubplot:xlabel='Sex', ylabel='count'>"
      ]
     },
     "execution_count": 226,
     "metadata": {},
     "output_type": "execute_result"
    },
    {
     "data": {
      "image/png": "[encoded data removed]",
      "text/plain": [
       "<Figure size 432x288 with 1 Axes>"
      ]
     },
     "metadata": {
      "needs_background": "light"
     },
     "output_type": "display_data"
    }
   ],
   "source": [
    "sns.countplot(df['Sex'])"
   ]
  },
  {
   "cell_type": "code",
   "execution_count": 227,
   "id": "9e48c1ca",
   "metadata": {},
   "outputs": [
    {
     "data": {
      "text/plain": [
       "M    1528\n",
       "I    1342\n",
       "F    1307\n",
       "Name: Sex, dtype: int64"
      ]
     },
     "execution_count": 227,
     "metadata": {},
     "output_type": "execute_result"
    }
   ],
   "source": [
    "df['Sex'].value_counts()"
   ]
  },
  {
   "cell_type": "code",
   "execution_count": 228,
   "id": "4132cbfd",
   "metadata": {},
   "outputs": [
    {
     "data": {
      "image/png": "[encoded data removed]",
      "text/plain": [
       "<Figure size 1800x2880 with 9 Axes>"
      ]
     },
     "metadata": {
      "needs_background": "light"
     },
     "output_type": "display_data"
    }
   ],
   "source": [
    "collist=df.columns.values\n",
    "ncol=3\n",
    "nrow=5\n",
    "\n",
    "plt.figure(figsize=(25,40))\n",
    "for i in range(0,len(collist)):\n",
    "    plt.subplot(nrow,ncol,i+1)\n",
    "    sns.histplot(data=df[collist[i]],color='#898AA6')\n",
    "    plt.title(df.columns[i])"
   ]
  },
  {
   "cell_type": "code",
   "execution_count": 229,
   "id": "d16a1d33",
   "metadata": {},
   "outputs": [
    {
     "data": {
      "text/plain": [
       "Length           -0.639873\n",
       "Diameter         -0.609198\n",
       "Height            3.128817\n",
       "Whole weight      0.530959\n",
       "Shucked weight    0.719098\n",
       "Viscera weight    0.591852\n",
       "Shell weight      0.620927\n",
       "Rings             1.114102\n",
       "dtype: float64"
      ]
     },
     "execution_count": 229,
     "metadata": {},
     "output_type": "execute_result"
    }
   ],
   "source": [
    "df.skew()"
   ]
  },
  {
   "cell_type": "raw",
   "id": "f73c69b3",
   "metadata": {},
   "source": [
    "skewness threshold: +/-0.5\n",
    "\n",
    "    - Height -> 3.12 (high skewness)\n",
    "    - Length, Diameter, Shucked weight -> Moderately skewed\n",
    "    - Whole weight, Viscera weight, Shell weight -> light skewness"
   ]
  },
  {
   "cell_type": "code",
   "execution_count": 230,
   "id": "2523a409",
   "metadata": {},
   "outputs": [
    {
     "data": {
      "image/png": "[encoded data removed]",
      "text/plain": [
       "<Figure size 1440x1440 with 8 Axes>"
      ]
     },
     "metadata": {
      "needs_background": "light"
     },
     "output_type": "display_data"
    }
   ],
   "source": [
    "#outliers\n",
    "df_continuous = df.drop('Sex',axis=1)\n",
    "collist=df_continuous.columns.values\n",
    "ncol=8\n",
    "nrow=3\n",
    "\n",
    "plt.figure(figsize=(20,20))\n",
    "for i in range(0,len(collist)):\n",
    "    plt.subplot(nrow,ncol,i+1)\n",
    "    sns.boxplot(data=df_continuous[collist[i]],color='#898AA6')\n",
    "    plt.title(df_continuous.columns[i])\n",
    "    plt.tight_layout()"
   ]
  },
  {
   "cell_type": "raw",
   "id": "df228805",
   "metadata": {},
   "source": [
    "Outliers can be seen in every column"
   ]
  },
  {
   "cell_type": "markdown",
   "id": "91414090",
   "metadata": {},
   "source": [
    "#### Converting all the data into one type"
   ]
  },
  {
   "cell_type": "code",
   "execution_count": 231,
   "id": "f23a2d51",
   "metadata": {},
   "outputs": [],
   "source": [
    "#coverting Rings to float\n",
    "df['Rings'] = df['Rings'].astype(float)"
   ]
  },
  {
   "cell_type": "code",
   "execution_count": 232,
   "id": "c7be8e33",
   "metadata": {},
   "outputs": [],
   "source": [
    "#converting Sex to float using labelencoder\n",
    "from sklearn.preprocessing import LabelEncoder\n",
    "\n",
    "LE = LabelEncoder()\n",
    "df['Sex'] = LE.fit_transform(df['Sex'])"
   ]
  },
  {
   "cell_type": "code",
   "execution_count": 233,
   "id": "e8f99ee3",
   "metadata": {},
   "outputs": [
    {
     "data": {
      "text/html": [
       "<div>\n",
       "<style scoped>\n",
       "    .dataframe tbody tr th:only-of-type {\n",
       "        vertical-align: middle;\n",
       "    }\n",
       "\n",
       "    .dataframe tbody tr th {\n",
       "        vertical-align: top;\n",
       "    }\n",
       "\n",
       "    .dataframe thead th {\n",
       "        text-align: right;\n",
       "    }\n",
       "</style>\n",
       "<table border=\"1\" class=\"dataframe\">\n",
       "  <thead>\n",
       "    <tr style=\"text-align: right;\">\n",
       "      <th></th>\n",
       "      <th>Sex</th>\n",
       "      <th>Length</th>\n",
       "      <th>Diameter</th>\n",
       "      <th>Height</th>\n",
       "      <th>Whole weight</th>\n",
       "      <th>Shucked weight</th>\n",
       "      <th>Viscera weight</th>\n",
       "      <th>Shell weight</th>\n",
       "      <th>Rings</th>\n",
       "    </tr>\n",
       "  </thead>\n",
       "  <tbody>\n",
       "    <tr>\n",
       "      <th>0</th>\n",
       "      <td>2</td>\n",
       "      <td>0.455</td>\n",
       "      <td>0.365</td>\n",
       "      <td>0.095</td>\n",
       "      <td>0.5140</td>\n",
       "      <td>0.2245</td>\n",
       "      <td>0.1010</td>\n",
       "      <td>0.150</td>\n",
       "      <td>15.0</td>\n",
       "    </tr>\n",
       "    <tr>\n",
       "      <th>1</th>\n",
       "      <td>2</td>\n",
       "      <td>0.350</td>\n",
       "      <td>0.265</td>\n",
       "      <td>0.090</td>\n",
       "      <td>0.2255</td>\n",
       "      <td>0.0995</td>\n",
       "      <td>0.0485</td>\n",
       "      <td>0.070</td>\n",
       "      <td>7.0</td>\n",
       "    </tr>\n",
       "    <tr>\n",
       "      <th>2</th>\n",
       "      <td>0</td>\n",
       "      <td>0.530</td>\n",
       "      <td>0.420</td>\n",
       "      <td>0.135</td>\n",
       "      <td>0.6770</td>\n",
       "      <td>0.2565</td>\n",
       "      <td>0.1415</td>\n",
       "      <td>0.210</td>\n",
       "      <td>9.0</td>\n",
       "    </tr>\n",
       "    <tr>\n",
       "      <th>3</th>\n",
       "      <td>2</td>\n",
       "      <td>0.440</td>\n",
       "      <td>0.365</td>\n",
       "      <td>0.125</td>\n",
       "      <td>0.5160</td>\n",
       "      <td>0.2155</td>\n",
       "      <td>0.1140</td>\n",
       "      <td>0.155</td>\n",
       "      <td>10.0</td>\n",
       "    </tr>\n",
       "    <tr>\n",
       "      <th>4</th>\n",
       "      <td>1</td>\n",
       "      <td>0.330</td>\n",
       "      <td>0.255</td>\n",
       "      <td>0.080</td>\n",
       "      <td>0.2050</td>\n",
       "      <td>0.0895</td>\n",
       "      <td>0.0395</td>\n",
       "      <td>0.055</td>\n",
       "      <td>7.0</td>\n",
       "    </tr>\n",
       "  </tbody>\n",
       "</table>\n",
       "</div>"
      ],
      "text/plain": [
       "   Sex  Length  Diameter  Height  Whole weight  Shucked weight  \\\n",
       "0    2   0.455     0.365   0.095        0.5140          0.2245   \n",
       "1    2   0.350     0.265   0.090        0.2255          0.0995   \n",
       "2    0   0.530     0.420   0.135        0.6770          0.2565   \n",
       "3    2   0.440     0.365   0.125        0.5160          0.2155   \n",
       "4    1   0.330     0.255   0.080        0.2050          0.0895   \n",
       "\n",
       "   Viscera weight  Shell weight  Rings  \n",
       "0          0.1010         0.150   15.0  \n",
       "1          0.0485         0.070    7.0  \n",
       "2          0.1415         0.210    9.0  \n",
       "3          0.1140         0.155   10.0  \n",
       "4          0.0395         0.055    7.0  "
      ]
     },
     "execution_count": 233,
     "metadata": {},
     "output_type": "execute_result"
    }
   ],
   "source": [
    "df.head()"
   ]
  },
  {
   "cell_type": "markdown",
   "id": "cba628d1",
   "metadata": {},
   "source": [
    "#### Multicollinearity"
   ]
  },
  {
   "cell_type": "code",
   "execution_count": 361,
   "id": "53767710",
   "metadata": {},
   "outputs": [
    {
     "data": {
      "text/html": [
       "<div>\n",
       "<style scoped>\n",
       "    .dataframe tbody tr th:only-of-type {\n",
       "        vertical-align: middle;\n",
       "    }\n",
       "\n",
       "    .dataframe tbody tr th {\n",
       "        vertical-align: top;\n",
       "    }\n",
       "\n",
       "    .dataframe thead th {\n",
       "        text-align: right;\n",
       "    }\n",
       "</style>\n",
       "<table border=\"1\" class=\"dataframe\">\n",
       "  <thead>\n",
       "    <tr style=\"text-align: right;\">\n",
       "      <th></th>\n",
       "      <th>Variables</th>\n",
       "      <th>VIF Factor</th>\n",
       "    </tr>\n",
       "  </thead>\n",
       "  <tbody>\n",
       "    <tr>\n",
       "      <th>0</th>\n",
       "      <td>Sex</td>\n",
       "      <td>2.563825</td>\n",
       "    </tr>\n",
       "    <tr>\n",
       "      <th>1</th>\n",
       "      <td>Length</td>\n",
       "      <td>702.347884</td>\n",
       "    </tr>\n",
       "    <tr>\n",
       "      <th>2</th>\n",
       "      <td>Diameter</td>\n",
       "      <td>755.416018</td>\n",
       "    </tr>\n",
       "    <tr>\n",
       "      <th>3</th>\n",
       "      <td>Height</td>\n",
       "      <td>43.004758</td>\n",
       "    </tr>\n",
       "    <tr>\n",
       "      <th>4</th>\n",
       "      <td>Whole weight</td>\n",
       "      <td>436.141083</td>\n",
       "    </tr>\n",
       "    <tr>\n",
       "      <th>5</th>\n",
       "      <td>Shucked weight</td>\n",
       "      <td>117.686245</td>\n",
       "    </tr>\n",
       "    <tr>\n",
       "      <th>6</th>\n",
       "      <td>Viscera weight</td>\n",
       "      <td>64.740171</td>\n",
       "    </tr>\n",
       "    <tr>\n",
       "      <th>7</th>\n",
       "      <td>Shell weight</td>\n",
       "      <td>82.562895</td>\n",
       "    </tr>\n",
       "    <tr>\n",
       "      <th>8</th>\n",
       "      <td>Rings</td>\n",
       "      <td>21.652131</td>\n",
       "    </tr>\n",
       "  </tbody>\n",
       "</table>\n",
       "</div>"
      ],
      "text/plain": [
       "        Variables  VIF Factor\n",
       "0             Sex    2.563825\n",
       "1          Length  702.347884\n",
       "2        Diameter  755.416018\n",
       "3          Height   43.004758\n",
       "4    Whole weight  436.141083\n",
       "5  Shucked weight  117.686245\n",
       "6  Viscera weight   64.740171\n",
       "7    Shell weight   82.562895\n",
       "8           Rings   21.652131"
      ]
     },
     "execution_count": 361,
     "metadata": {},
     "output_type": "execute_result"
    }
   ],
   "source": [
    "from statsmodels.stats.outliers_influence import variance_inflation_factor\n",
    "\n",
    "VIF = pd.DataFrame()\n",
    "VIF['Variables'] = df.columns\n",
    "VIF['VIF Factor'] = [variance_inflation_factor(df.values,i) for i in range(df.shape[1])]\n",
    "VIF"
   ]
  },
  {
   "cell_type": "markdown",
   "id": "18694db4",
   "metadata": {},
   "source": [
    "#### Removing outliers using zscore"
   ]
  },
  {
   "cell_type": "code",
   "execution_count": 235,
   "id": "ac6088d6",
   "metadata": {},
   "outputs": [
    {
     "data": {
      "text/html": [
       "<div>\n",
       "<style scoped>\n",
       "    .dataframe tbody tr th:only-of-type {\n",
       "        vertical-align: middle;\n",
       "    }\n",
       "\n",
       "    .dataframe tbody tr th {\n",
       "        vertical-align: top;\n",
       "    }\n",
       "\n",
       "    .dataframe thead th {\n",
       "        text-align: right;\n",
       "    }\n",
       "</style>\n",
       "<table border=\"1\" class=\"dataframe\">\n",
       "  <thead>\n",
       "    <tr style=\"text-align: right;\">\n",
       "      <th></th>\n",
       "      <th>Sex</th>\n",
       "      <th>Length</th>\n",
       "      <th>Diameter</th>\n",
       "      <th>Height</th>\n",
       "      <th>Whole weight</th>\n",
       "      <th>Shucked weight</th>\n",
       "      <th>Viscera weight</th>\n",
       "      <th>Shell weight</th>\n",
       "      <th>Rings</th>\n",
       "    </tr>\n",
       "  </thead>\n",
       "  <tbody>\n",
       "    <tr>\n",
       "      <th>0</th>\n",
       "      <td>1.151980</td>\n",
       "      <td>0.574558</td>\n",
       "      <td>0.432149</td>\n",
       "      <td>1.064424</td>\n",
       "      <td>0.641898</td>\n",
       "      <td>0.607685</td>\n",
       "      <td>0.726212</td>\n",
       "      <td>0.638217</td>\n",
       "      <td>1.571544</td>\n",
       "    </tr>\n",
       "    <tr>\n",
       "      <th>1</th>\n",
       "      <td>1.151980</td>\n",
       "      <td>1.448986</td>\n",
       "      <td>1.439929</td>\n",
       "      <td>1.183978</td>\n",
       "      <td>1.230277</td>\n",
       "      <td>1.170910</td>\n",
       "      <td>1.205221</td>\n",
       "      <td>1.212987</td>\n",
       "      <td>0.910013</td>\n",
       "    </tr>\n",
       "    <tr>\n",
       "      <th>2</th>\n",
       "      <td>1.280690</td>\n",
       "      <td>0.050033</td>\n",
       "      <td>0.122130</td>\n",
       "      <td>0.107991</td>\n",
       "      <td>0.309469</td>\n",
       "      <td>0.463500</td>\n",
       "      <td>0.356690</td>\n",
       "      <td>0.207139</td>\n",
       "      <td>0.289624</td>\n",
       "    </tr>\n",
       "    <tr>\n",
       "      <th>3</th>\n",
       "      <td>1.151980</td>\n",
       "      <td>0.699476</td>\n",
       "      <td>0.432149</td>\n",
       "      <td>0.347099</td>\n",
       "      <td>0.637819</td>\n",
       "      <td>0.648238</td>\n",
       "      <td>0.607600</td>\n",
       "      <td>0.602294</td>\n",
       "      <td>0.020571</td>\n",
       "    </tr>\n",
       "    <tr>\n",
       "      <th>4</th>\n",
       "      <td>0.064355</td>\n",
       "      <td>1.615544</td>\n",
       "      <td>1.540707</td>\n",
       "      <td>1.423087</td>\n",
       "      <td>1.272086</td>\n",
       "      <td>1.215968</td>\n",
       "      <td>1.287337</td>\n",
       "      <td>1.320757</td>\n",
       "      <td>0.910013</td>\n",
       "    </tr>\n",
       "    <tr>\n",
       "      <th>...</th>\n",
       "      <td>...</td>\n",
       "      <td>...</td>\n",
       "      <td>...</td>\n",
       "      <td>...</td>\n",
       "      <td>...</td>\n",
       "      <td>...</td>\n",
       "      <td>...</td>\n",
       "      <td>...</td>\n",
       "      <td>...</td>\n",
       "    </tr>\n",
       "    <tr>\n",
       "      <th>4172</th>\n",
       "      <td>1.280690</td>\n",
       "      <td>0.341509</td>\n",
       "      <td>0.424464</td>\n",
       "      <td>0.609334</td>\n",
       "      <td>0.118813</td>\n",
       "      <td>0.047908</td>\n",
       "      <td>0.532900</td>\n",
       "      <td>0.073062</td>\n",
       "      <td>0.330765</td>\n",
       "    </tr>\n",
       "    <tr>\n",
       "      <th>4173</th>\n",
       "      <td>1.151980</td>\n",
       "      <td>0.549706</td>\n",
       "      <td>0.323686</td>\n",
       "      <td>0.107991</td>\n",
       "      <td>0.279929</td>\n",
       "      <td>0.358808</td>\n",
       "      <td>0.309362</td>\n",
       "      <td>0.155685</td>\n",
       "      <td>0.020571</td>\n",
       "    </tr>\n",
       "    <tr>\n",
       "      <th>4174</th>\n",
       "      <td>1.151980</td>\n",
       "      <td>0.632985</td>\n",
       "      <td>0.676409</td>\n",
       "      <td>1.565767</td>\n",
       "      <td>0.708212</td>\n",
       "      <td>0.748559</td>\n",
       "      <td>0.975413</td>\n",
       "      <td>0.496955</td>\n",
       "      <td>0.289624</td>\n",
       "    </tr>\n",
       "    <tr>\n",
       "      <th>4175</th>\n",
       "      <td>1.280690</td>\n",
       "      <td>0.841182</td>\n",
       "      <td>0.777187</td>\n",
       "      <td>0.250672</td>\n",
       "      <td>0.541998</td>\n",
       "      <td>0.773341</td>\n",
       "      <td>0.733627</td>\n",
       "      <td>0.410739</td>\n",
       "      <td>0.020571</td>\n",
       "    </tr>\n",
       "    <tr>\n",
       "      <th>4176</th>\n",
       "      <td>1.151980</td>\n",
       "      <td>1.549052</td>\n",
       "      <td>1.482634</td>\n",
       "      <td>1.326659</td>\n",
       "      <td>2.283681</td>\n",
       "      <td>2.640993</td>\n",
       "      <td>1.787449</td>\n",
       "      <td>1.840481</td>\n",
       "      <td>0.640960</td>\n",
       "    </tr>\n",
       "  </tbody>\n",
       "</table>\n",
       "<p>4177 rows × 9 columns</p>\n",
       "</div>"
      ],
      "text/plain": [
       "           Sex    Length  Diameter    Height  Whole weight  Shucked weight  \\\n",
       "0     1.151980  0.574558  0.432149  1.064424      0.641898        0.607685   \n",
       "1     1.151980  1.448986  1.439929  1.183978      1.230277        1.170910   \n",
       "2     1.280690  0.050033  0.122130  0.107991      0.309469        0.463500   \n",
       "3     1.151980  0.699476  0.432149  0.347099      0.637819        0.648238   \n",
       "4     0.064355  1.615544  1.540707  1.423087      1.272086        1.215968   \n",
       "...        ...       ...       ...       ...           ...             ...   \n",
       "4172  1.280690  0.341509  0.424464  0.609334      0.118813        0.047908   \n",
       "4173  1.151980  0.549706  0.323686  0.107991      0.279929        0.358808   \n",
       "4174  1.151980  0.632985  0.676409  1.565767      0.708212        0.748559   \n",
       "4175  1.280690  0.841182  0.777187  0.250672      0.541998        0.773341   \n",
       "4176  1.151980  1.549052  1.482634  1.326659      2.283681        2.640993   \n",
       "\n",
       "      Viscera weight  Shell weight     Rings  \n",
       "0           0.726212      0.638217  1.571544  \n",
       "1           1.205221      1.212987  0.910013  \n",
       "2           0.356690      0.207139  0.289624  \n",
       "3           0.607600      0.602294  0.020571  \n",
       "4           1.287337      1.320757  0.910013  \n",
       "...              ...           ...       ...  \n",
       "4172        0.532900      0.073062  0.330765  \n",
       "4173        0.309362      0.155685  0.020571  \n",
       "4174        0.975413      0.496955  0.289624  \n",
       "4175        0.733627      0.410739  0.020571  \n",
       "4176        1.787449      1.840481  0.640960  \n",
       "\n",
       "[4177 rows x 9 columns]"
      ]
     },
     "execution_count": 235,
     "metadata": {},
     "output_type": "execute_result"
    }
   ],
   "source": [
    "#zscore\n",
    "\n",
    "z=np.abs(zscore(df))\n",
    "z"
   ]
  },
  {
   "cell_type": "code",
   "execution_count": 236,
   "id": "e5238959",
   "metadata": {},
   "outputs": [
    {
     "data": {
      "text/plain": [
       "(array([   6,    9,   32,   33,   43,   43,   44,   44,   72,   81,   83,\n",
       "         128,  129,  129,  148,  148,  149,  149,  157,  163,  163,  163,\n",
       "         164,  165,  165,  165,  165,  166,  166,  166,  167,  167,  168,\n",
       "         169,  170,  170,  181,  232,  236,  236,  236,  236,  237,  237,\n",
       "         237,  238,  238,  238,  239,  239,  256,  270,  275,  277,  277,\n",
       "         278,  293,  294,  305,  305,  306,  306,  306,  310,  312,  313,\n",
       "         314,  318,  321,  321,  334,  351,  355,  355,  355,  357,  358,\n",
       "         358,  358,  358,  360,  362,  365,  372,  372,  375,  375,  416,\n",
       "         417,  426,  427,  428,  429,  430,  431,  432,  433,  442,  449,\n",
       "         450,  463,  465,  465,  468,  469,  478,  480,  483,  497,  501,\n",
       "         520,  520,  523,  523,  525,  525,  526,  526,  530,  547,  547,\n",
       "         572,  582,  592,  593,  611,  611,  613,  621,  628,  642,  658,\n",
       "         660,  664,  672,  673,  674,  675,  678,  694,  694,  694,  696,\n",
       "         696,  718,  718,  719,  719,  719,  720,  720,  720,  734,  744,\n",
       "         746,  754,  756,  784,  784,  811,  882,  882,  882,  891,  891,\n",
       "         891,  892,  892,  898, 1048, 1048, 1048, 1051, 1051, 1051, 1052,\n",
       "        1052, 1052, 1052, 1053, 1053, 1054, 1054, 1055, 1055, 1056, 1056,\n",
       "        1145, 1174, 1193, 1193, 1193, 1197, 1199, 1199, 1199, 1200, 1202,\n",
       "        1203, 1204, 1204, 1204, 1205, 1206, 1206, 1206, 1207, 1207, 1207,\n",
       "        1207, 1208, 1209, 1209, 1209, 1210, 1257, 1411, 1417, 1417, 1417,\n",
       "        1417, 1418, 1418, 1419, 1422, 1422, 1422, 1423, 1425, 1425, 1425,\n",
       "        1426, 1426, 1427, 1427, 1427, 1427, 1428, 1428, 1428, 1429, 1429,\n",
       "        1523, 1525, 1527, 1527, 1528, 1528, 1530, 1531, 1747, 1748, 1749,\n",
       "        1750, 1750, 1752, 1753, 1754, 1754, 1756, 1756, 1756, 1757, 1759,\n",
       "        1759, 1759, 1760, 1761, 1761, 1761, 1762, 1762, 1762, 1762, 1763,\n",
       "        1763, 1763, 1763, 1821, 1821, 1823, 1823, 1823, 1824, 1824, 1980,\n",
       "        1982, 1982, 1985, 1985, 1985, 1986, 1986, 1987, 1987, 1987, 1988,\n",
       "        1988, 2051, 2087, 2088, 2088, 2088, 2090, 2090, 2101, 2107, 2108,\n",
       "        2108, 2108, 2114, 2114, 2115, 2115, 2151, 2157, 2160, 2160, 2161,\n",
       "        2161, 2161, 2162, 2169, 2169, 2169, 2171, 2171, 2171, 2172, 2172,\n",
       "        2172, 2176, 2179, 2180, 2193, 2199, 2201, 2202, 2203, 2208, 2209,\n",
       "        2210, 2210, 2265, 2265, 2270, 2274, 2275, 2277, 2305, 2334, 2334,\n",
       "        2334, 2334, 2334, 2335, 2336, 2343, 2343, 2344, 2351, 2352, 2358,\n",
       "        2362, 2363, 2366, 2368, 2371, 2371, 2380, 2380, 2381, 2381, 2381,\n",
       "        2416, 2418, 2431, 2436, 2458, 2458, 2459, 2471, 2476, 2499, 2542,\n",
       "        2544, 2545, 2545, 2623, 2623, 2623, 2623, 2624, 2624, 2624, 2625,\n",
       "        2625, 2625, 2626, 2675, 2700, 2709, 2710, 2710, 2710, 2711, 2711,\n",
       "        2711, 2712, 2712, 2810, 2810, 2810, 2811, 2811, 2811, 2862, 2862,\n",
       "        2862, 2863, 2863, 2863, 2970, 2970, 2971, 2972, 2972, 2972, 2973,\n",
       "        2973, 2973, 2974, 3007, 3007, 3008, 3008, 3080, 3081, 3082, 3082,\n",
       "        3082, 3140, 3141, 3141, 3142, 3143, 3143, 3148, 3149, 3149, 3151,\n",
       "        3151, 3166, 3188, 3188, 3190, 3190, 3190, 3193, 3195, 3222, 3237,\n",
       "        3244, 3259, 3274, 3279, 3280, 3301, 3318, 3318, 3319, 3359, 3360,\n",
       "        3373, 3380, 3380, 3381, 3387, 3392, 3396, 3401, 3427, 3427, 3427,\n",
       "        3469, 3472, 3472, 3473, 3473, 3521, 3521, 3599, 3599, 3599, 3600,\n",
       "        3600, 3627, 3628, 3713, 3713, 3715, 3715, 3715, 3715, 3716, 3797,\n",
       "        3800, 3800, 3801, 3801, 3837, 3837, 3863, 3865, 3899, 3899, 3902,\n",
       "        3902, 3902, 3914, 3918, 3924, 3928, 3930, 3944, 3961, 3961, 3961,\n",
       "        3962, 3962, 3993, 3993, 3993, 3994, 3994, 3996, 4104, 4145, 4148,\n",
       "        4176], dtype=int64),\n",
       " array([8, 8, 8, 8, 1, 2, 1, 2, 8, 7, 8, 8, 7, 8, 1, 2, 1, 2, 7, 4, 7, 8,\n",
       "        7, 4, 5, 6, 7, 4, 7, 8, 7, 8, 7, 7, 6, 7, 8, 8, 1, 2, 3, 8, 1, 2,\n",
       "        3, 1, 2, 3, 1, 2, 8, 8, 8, 7, 8, 8, 8, 8, 1, 2, 1, 2, 3, 8, 8, 8,\n",
       "        8, 8, 1, 2, 7, 8, 4, 6, 8, 8, 4, 5, 6, 7, 8, 8, 8, 7, 8, 7, 8, 8,\n",
       "        8, 8, 8, 8, 8, 8, 8, 8, 8, 8, 8, 6, 1, 1, 2, 7, 8, 8, 8, 8, 8, 8,\n",
       "        1, 2, 1, 2, 1, 2, 1, 2, 8, 1, 2, 8, 8, 8, 8, 1, 2, 8, 8, 8, 8, 8,\n",
       "        8, 8, 8, 8, 8, 8, 8, 1, 2, 3, 1, 2, 1, 2, 1, 2, 3, 1, 2, 3, 8, 8,\n",
       "        6, 8, 8, 1, 2, 8, 4, 5, 7, 4, 5, 7, 1, 2, 2, 4, 5, 6, 4, 5, 7, 4,\n",
       "        5, 6, 7, 1, 2, 1, 2, 1, 2, 1, 2, 5, 3, 4, 5, 7, 5, 4, 5, 6, 6, 5,\n",
       "        5, 4, 5, 6, 6, 4, 5, 6, 4, 5, 6, 7, 7, 4, 5, 6, 1, 3, 6, 3, 4, 5,\n",
       "        6, 4, 5, 5, 4, 5, 6, 7, 4, 5, 6, 4, 5, 4, 5, 6, 7, 3, 4, 7, 1, 2,\n",
       "        5, 7, 4, 5, 4, 5, 5, 1, 6, 6, 5, 5, 6, 5, 5, 4, 5, 4, 5, 6, 6, 4,\n",
       "        5, 6, 6, 4, 5, 7, 4, 5, 6, 7, 3, 4, 5, 6, 4, 5, 4, 5, 7, 1, 2, 5,\n",
       "        4, 5, 4, 6, 7, 1, 2, 1, 2, 3, 1, 2, 3, 5, 4, 6, 7, 6, 7, 8, 7, 4,\n",
       "        7, 8, 1, 2, 1, 2, 8, 7, 6, 8, 4, 6, 7, 6, 1, 2, 3, 1, 2, 3, 1, 2,\n",
       "        3, 8, 3, 8, 1, 8, 8, 8, 8, 7, 8, 7, 8, 4, 7, 8, 7, 8, 8, 8, 4, 5,\n",
       "        6, 7, 8, 8, 8, 1, 2, 8, 8, 8, 8, 8, 8, 8, 7, 1, 2, 1, 2, 1, 2, 3,\n",
       "        8, 8, 8, 8, 1, 2, 8, 8, 8, 8, 7, 5, 1, 2, 4, 5, 6, 7, 4, 5, 6, 4,\n",
       "        5, 6, 1, 5, 5, 6, 4, 5, 6, 1, 2, 3, 1, 2, 4, 5, 6, 4, 5, 6, 4, 5,\n",
       "        6, 4, 5, 6, 5, 6, 5, 4, 5, 6, 4, 6, 7, 5, 4, 5, 4, 7, 6, 7, 4, 5,\n",
       "        6, 8, 1, 2, 1, 1, 2, 7, 7, 8, 7, 8, 8, 4, 7, 1, 2, 3, 8, 8, 8, 8,\n",
       "        8, 8, 8, 8, 8, 6, 1, 2, 8, 8, 8, 8, 1, 2, 8, 8, 8, 8, 8, 4, 5, 6,\n",
       "        4, 1, 2, 1, 2, 1, 2, 4, 5, 7, 1, 2, 5, 6, 4, 5, 4, 5, 6, 7, 2, 6,\n",
       "        4, 6, 1, 2, 1, 2, 8, 8, 1, 2, 1, 2, 3, 8, 8, 8, 7, 8, 8, 4, 5, 6,\n",
       "        4, 5, 4, 5, 7, 1, 2, 3, 6, 7, 6, 5], dtype=int64))"
      ]
     },
     "execution_count": 236,
     "metadata": {},
     "output_type": "execute_result"
    }
   ],
   "source": [
    "np.where(z>2.5)"
   ]
  },
  {
   "cell_type": "code",
   "execution_count": 237,
   "id": "567d0d7c",
   "metadata": {},
   "outputs": [
    {
     "data": {
      "text/html": [
       "<div>\n",
       "<style scoped>\n",
       "    .dataframe tbody tr th:only-of-type {\n",
       "        vertical-align: middle;\n",
       "    }\n",
       "\n",
       "    .dataframe tbody tr th {\n",
       "        vertical-align: top;\n",
       "    }\n",
       "\n",
       "    .dataframe thead th {\n",
       "        text-align: right;\n",
       "    }\n",
       "</style>\n",
       "<table border=\"1\" class=\"dataframe\">\n",
       "  <thead>\n",
       "    <tr style=\"text-align: right;\">\n",
       "      <th></th>\n",
       "      <th>Sex</th>\n",
       "      <th>Length</th>\n",
       "      <th>Diameter</th>\n",
       "      <th>Height</th>\n",
       "      <th>Whole weight</th>\n",
       "      <th>Shucked weight</th>\n",
       "      <th>Viscera weight</th>\n",
       "      <th>Shell weight</th>\n",
       "      <th>Rings</th>\n",
       "    </tr>\n",
       "  </thead>\n",
       "  <tbody>\n",
       "    <tr>\n",
       "      <th>0</th>\n",
       "      <td>2</td>\n",
       "      <td>0.455</td>\n",
       "      <td>0.365</td>\n",
       "      <td>0.095</td>\n",
       "      <td>0.5140</td>\n",
       "      <td>0.2245</td>\n",
       "      <td>0.1010</td>\n",
       "      <td>0.1500</td>\n",
       "      <td>15.0</td>\n",
       "    </tr>\n",
       "    <tr>\n",
       "      <th>1</th>\n",
       "      <td>2</td>\n",
       "      <td>0.350</td>\n",
       "      <td>0.265</td>\n",
       "      <td>0.090</td>\n",
       "      <td>0.2255</td>\n",
       "      <td>0.0995</td>\n",
       "      <td>0.0485</td>\n",
       "      <td>0.0700</td>\n",
       "      <td>7.0</td>\n",
       "    </tr>\n",
       "    <tr>\n",
       "      <th>2</th>\n",
       "      <td>0</td>\n",
       "      <td>0.530</td>\n",
       "      <td>0.420</td>\n",
       "      <td>0.135</td>\n",
       "      <td>0.6770</td>\n",
       "      <td>0.2565</td>\n",
       "      <td>0.1415</td>\n",
       "      <td>0.2100</td>\n",
       "      <td>9.0</td>\n",
       "    </tr>\n",
       "    <tr>\n",
       "      <th>3</th>\n",
       "      <td>2</td>\n",
       "      <td>0.440</td>\n",
       "      <td>0.365</td>\n",
       "      <td>0.125</td>\n",
       "      <td>0.5160</td>\n",
       "      <td>0.2155</td>\n",
       "      <td>0.1140</td>\n",
       "      <td>0.1550</td>\n",
       "      <td>10.0</td>\n",
       "    </tr>\n",
       "    <tr>\n",
       "      <th>4</th>\n",
       "      <td>1</td>\n",
       "      <td>0.330</td>\n",
       "      <td>0.255</td>\n",
       "      <td>0.080</td>\n",
       "      <td>0.2050</td>\n",
       "      <td>0.0895</td>\n",
       "      <td>0.0395</td>\n",
       "      <td>0.0550</td>\n",
       "      <td>7.0</td>\n",
       "    </tr>\n",
       "    <tr>\n",
       "      <th>...</th>\n",
       "      <td>...</td>\n",
       "      <td>...</td>\n",
       "      <td>...</td>\n",
       "      <td>...</td>\n",
       "      <td>...</td>\n",
       "      <td>...</td>\n",
       "      <td>...</td>\n",
       "      <td>...</td>\n",
       "      <td>...</td>\n",
       "    </tr>\n",
       "    <tr>\n",
       "      <th>4171</th>\n",
       "      <td>2</td>\n",
       "      <td>0.560</td>\n",
       "      <td>0.430</td>\n",
       "      <td>0.155</td>\n",
       "      <td>0.8675</td>\n",
       "      <td>0.4000</td>\n",
       "      <td>0.1720</td>\n",
       "      <td>0.2290</td>\n",
       "      <td>8.0</td>\n",
       "    </tr>\n",
       "    <tr>\n",
       "      <th>4172</th>\n",
       "      <td>0</td>\n",
       "      <td>0.565</td>\n",
       "      <td>0.450</td>\n",
       "      <td>0.165</td>\n",
       "      <td>0.8870</td>\n",
       "      <td>0.3700</td>\n",
       "      <td>0.2390</td>\n",
       "      <td>0.2490</td>\n",
       "      <td>11.0</td>\n",
       "    </tr>\n",
       "    <tr>\n",
       "      <th>4173</th>\n",
       "      <td>2</td>\n",
       "      <td>0.590</td>\n",
       "      <td>0.440</td>\n",
       "      <td>0.135</td>\n",
       "      <td>0.9660</td>\n",
       "      <td>0.4390</td>\n",
       "      <td>0.2145</td>\n",
       "      <td>0.2605</td>\n",
       "      <td>10.0</td>\n",
       "    </tr>\n",
       "    <tr>\n",
       "      <th>4174</th>\n",
       "      <td>2</td>\n",
       "      <td>0.600</td>\n",
       "      <td>0.475</td>\n",
       "      <td>0.205</td>\n",
       "      <td>1.1760</td>\n",
       "      <td>0.5255</td>\n",
       "      <td>0.2875</td>\n",
       "      <td>0.3080</td>\n",
       "      <td>9.0</td>\n",
       "    </tr>\n",
       "    <tr>\n",
       "      <th>4175</th>\n",
       "      <td>0</td>\n",
       "      <td>0.625</td>\n",
       "      <td>0.485</td>\n",
       "      <td>0.150</td>\n",
       "      <td>1.0945</td>\n",
       "      <td>0.5310</td>\n",
       "      <td>0.2610</td>\n",
       "      <td>0.2960</td>\n",
       "      <td>10.0</td>\n",
       "    </tr>\n",
       "  </tbody>\n",
       "</table>\n",
       "<p>3849 rows × 9 columns</p>\n",
       "</div>"
      ],
      "text/plain": [
       "      Sex  Length  Diameter  Height  Whole weight  Shucked weight  \\\n",
       "0       2   0.455     0.365   0.095        0.5140          0.2245   \n",
       "1       2   0.350     0.265   0.090        0.2255          0.0995   \n",
       "2       0   0.530     0.420   0.135        0.6770          0.2565   \n",
       "3       2   0.440     0.365   0.125        0.5160          0.2155   \n",
       "4       1   0.330     0.255   0.080        0.2050          0.0895   \n",
       "...   ...     ...       ...     ...           ...             ...   \n",
       "4171    2   0.560     0.430   0.155        0.8675          0.4000   \n",
       "4172    0   0.565     0.450   0.165        0.8870          0.3700   \n",
       "4173    2   0.590     0.440   0.135        0.9660          0.4390   \n",
       "4174    2   0.600     0.475   0.205        1.1760          0.5255   \n",
       "4175    0   0.625     0.485   0.150        1.0945          0.5310   \n",
       "\n",
       "      Viscera weight  Shell weight  Rings  \n",
       "0             0.1010        0.1500   15.0  \n",
       "1             0.0485        0.0700    7.0  \n",
       "2             0.1415        0.2100    9.0  \n",
       "3             0.1140        0.1550   10.0  \n",
       "4             0.0395        0.0550    7.0  \n",
       "...              ...           ...    ...  \n",
       "4171          0.1720        0.2290    8.0  \n",
       "4172          0.2390        0.2490   11.0  \n",
       "4173          0.2145        0.2605   10.0  \n",
       "4174          0.2875        0.3080    9.0  \n",
       "4175          0.2610        0.2960   10.0  \n",
       "\n",
       "[3849 rows x 9 columns]"
      ]
     },
     "execution_count": 237,
     "metadata": {},
     "output_type": "execute_result"
    }
   ],
   "source": [
    "df_new = df[(z<2.5).all(axis=1)]\n",
    "df_new"
   ]
  },
  {
   "cell_type": "code",
   "execution_count": 238,
   "id": "cb740085",
   "metadata": {},
   "outputs": [
    {
     "name": "stdout",
     "output_type": "stream",
     "text": [
      "Percentage of data loss = 7.852525736174288 %\n"
     ]
    }
   ],
   "source": [
    "print (\"Percentage of data loss =\",(df.shape[0]-df_new.shape[0])/df.shape[0]*100,'%')"
   ]
  },
  {
   "cell_type": "code",
   "execution_count": 239,
   "id": "16157d77",
   "metadata": {},
   "outputs": [
    {
     "data": {
      "image/png": "[encoded data removed]",
      "text/plain": [
       "<Figure size 1440x1440 with 9 Axes>"
      ]
     },
     "metadata": {
      "needs_background": "light"
     },
     "output_type": "display_data"
    }
   ],
   "source": [
    "#looking at outliers after using zscore method\n",
    "\n",
    "collist=df_new.columns.values\n",
    "ncol=8\n",
    "nrow=3\n",
    "\n",
    "plt.figure(figsize=(20,20))\n",
    "for i in range(0,len(collist)):\n",
    "    plt.subplot(nrow,ncol,i+1)\n",
    "    sns.boxplot(data=df_new[collist[i]],color='#F3E0B5')\n",
    "    plt.title(df_new.columns[i])\n",
    "    plt.tight_layout()"
   ]
  },
  {
   "cell_type": "raw",
   "id": "1d6b24b4",
   "metadata": {},
   "source": [
    "- outliers can be seen to have been completely removed"
   ]
  },
  {
   "cell_type": "markdown",
   "id": "e7d88fbe",
   "metadata": {},
   "source": [
    "#### Seperating into X & Y"
   ]
  },
  {
   "cell_type": "code",
   "execution_count": 247,
   "id": "d054421c",
   "metadata": {},
   "outputs": [],
   "source": [
    "x = df_new.drop('Rings',axis=1)\n",
    "y = df_new['Rings']"
   ]
  },
  {
   "cell_type": "markdown",
   "id": "75cf7460",
   "metadata": {},
   "source": [
    "#### Reducing Skewness using PowerTransform"
   ]
  },
  {
   "cell_type": "code",
   "execution_count": 282,
   "id": "51e6d6d4",
   "metadata": {},
   "outputs": [
    {
     "data": {
      "text/html": [
       "<div>\n",
       "<style scoped>\n",
       "    .dataframe tbody tr th:only-of-type {\n",
       "        vertical-align: middle;\n",
       "    }\n",
       "\n",
       "    .dataframe tbody tr th {\n",
       "        vertical-align: top;\n",
       "    }\n",
       "\n",
       "    .dataframe thead th {\n",
       "        text-align: right;\n",
       "    }\n",
       "</style>\n",
       "<table border=\"1\" class=\"dataframe\">\n",
       "  <thead>\n",
       "    <tr style=\"text-align: right;\">\n",
       "      <th></th>\n",
       "      <th>Before PowerTransform</th>\n",
       "    </tr>\n",
       "  </thead>\n",
       "  <tbody>\n",
       "    <tr>\n",
       "      <th>Sex</th>\n",
       "      <td>-0.098155</td>\n",
       "    </tr>\n",
       "    <tr>\n",
       "      <th>Length</th>\n",
       "      <td>-0.639873</td>\n",
       "    </tr>\n",
       "    <tr>\n",
       "      <th>Diameter</th>\n",
       "      <td>-0.609198</td>\n",
       "    </tr>\n",
       "    <tr>\n",
       "      <th>Height</th>\n",
       "      <td>3.128817</td>\n",
       "    </tr>\n",
       "    <tr>\n",
       "      <th>Whole weight</th>\n",
       "      <td>0.530959</td>\n",
       "    </tr>\n",
       "    <tr>\n",
       "      <th>Shucked weight</th>\n",
       "      <td>0.719098</td>\n",
       "    </tr>\n",
       "    <tr>\n",
       "      <th>Viscera weight</th>\n",
       "      <td>0.591852</td>\n",
       "    </tr>\n",
       "    <tr>\n",
       "      <th>Shell weight</th>\n",
       "      <td>0.620927</td>\n",
       "    </tr>\n",
       "    <tr>\n",
       "      <th>Rings</th>\n",
       "      <td>1.114102</td>\n",
       "    </tr>\n",
       "  </tbody>\n",
       "</table>\n",
       "</div>"
      ],
      "text/plain": [
       "                Before PowerTransform\n",
       "Sex                         -0.098155\n",
       "Length                      -0.639873\n",
       "Diameter                    -0.609198\n",
       "Height                       3.128817\n",
       "Whole weight                 0.530959\n",
       "Shucked weight               0.719098\n",
       "Viscera weight               0.591852\n",
       "Shell weight                 0.620927\n",
       "Rings                        1.114102"
      ]
     },
     "execution_count": 282,
     "metadata": {},
     "output_type": "execute_result"
    }
   ],
   "source": [
    "#skewness before powertransform\n",
    "PT = pd.DataFrame({'Before PowerTransform':df.skew()})\n",
    "PT"
   ]
  },
  {
   "cell_type": "code",
   "execution_count": 248,
   "id": "0d6deb77",
   "metadata": {},
   "outputs": [
    {
     "data": {
      "text/plain": [
       "array([[ 1.1355971 , -0.70476523, -0.55385586, ..., -0.55329675,\n",
       "        -0.70278282, -0.59690198],\n",
       "       [ 1.1355971 , -1.4748913 , -1.46069857, ..., -1.34733999,\n",
       "        -1.36816825, -1.37025055],\n",
       "       [-1.31495868, -0.03437248,  0.05413031, ..., -0.36902736,\n",
       "        -0.23878038, -0.06874257],\n",
       "       ...,\n",
       "       [ 1.1355971 ,  0.58314914,  0.29654693, ...,  0.56332051,\n",
       "         0.50565185,  0.34577693],\n",
       "       [ 1.1355971 ,  0.69358241,  0.7499521 , ...,  0.94646164,\n",
       "         1.15092079,  0.71320287],\n",
       "       [-1.31495868,  0.97947564,  0.8865735 , ...,  0.96973656,\n",
       "         0.92692643,  0.62232046]])"
      ]
     },
     "execution_count": 248,
     "metadata": {},
     "output_type": "execute_result"
    }
   ],
   "source": [
    "#PowerTransform\n",
    "from sklearn.preprocessing import power_transform\n",
    "\n",
    "x = power_transform(x, method='yeo-johnson')\n",
    "x"
   ]
  },
  {
   "cell_type": "code",
   "execution_count": 283,
   "id": "a9d39239",
   "metadata": {},
   "outputs": [
    {
     "data": {
      "text/html": [
       "<div>\n",
       "<style scoped>\n",
       "    .dataframe tbody tr th:only-of-type {\n",
       "        vertical-align: middle;\n",
       "    }\n",
       "\n",
       "    .dataframe tbody tr th {\n",
       "        vertical-align: top;\n",
       "    }\n",
       "\n",
       "    .dataframe thead th {\n",
       "        text-align: right;\n",
       "    }\n",
       "</style>\n",
       "<table border=\"1\" class=\"dataframe\">\n",
       "  <thead>\n",
       "    <tr style=\"text-align: right;\">\n",
       "      <th></th>\n",
       "      <th>Before PowerTransform</th>\n",
       "      <th>After Power Transform</th>\n",
       "    </tr>\n",
       "  </thead>\n",
       "  <tbody>\n",
       "    <tr>\n",
       "      <th>Length</th>\n",
       "      <td>-0.639873</td>\n",
       "      <td>-0.084795</td>\n",
       "    </tr>\n",
       "    <tr>\n",
       "      <th>Diameter</th>\n",
       "      <td>-0.609198</td>\n",
       "      <td>-0.080969</td>\n",
       "    </tr>\n",
       "    <tr>\n",
       "      <th>Height</th>\n",
       "      <td>3.128817</td>\n",
       "      <td>-0.015935</td>\n",
       "    </tr>\n",
       "    <tr>\n",
       "      <th>Whole weight</th>\n",
       "      <td>0.530959</td>\n",
       "      <td>-0.020508</td>\n",
       "    </tr>\n",
       "    <tr>\n",
       "      <th>Shucked weight</th>\n",
       "      <td>0.719098</td>\n",
       "      <td>0.020713</td>\n",
       "    </tr>\n",
       "    <tr>\n",
       "      <th>Viscera weight</th>\n",
       "      <td>0.591852</td>\n",
       "      <td>0.034355</td>\n",
       "    </tr>\n",
       "    <tr>\n",
       "      <th>Shell weight</th>\n",
       "      <td>0.620927</td>\n",
       "      <td>0.014561</td>\n",
       "    </tr>\n",
       "  </tbody>\n",
       "</table>\n",
       "</div>"
      ],
      "text/plain": [
       "                Before PowerTransform  After Power Transform\n",
       "Length                      -0.639873              -0.084795\n",
       "Diameter                    -0.609198              -0.080969\n",
       "Height                       3.128817              -0.015935\n",
       "Whole weight                 0.530959              -0.020508\n",
       "Shucked weight               0.719098               0.020713\n",
       "Viscera weight               0.591852               0.034355\n",
       "Shell weight                 0.620927               0.014561"
      ]
     },
     "execution_count": 283,
     "metadata": {},
     "output_type": "execute_result"
    }
   ],
   "source": [
    "#creating a dataframe to store the x data\n",
    "temp_x = pd.DataFrame(x,columns=['Sex', 'Length', 'Diameter', 'Height', 'Whole weight', 'Shucked weight',\n",
    "                                   'Viscera weight', 'Shell weight'])\n",
    "aPT = pd.DataFrame({'After Power Transform':temp_x.skew()})\n",
    "PT = pd.concat([PT[1:8],aPT[1:8]],axis=1)\n",
    "PT"
   ]
  },
  {
   "cell_type": "raw",
   "id": "e23b7fa6",
   "metadata": {},
   "source": [
    "Appying power transform has reduced the skewness"
   ]
  },
  {
   "cell_type": "code",
   "execution_count": 285,
   "id": "00fe28ff",
   "metadata": {},
   "outputs": [
    {
     "name": "stdout",
     "output_type": "stream",
     "text": [
      "The mean is 1.015324771805807e-17\n",
      "The STD is 1.0\n"
     ]
    }
   ],
   "source": [
    "print(\"The mean is\",x.mean())\n",
    "print(\"The STD is\",x.std()) "
   ]
  },
  {
   "cell_type": "raw",
   "id": "7e81e564",
   "metadata": {},
   "source": [
    "Mean and STD is already 0 and 1 respectively.\n",
    "StandardScaler is not required."
   ]
  },
  {
   "cell_type": "code",
   "execution_count": 370,
   "id": "b4244dec",
   "metadata": {},
   "outputs": [
    {
     "data": {
      "text/html": [
       "<div>\n",
       "<style scoped>\n",
       "    .dataframe tbody tr th:only-of-type {\n",
       "        vertical-align: middle;\n",
       "    }\n",
       "\n",
       "    .dataframe tbody tr th {\n",
       "        vertical-align: top;\n",
       "    }\n",
       "\n",
       "    .dataframe thead th {\n",
       "        text-align: right;\n",
       "    }\n",
       "</style>\n",
       "<table border=\"1\" class=\"dataframe\">\n",
       "  <thead>\n",
       "    <tr style=\"text-align: right;\">\n",
       "      <th></th>\n",
       "      <th>Variables</th>\n",
       "      <th>VIF Factor</th>\n",
       "      <th>VIF Factor after PT</th>\n",
       "    </tr>\n",
       "  </thead>\n",
       "  <tbody>\n",
       "    <tr>\n",
       "      <th>0</th>\n",
       "      <td>Sex</td>\n",
       "      <td>2.563825</td>\n",
       "      <td>1.011234</td>\n",
       "    </tr>\n",
       "    <tr>\n",
       "      <th>1</th>\n",
       "      <td>Length</td>\n",
       "      <td>702.347884</td>\n",
       "      <td>33.573832</td>\n",
       "    </tr>\n",
       "    <tr>\n",
       "      <th>2</th>\n",
       "      <td>Diameter</td>\n",
       "      <td>755.416018</td>\n",
       "      <td>32.226714</td>\n",
       "    </tr>\n",
       "    <tr>\n",
       "      <th>3</th>\n",
       "      <td>Height</td>\n",
       "      <td>43.004758</td>\n",
       "      <td>6.246685</td>\n",
       "    </tr>\n",
       "    <tr>\n",
       "      <th>4</th>\n",
       "      <td>Whole weight</td>\n",
       "      <td>436.141083</td>\n",
       "      <td>128.244496</td>\n",
       "    </tr>\n",
       "    <tr>\n",
       "      <th>5</th>\n",
       "      <td>Shucked weight</td>\n",
       "      <td>117.686245</td>\n",
       "      <td>34.942979</td>\n",
       "    </tr>\n",
       "    <tr>\n",
       "      <th>6</th>\n",
       "      <td>Viscera weight</td>\n",
       "      <td>64.740171</td>\n",
       "      <td>20.682086</td>\n",
       "    </tr>\n",
       "    <tr>\n",
       "      <th>7</th>\n",
       "      <td>Shell weight</td>\n",
       "      <td>82.562895</td>\n",
       "      <td>27.913510</td>\n",
       "    </tr>\n",
       "  </tbody>\n",
       "</table>\n",
       "</div>"
      ],
      "text/plain": [
       "        Variables  VIF Factor  VIF Factor after PT\n",
       "0             Sex    2.563825             1.011234\n",
       "1          Length  702.347884            33.573832\n",
       "2        Diameter  755.416018            32.226714\n",
       "3          Height   43.004758             6.246685\n",
       "4    Whole weight  436.141083           128.244496\n",
       "5  Shucked weight  117.686245            34.942979\n",
       "6  Viscera weight   64.740171            20.682086\n",
       "7    Shell weight   82.562895            27.913510"
      ]
     },
     "execution_count": 370,
     "metadata": {},
     "output_type": "execute_result"
    }
   ],
   "source": [
    "#checking VIF after PowerTransform\n",
    "VIF_aPT = pd.DataFrame()\n",
    "VIF_aPT['VIF Factor after PT'] = [variance_inflation_factor(temp_x.values,i) for i in range(temp_x.shape[1])]\n",
    "merged_VIF = pd.concat([VIF[0:8],VIF_aPT],axis=1)"
   ]
  },
  {
   "cell_type": "markdown",
   "id": "c776a4f5",
   "metadata": {},
   "source": [
    "#### Model Building"
   ]
  },
  {
   "cell_type": "code",
   "execution_count": 286,
   "id": "27749532",
   "metadata": {},
   "outputs": [],
   "source": [
    "x_train,x_test,y_train,y_test = train_test_split(x,y,test_size=0.2)"
   ]
  },
  {
   "cell_type": "code",
   "execution_count": 290,
   "id": "8bc284a9",
   "metadata": {},
   "outputs": [
    {
     "data": {
      "text/plain": [
       "{'C': 1, 'penalty': 'none', 'random_state': 1, 'solver': 'sag'}"
      ]
     },
     "execution_count": 290,
     "metadata": {},
     "output_type": "execute_result"
    }
   ],
   "source": [
    "#LogisticRegression\n",
    "from sklearn.linear_model import LogisticRegression\n",
    "\n",
    "lg = LogisticRegression()\n",
    "lg_para = {'C':[1,10],'penalty':['l1','l2','elasticnet','none'],'random_state':[1,51],'solver':['newton-cg','lbfgs','liblinear','sag','saga']}\n",
    "gsCV_lg = GridSearchCV(lg,lg_para)\n",
    "gsCV_lg.fit(x_train,y_train)\n",
    "gsCV_lg.best_params_"
   ]
  },
  {
   "cell_type": "code",
   "execution_count": 327,
   "id": "52e6828e",
   "metadata": {},
   "outputs": [
    {
     "name": "stdout",
     "output_type": "stream",
     "text": [
      "LogisticR R2 Score: 37.86 %\n",
      "LogisticR MSE: 4.127272727272727\n",
      "LogisticR MAE: 1.4337662337662338\n",
      "LogisticR Root MSE: 2.031569030890343\n"
     ]
    }
   ],
   "source": [
    "lg = LogisticRegression(C=1,penalty='none',random_state=1,solver='sag')\n",
    "lg.fit(x_train,y_train)\n",
    "lg_pred = lg.predict(x_test)\n",
    "#lg_score = accuracy_score(y_test,lg_pred)\n",
    "lg_r2 = r2_score(y_test,lg_pred)\n",
    "lg_mse = mean_squared_error(y_test,lg_pred)\n",
    "lg_rmse = mean_squared_error(y_test,lg_pred,squared=False)\n",
    "lg_mae = mean_absolute_error(y_test,lg_pred)\n",
    "#print(\"Logistic Regression score:\",round(lg_score*100,2),'%')\n",
    "print(\"LogisticR R2 Score:\",round(lg_r2*100,2),'%')\n",
    "print(\"LogisticR MSE:\",lg_mse)\n",
    "print(\"LogisticR MAE:\",lg_mae)\n",
    "print(\"LogisticR Root MSE:\",lg_rmse)"
   ]
  },
  {
   "cell_type": "code",
   "execution_count": 309,
   "id": "1831a98f",
   "metadata": {},
   "outputs": [
    {
     "name": "stdout",
     "output_type": "stream",
     "text": [
      "r2 Score: 46.35 %\n",
      "Mean Absolute Error: 1.4268374104137371\n",
      "Mean Squared Error: 3.563453102702629\n",
      "Root Mean Squared Error: 1.8877110750066148\n"
     ]
    }
   ],
   "source": [
    "#LinearRegression() \n",
    "\n",
    "lreg = LinearRegression()\n",
    "lreg.fit(x_train,y_train)\n",
    "lreg_pred = lreg.predict(x_test)\n",
    "lreg_r2 = r2_score(y_test,lreg_pred)\n",
    "lreg_mae = mean_absolute_error(y_test,lreg_pred)\n",
    "lreg_mse = mean_squared_error(y_test,lreg_pred)\n",
    "lreg_rmse = mean_squared_error(y_test,lreg_pred,squared=False)\n",
    "print (\"r2 Score:\",round(lreg_r2*100,2),'%')\n",
    "print (\"Mean Absolute Error:\",lreg_mae)\n",
    "print (\"Mean Squared Error:\",lreg_mse)\n",
    "print (\"Root Mean Squared Error:\",lreg_rmse)"
   ]
  },
  {
   "cell_type": "code",
   "execution_count": 312,
   "id": "d9dd6704",
   "metadata": {},
   "outputs": [
    {
     "data": {
      "text/plain": [
       "{'criterion': 'poisson', 'n_estimators': 100, 'random_state': 50}"
      ]
     },
     "execution_count": 312,
     "metadata": {},
     "output_type": "execute_result"
    }
   ],
   "source": [
    "#RandomForestRegressor\n",
    "\n",
    "rfr = RandomForestRegressor()\n",
    "rfr_para = {'n_estimators':range(0,250,50),'criterion':['squared_error','absolute_error','poisson'],'random_state':[1,50]}\n",
    "gsCV_rfr = GridSearchCV(rfr,rfr_para)\n",
    "gsCV_rfr.fit(x_train,y_train)\n",
    "gsCV_rfr.best_params_"
   ]
  },
  {
   "cell_type": "code",
   "execution_count": 315,
   "id": "d61b74fc",
   "metadata": {},
   "outputs": [
    {
     "name": "stdout",
     "output_type": "stream",
     "text": [
      "r2 Score: 39.85 %\n",
      "Mean Absolute Error: 1.4886363636363635\n",
      "Mean Squared Error: 3.9946422077922077\n",
      "Root Mean Squared Error: 1.9986601031171378\n"
     ]
    }
   ],
   "source": [
    "rfr = RandomForestRegressor(n_estimators=100,criterion='poisson',random_state=50)\n",
    "rfr.fit(x_train,y_train)\n",
    "rfr_y_pred = rfr.predict(x_test)\n",
    "rfr_r2 = r2_score(y_test,rfr_y_pred)\n",
    "rfr_mae = mean_absolute_error(y_test,rfr_y_pred)\n",
    "rfr_mse = mean_squared_error(y_test,rfr_y_pred)\n",
    "rfr_rmse = mean_squared_error(y_test,rfr_y_pred,squared=False)\n",
    "print (\"r2 Score:\",round(rfr_r2*100,2),'%')\n",
    "print (\"Mean Absolute Error:\",rfr_mae)\n",
    "print (\"Mean Squared Error:\",rfr_mse)\n",
    "print (\"Root Mean Squared Error:\",rfr_rmse)"
   ]
  },
  {
   "cell_type": "code",
   "execution_count": 313,
   "id": "8f7854a5",
   "metadata": {},
   "outputs": [
    {
     "name": "stdout",
     "output_type": "stream",
     "text": [
      "r2 Score: 46.33 %\n",
      "Mean Absolute Error: 1.4271672485355038\n",
      "Mean Squared Error: 3.5643646236972244\n",
      "Root Mean Squared Error: 1.88795249508488\n"
     ]
    }
   ],
   "source": [
    "#Ridge()\n",
    "\n",
    "r = Ridge()\n",
    "r.fit(x_train,y_train)\n",
    "r_y_pred = r.predict(x_test)\n",
    "r_r2 = r2_score(y_test,r_y_pred)\n",
    "r_mae = mean_absolute_error(y_test,r_y_pred)\n",
    "r_mse = mean_squared_error(y_test,r_y_pred)\n",
    "r_rmse = mean_squared_error(y_test,r_y_pred,squared=False)\n",
    "print (\"r2 Score:\",round(r_r2*100,2),'%')\n",
    "print (\"Mean Absolute Error:\",r_mae)\n",
    "print (\"Mean Squared Error:\",r_mse)\n",
    "print (\"Root Mean Squared Error:\",r_rmse)"
   ]
  },
  {
   "cell_type": "code",
   "execution_count": 314,
   "id": "eb2f3c53",
   "metadata": {},
   "outputs": [
    {
     "name": "stdout",
     "output_type": "stream",
     "text": [
      "r2 Score: 23.23 %\n",
      "Mean Absolute Error: 1.7127186852010419\n",
      "Mean Squared Error: 5.098757180198338\n",
      "Root Mean Squared Error: 2.258042776432355\n"
     ]
    }
   ],
   "source": [
    "#Lasso()\n",
    "\n",
    "l = Lasso()\n",
    "l.fit(x_train,y_train)\n",
    "l_y_pred = l.predict(x_test)\n",
    "l_r2 = r2_score(y_test,l_y_pred)\n",
    "l_mae = mean_absolute_error(y_test,l_y_pred)\n",
    "l_mse = mean_squared_error(y_test,l_y_pred)\n",
    "l_rmse = mean_squared_error(y_test,l_y_pred,squared=False)\n",
    "print (\"r2 Score:\",round(l_r2*100,2),'%')\n",
    "print (\"Mean Absolute Error:\",l_mae)\n",
    "print (\"Mean Squared Error:\",l_mse)\n",
    "print (\"Root Mean Squared Error:\",l_rmse)"
   ]
  },
  {
   "cell_type": "code",
   "execution_count": 316,
   "id": "68f73b2b",
   "metadata": {},
   "outputs": [
    {
     "data": {
      "text/plain": [
       "{'C': 10, 'gamma': 'auto', 'kernel': 'rbf'}"
      ]
     },
     "execution_count": 316,
     "metadata": {},
     "output_type": "execute_result"
    }
   ],
   "source": [
    "#SupportVectorRegression()\n",
    "\n",
    "svr=SVR()\n",
    "svr_para = {'kernel':['linear','poly','rbf','sigmoid'],'C':[1,10],'gamma':['scale','auto']}\n",
    "gsCV_svr = GridSearchCV(svr,svr_para)\n",
    "gsCV_svr.fit(x_train,y_train)\n",
    "gsCV_svr.best_params_"
   ]
  },
  {
   "cell_type": "code",
   "execution_count": 317,
   "id": "cf9f9b14",
   "metadata": {},
   "outputs": [
    {
     "name": "stdout",
     "output_type": "stream",
     "text": [
      "r2 Score: 49.35 %\n",
      "Mean Absolute Error: 1.3425689558529632\n",
      "Mean Squared Error: 3.364227095534051\n",
      "Root Mean Squared Error: 1.8341829503989102\n"
     ]
    }
   ],
   "source": [
    "svr = SVR(kernel='rbf',C=10,gamma='auto')\n",
    "svr.fit(x_train,y_train)\n",
    "svr_y_pred = svr.predict(x_test)\n",
    "svr_r2 = r2_score(y_test,svr_y_pred)\n",
    "svr_mae = mean_absolute_error(y_test,svr_y_pred)\n",
    "svr_mse = mean_squared_error(y_test,svr_y_pred)\n",
    "svr_rmse = mean_squared_error(y_test,svr_y_pred,squared=False)\n",
    "print (\"r2 Score:\",round(svr_r2*100,2),'%')\n",
    "print (\"Mean Absolute Error:\",svr_mae)\n",
    "print (\"Mean Squared Error:\",svr_mse)\n",
    "print (\"Root Mean Squared Error:\",svr_rmse)"
   ]
  },
  {
   "cell_type": "code",
   "execution_count": 320,
   "id": "6251b73d",
   "metadata": {},
   "outputs": [
    {
     "data": {
      "text/plain": [
       "{'criterion': 'mse', 'loss': 'huber', 'n_estimators': 150, 'random_state': 50}"
      ]
     },
     "execution_count": 320,
     "metadata": {},
     "output_type": "execute_result"
    }
   ],
   "source": [
    "#GradientBoostingRegression()\n",
    "\n",
    "gbr = GradientBoostingRegressor()\n",
    "gbr_para = {'n_estimators':range(0,250,50),'loss':['squared_error','absolute_error','huber','quantile'],'criterion':['friedman_mse','squared_error','mse'],'random_state':[1,50]}\n",
    "gsCV_gbr = GridSearchCV(gbr,gbr_para)\n",
    "gsCV_gbr.fit(x_train,y_train)\n",
    "gsCV_gbr.best_params_"
   ]
  },
  {
   "cell_type": "code",
   "execution_count": 321,
   "id": "cda34ff5",
   "metadata": {},
   "outputs": [
    {
     "name": "stdout",
     "output_type": "stream",
     "text": [
      "r2 Score: 46.69 %\n",
      "Mean Absolute Error: 1.3680146155583948\n",
      "Mean Squared Error: 3.5406319372717623\n",
      "Root Mean Squared Error: 1.8816567001639173\n"
     ]
    }
   ],
   "source": [
    "gbr = GradientBoostingRegressor(n_estimators=150,criterion='mse',loss='huber',random_state=50)\n",
    "gbr.fit(x_train,y_train)\n",
    "gbr_y_pred = gbr.predict(x_test)\n",
    "gbr_r2 = r2_score(y_test,gbr_y_pred)\n",
    "gbr_mae = mean_absolute_error(y_test,gbr_y_pred)\n",
    "gbr_mse = mean_squared_error(y_test,gbr_y_pred)\n",
    "gbr_rmse = mean_squared_error(y_test,gbr_y_pred,squared=False)\n",
    "print (\"r2 Score:\",round(gbr_r2*100,2),'%')\n",
    "print (\"Mean Absolute Error:\",gbr_mae)\n",
    "print (\"Mean Squared Error:\",gbr_mse)\n",
    "print (\"Root Mean Squared Error:\",gbr_rmse)"
   ]
  },
  {
   "cell_type": "code",
   "execution_count": 322,
   "id": "4d652702",
   "metadata": {},
   "outputs": [
    {
     "data": {
      "text/plain": [
       "{'algorithm': 'brute', 'n_neighbors': 9, 'weights': 'distance'}"
      ]
     },
     "execution_count": 322,
     "metadata": {},
     "output_type": "execute_result"
    }
   ],
   "source": [
    "#KNeighborsRegression()\n",
    "\n",
    "knr = KNeighborsRegressor()\n",
    "knr_para = {'n_neighbors':range(0,10),'weights':['uniform','distance'],'algorithm':['auto','ball_tree','kd_tree','brute']}\n",
    "gsCV_knr = GridSearchCV(knr,knr_para)\n",
    "gsCV_knr.fit(x_train,y_train)\n",
    "gsCV_knr.best_params_"
   ]
  },
  {
   "cell_type": "code",
   "execution_count": 323,
   "id": "9cad9193",
   "metadata": {},
   "outputs": [
    {
     "name": "stdout",
     "output_type": "stream",
     "text": [
      "r2 Score: 42.56 %\n",
      "Mean Absolute Error: 1.4618181818181817\n",
      "Mean Squared Error: 3.8149610389610396\n",
      "Root Mean Squared Error: 1.9531925248067687\n"
     ]
    }
   ],
   "source": [
    "knr = KNeighborsRegressor(n_neighbors=5)\n",
    "knr.fit(x_train,y_train)\n",
    "knr_y_pred = knr.predict(x_test)\n",
    "knr_r2 = r2_score(y_test,knr_y_pred)\n",
    "knr_mae = mean_absolute_error(y_test,knr_y_pred)\n",
    "knr_mse = mean_squared_error(y_test,knr_y_pred)\n",
    "knr_rmse = mean_squared_error(y_test,knr_y_pred,squared=False)\n",
    "print (\"r2 Score:\",round(knr_r2*100,2),'%')\n",
    "print (\"Mean Absolute Error:\",knr_mae)\n",
    "print (\"Mean Squared Error:\",knr_mse)\n",
    "print (\"Root Mean Squared Error:\",knr_rmse)"
   ]
  },
  {
   "cell_type": "code",
   "execution_count": 371,
   "id": "bacd6c0b",
   "metadata": {},
   "outputs": [
    {
     "data": {
      "text/plain": [
       "{'loss': 'linear', 'n_estimators': 50, 'random_state': 50}"
      ]
     },
     "execution_count": 371,
     "metadata": {},
     "output_type": "execute_result"
    }
   ],
   "source": [
    "#AdaBoostRegressor\n",
    "from sklearn.ensemble import AdaBoostRegressor\n",
    "\n",
    "ada = AdaBoostRegressor()\n",
    "ada_para = {'n_estimators':range(0,250,50),'loss':['linear','square','exponential'],'random_state':[0,50]}\n",
    "gsCV_ada = GridSearchCV(ada,ada_para)\n",
    "gsCV_ada.fit(x_train,y_train)\n",
    "gsCV_ada.best_params_"
   ]
  },
  {
   "cell_type": "code",
   "execution_count": 372,
   "id": "ae3524ee",
   "metadata": {},
   "outputs": [
    {
     "name": "stdout",
     "output_type": "stream",
     "text": [
      "r2 Score: 40.41 %\n",
      "Mean Absolute Error: 1.60711144890879\n",
      "Mean Squared Error: 3.9577044312298897\n",
      "Root Mean Squared Error: 1.9893980072448776\n"
     ]
    }
   ],
   "source": [
    "ada = AdaBoostRegressor(loss='linear',n_estimators=50,random_state=50)\n",
    "ada.fit(x_train,y_train)\n",
    "ada_y_pred = ada.predict(x_test)\n",
    "ada_r2 = r2_score(y_test,ada_y_pred)\n",
    "ada_mae = mean_absolute_error(y_test,ada_y_pred)\n",
    "ada_mse = mean_squared_error(y_test,ada_y_pred)\n",
    "ada_rmse = mean_squared_error(y_test,ada_y_pred,squared=False)\n",
    "print (\"r2 Score:\",round(ada_r2*100,2),'%')\n",
    "print (\"Mean Absolute Error:\",ada_mae)\n",
    "print (\"Mean Squared Error:\",ada_mse)\n",
    "print (\"Root Mean Squared Error:\",ada_rmse)"
   ]
  },
  {
   "cell_type": "markdown",
   "id": "001e054a",
   "metadata": {},
   "source": [
    "#### Comparing all the models"
   ]
  },
  {
   "cell_type": "code",
   "execution_count": 376,
   "id": "e7079dfd",
   "metadata": {},
   "outputs": [
    {
     "name": "stdout",
     "output_type": "stream",
     "text": [
      "--------------------------------------------------\n",
      "Model: Logistic Regression\n",
      "Accuracy: 25.45\n",
      "R2 Score: 37.86\n",
      "CV Score: 27.72\n",
      "MAE: 1.4337662337662338\n",
      "MSE: 4.127272727272727\n",
      "RMSE: 2.031569030890343\n",
      "--------------------------------------------------\n",
      "Model: RandomForestRegression\n",
      "Accuracy: 39.85\n",
      "R2 Score: 39.85\n",
      "CV Score: 31.59\n",
      "MAE: 1.4886363636363635\n",
      "MSE: 3.9946422077922077\n",
      "RMSE: 1.9986601031171378\n",
      "--------------------------------------------------\n",
      "Model: SupportVectorRegression\n",
      "Accuracy: 49.35\n",
      "R2 Score: 49.35\n",
      "CV Score: 48.98\n",
      "MAE: 1.3425689558529632\n",
      "MSE: 3.364227095534051\n",
      "RMSE: 1.8341829503989102\n",
      "--------------------------------------------------\n",
      "Model: ADABoostRegression\n",
      "Accuracy: 40.41\n",
      "R2 Score: 40.41\n",
      "CV Score: 21.68\n",
      "MAE: 1.60711144890879\n",
      "MSE: 3.9577044312298897\n",
      "RMSE: 1.9893980072448776\n",
      "--------------------------------------------------\n",
      "Model: KNeighborsRegression\n",
      "Accuracy: 42.56\n",
      "R2 Score: 42.56\n",
      "CV Score: 39.15\n",
      "MAE: 1.4618181818181817\n",
      "MSE: 3.8149610389610396\n",
      "RMSE: 1.9531925248067687\n",
      "--------------------------------------------------\n",
      "Model: GradientBoostingRegression\n",
      "Accuracy: 46.69\n",
      "R2 Score: 46.69\n",
      "CV Score: 45.95\n",
      "MAE: 1.3680146155583948\n",
      "MSE: 3.5406319372717623\n",
      "RMSE: 1.8816567001639173\n",
      "--------------------------------------------------\n",
      "Model: LinearRegression\n",
      "Accuracy: 46.35\n",
      "R2 Score: 46.35\n",
      "CV Score: 40.73\n",
      "MAE: 1.4268374104137371\n",
      "MSE: 3.563453102702629\n",
      "RMSE: 1.8877110750066148\n",
      "--------------------------------------------------\n",
      "Model: Lasso\n",
      "Accuracy: 23.23\n",
      "R2 Score: 23.23\n",
      "CV Score: 11.26\n",
      "MAE: 1.7127186852010419\n",
      "MSE: 5.098757180198338\n",
      "RMSE: 2.258042776432355\n",
      "--------------------------------------------------\n",
      "Model: Ridge\n",
      "Accuracy: 46.33\n",
      "R2 Score: 46.33\n",
      "CV Score: 40.73\n",
      "MAE: 1.4271672485355038\n",
      "MSE: 3.5643646236972244\n",
      "RMSE: 1.88795249508488\n"
     ]
    }
   ],
   "source": [
    "R2 = []\n",
    "MSE = []\n",
    "MAE = []\n",
    "RMSE = []\n",
    "CV = []\n",
    "accuracy = []\n",
    "model_name = []\n",
    "\n",
    "models = {'Logistic Regression':lg,'RandomForestRegression':rfr,'SupportVectorRegression':svr, 'ADABoostRegression':ada,\n",
    "         'KNeighborsRegression':knr,'GradientBoostingRegression':gbr,'LinearRegression':lreg,'Lasso':l,'Ridge':r}\n",
    "\n",
    "for i in models.keys():\n",
    "    model = models[i]\n",
    "    model.fit(x_train,y_train)\n",
    "    y_pred = model.predict(x_test)\n",
    "    test_score = model.score(x_test,y_test)\n",
    "    cv_score = cross_val_score(models[i],x,y).mean()\n",
    "    mae = mean_absolute_error(y_test,y_pred)\n",
    "    mse = mean_squared_error(y_test,y_pred)\n",
    "    rmse = mean_squared_error(y_test,y_pred,squared=False)\n",
    "    R2_S = r2_score(y_test,y_pred)\n",
    "    print('-'*50)\n",
    "    print(\"Model:\",i)\n",
    "    model_name.append(i)\n",
    "    print(\"Accuracy:\",round(test_score*100,2))\n",
    "    accuracy.append(round(test_score*100,2))\n",
    "    print(\"R2 Score:\",round(R2_S*100,2))\n",
    "    R2.append(round(R2_S*100,2))\n",
    "    print(\"CV Score:\",round(cv_score*100,2))\n",
    "    CV.append(round(cv_score*100,2))\n",
    "    print(\"MAE:\",mae)\n",
    "    MAE.append(mae)\n",
    "    print(\"MSE:\",mse)\n",
    "    MSE.append(mse)\n",
    "    print(\"RMSE:\",rmse)\n",
    "    RMSE.append(rmse)"
   ]
  },
  {
   "cell_type": "code",
   "execution_count": 379,
   "id": "3cdfb92a",
   "metadata": {},
   "outputs": [
    {
     "data": {
      "text/html": [
       "<div>\n",
       "<style scoped>\n",
       "    .dataframe tbody tr th:only-of-type {\n",
       "        vertical-align: middle;\n",
       "    }\n",
       "\n",
       "    .dataframe tbody tr th {\n",
       "        vertical-align: top;\n",
       "    }\n",
       "\n",
       "    .dataframe thead th {\n",
       "        text-align: right;\n",
       "    }\n",
       "</style>\n",
       "<table border=\"1\" class=\"dataframe\">\n",
       "  <thead>\n",
       "    <tr style=\"text-align: right;\">\n",
       "      <th></th>\n",
       "      <th>Model</th>\n",
       "      <th>Accuracy</th>\n",
       "      <th>CV Score</th>\n",
       "      <th>R2 Score</th>\n",
       "      <th>MSE</th>\n",
       "      <th>RMSE</th>\n",
       "      <th>MAE</th>\n",
       "    </tr>\n",
       "  </thead>\n",
       "  <tbody>\n",
       "    <tr>\n",
       "      <th>2</th>\n",
       "      <td>SupportVectorRegression</td>\n",
       "      <td>49.35</td>\n",
       "      <td>48.98</td>\n",
       "      <td>49.35</td>\n",
       "      <td>3.364227</td>\n",
       "      <td>1.834183</td>\n",
       "      <td>1.342569</td>\n",
       "    </tr>\n",
       "    <tr>\n",
       "      <th>5</th>\n",
       "      <td>GradientBoostingRegression</td>\n",
       "      <td>46.69</td>\n",
       "      <td>45.95</td>\n",
       "      <td>46.69</td>\n",
       "      <td>3.540632</td>\n",
       "      <td>1.881657</td>\n",
       "      <td>1.368015</td>\n",
       "    </tr>\n",
       "    <tr>\n",
       "      <th>6</th>\n",
       "      <td>LinearRegression</td>\n",
       "      <td>46.35</td>\n",
       "      <td>40.73</td>\n",
       "      <td>46.35</td>\n",
       "      <td>3.563453</td>\n",
       "      <td>1.887711</td>\n",
       "      <td>1.426837</td>\n",
       "    </tr>\n",
       "    <tr>\n",
       "      <th>8</th>\n",
       "      <td>Ridge</td>\n",
       "      <td>46.33</td>\n",
       "      <td>40.73</td>\n",
       "      <td>46.33</td>\n",
       "      <td>3.564365</td>\n",
       "      <td>1.887952</td>\n",
       "      <td>1.427167</td>\n",
       "    </tr>\n",
       "    <tr>\n",
       "      <th>4</th>\n",
       "      <td>KNeighborsRegression</td>\n",
       "      <td>42.56</td>\n",
       "      <td>39.15</td>\n",
       "      <td>42.56</td>\n",
       "      <td>3.814961</td>\n",
       "      <td>1.953193</td>\n",
       "      <td>1.461818</td>\n",
       "    </tr>\n",
       "    <tr>\n",
       "      <th>3</th>\n",
       "      <td>ADABoostRegression</td>\n",
       "      <td>40.41</td>\n",
       "      <td>21.68</td>\n",
       "      <td>40.41</td>\n",
       "      <td>3.957704</td>\n",
       "      <td>1.989398</td>\n",
       "      <td>1.607111</td>\n",
       "    </tr>\n",
       "    <tr>\n",
       "      <th>1</th>\n",
       "      <td>RandomForestRegression</td>\n",
       "      <td>39.85</td>\n",
       "      <td>31.59</td>\n",
       "      <td>39.85</td>\n",
       "      <td>3.994642</td>\n",
       "      <td>1.998660</td>\n",
       "      <td>1.488636</td>\n",
       "    </tr>\n",
       "    <tr>\n",
       "      <th>0</th>\n",
       "      <td>Logistic Regression</td>\n",
       "      <td>25.45</td>\n",
       "      <td>27.72</td>\n",
       "      <td>37.86</td>\n",
       "      <td>4.127273</td>\n",
       "      <td>2.031569</td>\n",
       "      <td>1.433766</td>\n",
       "    </tr>\n",
       "    <tr>\n",
       "      <th>7</th>\n",
       "      <td>Lasso</td>\n",
       "      <td>23.23</td>\n",
       "      <td>11.26</td>\n",
       "      <td>23.23</td>\n",
       "      <td>5.098757</td>\n",
       "      <td>2.258043</td>\n",
       "      <td>1.712719</td>\n",
       "    </tr>\n",
       "  </tbody>\n",
       "</table>\n",
       "</div>"
      ],
      "text/plain": [
       "                        Model  Accuracy  CV Score  R2 Score       MSE  \\\n",
       "2     SupportVectorRegression     49.35     48.98     49.35  3.364227   \n",
       "5  GradientBoostingRegression     46.69     45.95     46.69  3.540632   \n",
       "6            LinearRegression     46.35     40.73     46.35  3.563453   \n",
       "8                       Ridge     46.33     40.73     46.33  3.564365   \n",
       "4        KNeighborsRegression     42.56     39.15     42.56  3.814961   \n",
       "3          ADABoostRegression     40.41     21.68     40.41  3.957704   \n",
       "1      RandomForestRegression     39.85     31.59     39.85  3.994642   \n",
       "0         Logistic Regression     25.45     27.72     37.86  4.127273   \n",
       "7                       Lasso     23.23     11.26     23.23  5.098757   \n",
       "\n",
       "       RMSE       MAE  \n",
       "2  1.834183  1.342569  \n",
       "5  1.881657  1.368015  \n",
       "6  1.887711  1.426837  \n",
       "8  1.887952  1.427167  \n",
       "4  1.953193  1.461818  \n",
       "3  1.989398  1.607111  \n",
       "1  1.998660  1.488636  \n",
       "0  2.031569  1.433766  \n",
       "7  2.258043  1.712719  "
      ]
     },
     "execution_count": 379,
     "metadata": {},
     "output_type": "execute_result"
    }
   ],
   "source": [
    "model_df = pd.DataFrame({'Model':model_name,'Accuracy':accuracy,'CV Score':CV,'R2 Score':R2,'MSE':MSE,\n",
    "                        'RMSE':RMSE,'MAE':MAE})\n",
    "model_df.sort_values(by='Accuracy',ascending=False)"
   ]
  },
  {
   "cell_type": "raw",
   "id": "7fba03d7",
   "metadata": {},
   "source": [
    "The top 5 models:\n",
    "   1 - SVR (49.35%)\n",
    "   2 - GradientBoostingRegression (46.69%) \n",
    "   3 - LinearRegression (46.35%)\n",
    "   4 - Ridge (46.33%)\n",
    "   5 - KNR (42.56%)"
   ]
  },
  {
   "cell_type": "markdown",
   "id": "fa2bac69",
   "metadata": {},
   "source": [
    "#### Saving the file"
   ]
  },
  {
   "cell_type": "code",
   "execution_count": 380,
   "id": "f5dc3ec7",
   "metadata": {},
   "outputs": [],
   "source": [
    "file = \"Abalone_DataTrained\"\n",
    "pickle.dump(model_df,open(file,'wb'))"
   ]
  }
 ],
 "metadata": {
  "kernelspec": {
   "display_name": "Python 3 (ipykernel)",
   "language": "python",
   "name": "python3"
  },
  "language_info": {
   "codemirror_mode": {
    "name": "ipython",
    "version": 3
   },
   "file_extension": ".py",
   "mimetype": "text/x-python",
   "name": "python",
   "nbconvert_exporter": "python",
   "pygments_lexer": "ipython3",
   "version": "3.9.7"
  }
 },
 "nbformat": 4,
 "nbformat_minor": 5
}
